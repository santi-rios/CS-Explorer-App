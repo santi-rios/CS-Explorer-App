{
 "cells": [
  {
   "cell_type": "markdown",
   "metadata": {},
   "source": [
    "# Chemical Space Explorer - Function Testing Notebook\n",
    "\n",
    "Notebook to explore the app functionality by testing individual components and visualizing the outputs."
   ]
  },
  {
   "cell_type": "markdown",
   "metadata": {},
   "source": [
    "## 1. Setup and Library Imports"
   ]
  },
  {
   "cell_type": "code",
   "execution_count": 13,
   "metadata": {},
   "outputs": [
    {
     "name": "stdout",
     "output_type": "stream",
     "text": [
      "Successfully imported functions from utils/functions.py\n"
     ]
    }
   ],
   "source": [
    "# Import all necessary libraries\n",
    "import pandas as pd\n",
    "import numpy as np\n",
    "import plotly.graph_objects as go\n",
    "import plotly.express as px\n",
    "import geopandas as gpd\n",
    "import folium\n",
    "from folium import plugins\n",
    "from typing import List, Dict, Optional, Tuple\n",
    "import os\n",
    "import json\n",
    "\n",
    "# Import helper functions from app.py\n",
    "from app import create_trends_plot, create_contribution_choropleth, create_summary_dataframe\n",
    "from app import create_article_plot, create_top_trends_plot, create_empty_plot\n",
    "\n",
    "# Check to see if utils/functions.py exists and import it if it does\n",
    "try:\n",
    "    from utils.functions import load_country_data, get_display_data, create_main_plot\n",
    "    from utils.functions import create_contribution_map_plot, create_summary_table\n",
    "    from utils.functions import calculate_top_contributors, create_article_plot_simple\n",
    "    from utils.functions import create_top_collabs_plot\n",
    "    USE_UTILS = True\n",
    "    print(\"Successfully imported functions from utils/functions.py\")\n",
    "except ImportError:\n",
    "    USE_UTILS = False\n",
    "    print(\"Could not import from utils/functions.py - will use functions from app.py instead\")"
   ]
  },
  {
   "cell_type": "markdown",
   "metadata": {},
   "source": [
    "## 2. Data Loading and Exploration\n",
    "\n",
    "Let's first test loading the data and explore its structure."
   ]
  },
  {
   "cell_type": "code",
   "execution_count": 14,
   "metadata": {},
   "outputs": [
    {
     "name": "stdout",
     "output_type": "stream",
     "text": [
      "Data file exists: True\n",
      "Successfully loaded data with shape: (106855, 22)\n",
      "\n",
      "Data columns:\n",
      "- iso2c\n",
      "- year\n",
      "- value_raw\n",
      "- percentage\n",
      "- chemical\n",
      "- iso3c\n",
      "- country\n",
      "- is_collab\n",
      "- lat\n",
      "- lng\n",
      "- region\n",
      "- cc\n",
      "- flags\n",
      "- country_x\n",
      "- iso2c_x\n",
      "- year_x\n",
      "- percentage_x\n",
      "- source\n",
      "- condition\n",
      "- blue_group\n",
      "- red_group\n",
      "- color_group\n",
      "\n",
      "First 5 rows of data:\n"
     ]
    },
    {
     "data": {
      "text/html": [
       "<div>\n",
       "<style scoped>\n",
       "    .dataframe tbody tr th:only-of-type {\n",
       "        vertical-align: middle;\n",
       "    }\n",
       "\n",
       "    .dataframe tbody tr th {\n",
       "        vertical-align: top;\n",
       "    }\n",
       "\n",
       "    .dataframe thead th {\n",
       "        text-align: right;\n",
       "    }\n",
       "</style>\n",
       "<table border=\"1\" class=\"dataframe\">\n",
       "  <thead>\n",
       "    <tr style=\"text-align: right;\">\n",
       "      <th></th>\n",
       "      <th>iso2c</th>\n",
       "      <th>year</th>\n",
       "      <th>value_raw</th>\n",
       "      <th>percentage</th>\n",
       "      <th>chemical</th>\n",
       "      <th>iso3c</th>\n",
       "      <th>country</th>\n",
       "      <th>is_collab</th>\n",
       "      <th>lat</th>\n",
       "      <th>lng</th>\n",
       "      <th>...</th>\n",
       "      <th>flags</th>\n",
       "      <th>country_x</th>\n",
       "      <th>iso2c_x</th>\n",
       "      <th>year_x</th>\n",
       "      <th>percentage_x</th>\n",
       "      <th>source</th>\n",
       "      <th>condition</th>\n",
       "      <th>blue_group</th>\n",
       "      <th>red_group</th>\n",
       "      <th>color_group</th>\n",
       "    </tr>\n",
       "  </thead>\n",
       "  <tbody>\n",
       "    <tr>\n",
       "      <th>0</th>\n",
       "      <td>CN</td>\n",
       "      <td>2022.0</td>\n",
       "      <td>281517.0</td>\n",
       "      <td>41.4100</td>\n",
       "      <td>All</td>\n",
       "      <td>CHN</td>\n",
       "      <td>China</td>\n",
       "      <td>False</td>\n",
       "      <td>35.082435</td>\n",
       "      <td>106.847575</td>\n",
       "      <td>...</td>\n",
       "      <td>\"https://flagcdn.com/16x12/cn.png\"</td>\n",
       "      <td></td>\n",
       "      <td></td>\n",
       "      <td>NaN</td>\n",
       "      <td>NaN</td>\n",
       "      <td></td>\n",
       "      <td></td>\n",
       "      <td>False</td>\n",
       "      <td>False</td>\n",
       "      <td>other</td>\n",
       "    </tr>\n",
       "    <tr>\n",
       "      <th>1</th>\n",
       "      <td>CN</td>\n",
       "      <td>2022.0</td>\n",
       "      <td>273153.0</td>\n",
       "      <td>34.1009</td>\n",
       "      <td>Organic</td>\n",
       "      <td>CHN</td>\n",
       "      <td>China</td>\n",
       "      <td>False</td>\n",
       "      <td>35.082435</td>\n",
       "      <td>106.847575</td>\n",
       "      <td>...</td>\n",
       "      <td>\"https://flagcdn.com/16x12/cn.png\"</td>\n",
       "      <td></td>\n",
       "      <td></td>\n",
       "      <td>NaN</td>\n",
       "      <td>NaN</td>\n",
       "      <td></td>\n",
       "      <td></td>\n",
       "      <td>False</td>\n",
       "      <td>False</td>\n",
       "      <td>other</td>\n",
       "    </tr>\n",
       "    <tr>\n",
       "      <th>2</th>\n",
       "      <td>CN</td>\n",
       "      <td>2015.0</td>\n",
       "      <td>3881.0</td>\n",
       "      <td>41.1300</td>\n",
       "      <td>Rare-Earths</td>\n",
       "      <td>CHN</td>\n",
       "      <td>China</td>\n",
       "      <td>False</td>\n",
       "      <td>35.082435</td>\n",
       "      <td>106.847575</td>\n",
       "      <td>...</td>\n",
       "      <td>\"https://flagcdn.com/16x12/cn.png\"</td>\n",
       "      <td></td>\n",
       "      <td></td>\n",
       "      <td>NaN</td>\n",
       "      <td>NaN</td>\n",
       "      <td></td>\n",
       "      <td></td>\n",
       "      <td>False</td>\n",
       "      <td>False</td>\n",
       "      <td>other</td>\n",
       "    </tr>\n",
       "    <tr>\n",
       "      <th>3</th>\n",
       "      <td>CN</td>\n",
       "      <td>2019.0</td>\n",
       "      <td>3852.0</td>\n",
       "      <td>40.0300</td>\n",
       "      <td>Rare-Earths</td>\n",
       "      <td>CHN</td>\n",
       "      <td>China</td>\n",
       "      <td>False</td>\n",
       "      <td>35.082435</td>\n",
       "      <td>106.847575</td>\n",
       "      <td>...</td>\n",
       "      <td>\"https://flagcdn.com/16x12/cn.png\"</td>\n",
       "      <td></td>\n",
       "      <td></td>\n",
       "      <td>NaN</td>\n",
       "      <td>NaN</td>\n",
       "      <td></td>\n",
       "      <td></td>\n",
       "      <td>False</td>\n",
       "      <td>False</td>\n",
       "      <td>other</td>\n",
       "    </tr>\n",
       "    <tr>\n",
       "      <th>4</th>\n",
       "      <td>CN</td>\n",
       "      <td>2022.0</td>\n",
       "      <td>3380.0</td>\n",
       "      <td>38.5800</td>\n",
       "      <td>Rare-Earths</td>\n",
       "      <td>CHN</td>\n",
       "      <td>China</td>\n",
       "      <td>False</td>\n",
       "      <td>35.082435</td>\n",
       "      <td>106.847575</td>\n",
       "      <td>...</td>\n",
       "      <td>\"https://flagcdn.com/16x12/cn.png\"</td>\n",
       "      <td></td>\n",
       "      <td></td>\n",
       "      <td>NaN</td>\n",
       "      <td>NaN</td>\n",
       "      <td></td>\n",
       "      <td></td>\n",
       "      <td>False</td>\n",
       "      <td>False</td>\n",
       "      <td>other</td>\n",
       "    </tr>\n",
       "  </tbody>\n",
       "</table>\n",
       "<p>5 rows × 22 columns</p>\n",
       "</div>"
      ],
      "text/plain": [
       "  iso2c    year  value_raw  percentage     chemical iso3c country is_collab  \\\n",
       "0    CN  2022.0   281517.0     41.4100          All   CHN   China     False   \n",
       "1    CN  2022.0   273153.0     34.1009      Organic   CHN   China     False   \n",
       "2    CN  2015.0     3881.0     41.1300  Rare-Earths   CHN   China     False   \n",
       "3    CN  2019.0     3852.0     40.0300  Rare-Earths   CHN   China     False   \n",
       "4    CN  2022.0     3380.0     38.5800  Rare-Earths   CHN   China     False   \n",
       "\n",
       "         lat         lng  ...                               flags country_x  \\\n",
       "0  35.082435  106.847575  ...  \"https://flagcdn.com/16x12/cn.png\"             \n",
       "1  35.082435  106.847575  ...  \"https://flagcdn.com/16x12/cn.png\"             \n",
       "2  35.082435  106.847575  ...  \"https://flagcdn.com/16x12/cn.png\"             \n",
       "3  35.082435  106.847575  ...  \"https://flagcdn.com/16x12/cn.png\"             \n",
       "4  35.082435  106.847575  ...  \"https://flagcdn.com/16x12/cn.png\"             \n",
       "\n",
       "  iso2c_x year_x percentage_x  source  condition blue_group red_group  \\\n",
       "0            NaN          NaN                         False     False   \n",
       "1            NaN          NaN                         False     False   \n",
       "2            NaN          NaN                         False     False   \n",
       "3            NaN          NaN                         False     False   \n",
       "4            NaN          NaN                         False     False   \n",
       "\n",
       "   color_group  \n",
       "0        other  \n",
       "1        other  \n",
       "2        other  \n",
       "3        other  \n",
       "4        other  \n",
       "\n",
       "[5 rows x 22 columns]"
      ]
     },
     "metadata": {},
     "output_type": "display_data"
    }
   ],
   "source": [
    "# Check if data exists\n",
    "DATA_PATH = \"./data/data.parquet\"\n",
    "print(f\"Data file exists: {os.path.exists(DATA_PATH)}\")\n",
    "\n",
    "# Try loading the data\n",
    "try:\n",
    "    df = pd.read_parquet(DATA_PATH)\n",
    "    print(f\"Successfully loaded data with shape: {df.shape}\")\n",
    "    \n",
    "    # Display basic info about the data\n",
    "    print(\"\\nData columns:\")\n",
    "    for col in df.columns:\n",
    "        print(f\"- {col}\")\n",
    "        \n",
    "    # Display a few rows\n",
    "    print(\"\\nFirst 5 rows of data:\")\n",
    "    display(df.head())\n",
    "    \n",
    "except Exception as e:\n",
    "    print(f\"Error loading data: {e}\")\n",
    "    # Create dummy data for testing if needed\n",
    "    print(\"\\nCreating dummy data for testing...\")\n",
    "    df = pd.DataFrame({\n",
    "        'year': list(range(2000, 2023)) * 3,\n",
    "        'country': ['United States'] * 23 + ['China'] * 23 + ['Germany'] * 23,\n",
    "        'iso2c': ['US'] * 23 + ['CN'] * 23 + ['DE'] * 23,\n",
    "        'region': ['Americas'] * 23 + ['Asia'] * 23 + ['Europe'] * 23,\n",
    "        'chemical': ['All'] * 69,\n",
    "        'percentage': np.random.uniform(1, 10, 69),\n",
    "        'lat': [38] * 23 + [35] * 23 + [51] * 23, \n",
    "        'lng': [-97] * 23 + [105] * 23 + [10] * 23,\n",
    "        'cc': ['#1f77b4'] * 23 + ['#ff7f0e'] * 23 + ['#2ca02c'] * 23,\n",
    "        'is_collab': [False] * 69\n",
    "    })"
   ]
  },
  {
   "cell_type": "markdown",
   "metadata": {},
   "source": [
    "### 2.1 Process Country List\n",
    "\n",
    "Now let's process the country list which is used for the map and filters."
   ]
  },
  {
   "cell_type": "code",
   "execution_count": 15,
   "metadata": {},
   "outputs": [
    {
     "name": "stdout",
     "output_type": "stream",
     "text": [
      "Processed country list with 155 countries\n"
     ]
    },
    {
     "data": {
      "text/html": [
       "<div>\n",
       "<style scoped>\n",
       "    .dataframe tbody tr th:only-of-type {\n",
       "        vertical-align: middle;\n",
       "    }\n",
       "\n",
       "    .dataframe tbody tr th {\n",
       "        vertical-align: top;\n",
       "    }\n",
       "\n",
       "    .dataframe thead th {\n",
       "        text-align: right;\n",
       "    }\n",
       "</style>\n",
       "<table border=\"1\" class=\"dataframe\">\n",
       "  <thead>\n",
       "    <tr style=\"text-align: right;\">\n",
       "      <th></th>\n",
       "      <th>iso2c</th>\n",
       "      <th>year</th>\n",
       "      <th>value_raw</th>\n",
       "      <th>percentage</th>\n",
       "      <th>chemical</th>\n",
       "      <th>iso3c</th>\n",
       "      <th>country</th>\n",
       "      <th>is_collab</th>\n",
       "      <th>lat</th>\n",
       "      <th>lng</th>\n",
       "      <th>...</th>\n",
       "      <th>flags</th>\n",
       "      <th>country_x</th>\n",
       "      <th>iso2c_x</th>\n",
       "      <th>year_x</th>\n",
       "      <th>percentage_x</th>\n",
       "      <th>source</th>\n",
       "      <th>condition</th>\n",
       "      <th>blue_group</th>\n",
       "      <th>red_group</th>\n",
       "      <th>color_group</th>\n",
       "    </tr>\n",
       "  </thead>\n",
       "  <tbody>\n",
       "    <tr>\n",
       "      <th>0</th>\n",
       "      <td>DZ</td>\n",
       "      <td>2002.0</td>\n",
       "      <td>18.0</td>\n",
       "      <td>0.208841</td>\n",
       "      <td>Rare-Earths</td>\n",
       "      <td>DZA</td>\n",
       "      <td>Algeria</td>\n",
       "      <td>False</td>\n",
       "      <td>29.228078</td>\n",
       "      <td>1.780595</td>\n",
       "      <td>...</td>\n",
       "      <td>\"https://cdn.rawgit.com/lipis/flag-icon-css/ma...</td>\n",
       "      <td></td>\n",
       "      <td></td>\n",
       "      <td>NaN</td>\n",
       "      <td>NaN</td>\n",
       "      <td></td>\n",
       "      <td></td>\n",
       "      <td>False</td>\n",
       "      <td>False</td>\n",
       "      <td>other</td>\n",
       "    </tr>\n",
       "    <tr>\n",
       "      <th>1</th>\n",
       "      <td>AR</td>\n",
       "      <td>2002.0</td>\n",
       "      <td>35.0</td>\n",
       "      <td>0.406080</td>\n",
       "      <td>Rare-Earths</td>\n",
       "      <td>ARG</td>\n",
       "      <td>Argentina</td>\n",
       "      <td>False</td>\n",
       "      <td>-37.659340</td>\n",
       "      <td>-65.459390</td>\n",
       "      <td>...</td>\n",
       "      <td>\"https://cdn.rawgit.com/lipis/flag-icon-css/ma...</td>\n",
       "      <td></td>\n",
       "      <td></td>\n",
       "      <td>NaN</td>\n",
       "      <td>NaN</td>\n",
       "      <td></td>\n",
       "      <td></td>\n",
       "      <td>False</td>\n",
       "      <td>False</td>\n",
       "      <td>other</td>\n",
       "    </tr>\n",
       "    <tr>\n",
       "      <th>2</th>\n",
       "      <td>AM</td>\n",
       "      <td>2001.0</td>\n",
       "      <td>338.0</td>\n",
       "      <td>0.110226</td>\n",
       "      <td>Organic</td>\n",
       "      <td>ARM</td>\n",
       "      <td>Armenia</td>\n",
       "      <td>False</td>\n",
       "      <td>40.210921</td>\n",
       "      <td>45.233042</td>\n",
       "      <td>...</td>\n",
       "      <td>\"https://cdn.rawgit.com/lipis/flag-icon-css/ma...</td>\n",
       "      <td></td>\n",
       "      <td></td>\n",
       "      <td>NaN</td>\n",
       "      <td>NaN</td>\n",
       "      <td></td>\n",
       "      <td></td>\n",
       "      <td>False</td>\n",
       "      <td>False</td>\n",
       "      <td>other</td>\n",
       "    </tr>\n",
       "    <tr>\n",
       "      <th>3</th>\n",
       "      <td>AU</td>\n",
       "      <td>2000.0</td>\n",
       "      <td>845.0</td>\n",
       "      <td>2.067582</td>\n",
       "      <td>Organometallic</td>\n",
       "      <td>AUS</td>\n",
       "      <td>Australia</td>\n",
       "      <td>False</td>\n",
       "      <td>-25.182997</td>\n",
       "      <td>136.998543</td>\n",
       "      <td>...</td>\n",
       "      <td>\"https://cdn.rawgit.com/lipis/flag-icon-css/ma...</td>\n",
       "      <td></td>\n",
       "      <td></td>\n",
       "      <td>NaN</td>\n",
       "      <td>NaN</td>\n",
       "      <td></td>\n",
       "      <td></td>\n",
       "      <td>False</td>\n",
       "      <td>False</td>\n",
       "      <td>other</td>\n",
       "    </tr>\n",
       "    <tr>\n",
       "      <th>4</th>\n",
       "      <td>AT</td>\n",
       "      <td>2005.0</td>\n",
       "      <td>274.0</td>\n",
       "      <td>0.620022</td>\n",
       "      <td>Organometallic</td>\n",
       "      <td>AUT</td>\n",
       "      <td>Austria</td>\n",
       "      <td>False</td>\n",
       "      <td>47.579732</td>\n",
       "      <td>13.473366</td>\n",
       "      <td>...</td>\n",
       "      <td>\"https://cdn.rawgit.com/lipis/flag-icon-css/ma...</td>\n",
       "      <td></td>\n",
       "      <td></td>\n",
       "      <td>NaN</td>\n",
       "      <td>NaN</td>\n",
       "      <td></td>\n",
       "      <td></td>\n",
       "      <td>False</td>\n",
       "      <td>False</td>\n",
       "      <td>other</td>\n",
       "    </tr>\n",
       "  </tbody>\n",
       "</table>\n",
       "<p>5 rows × 22 columns</p>\n",
       "</div>"
      ],
      "text/plain": [
       "  iso2c    year  value_raw  percentage        chemical iso3c    country  \\\n",
       "0    DZ  2002.0       18.0    0.208841     Rare-Earths   DZA    Algeria   \n",
       "1    AR  2002.0       35.0    0.406080     Rare-Earths   ARG  Argentina   \n",
       "2    AM  2001.0      338.0    0.110226         Organic   ARM    Armenia   \n",
       "3    AU  2000.0      845.0    2.067582  Organometallic   AUS  Australia   \n",
       "4    AT  2005.0      274.0    0.620022  Organometallic   AUT    Austria   \n",
       "\n",
       "  is_collab        lat         lng  ...  \\\n",
       "0     False  29.228078    1.780595  ...   \n",
       "1     False -37.659340  -65.459390  ...   \n",
       "2     False  40.210921   45.233042  ...   \n",
       "3     False -25.182997  136.998543  ...   \n",
       "4     False  47.579732   13.473366  ...   \n",
       "\n",
       "                                               flags country_x iso2c_x year_x  \\\n",
       "0  \"https://cdn.rawgit.com/lipis/flag-icon-css/ma...                      NaN   \n",
       "1  \"https://cdn.rawgit.com/lipis/flag-icon-css/ma...                      NaN   \n",
       "2  \"https://cdn.rawgit.com/lipis/flag-icon-css/ma...                      NaN   \n",
       "3  \"https://cdn.rawgit.com/lipis/flag-icon-css/ma...                      NaN   \n",
       "4  \"https://cdn.rawgit.com/lipis/flag-icon-css/ma...                      NaN   \n",
       "\n",
       "  percentage_x  source  condition blue_group red_group  color_group  \n",
       "0          NaN                         False     False        other  \n",
       "1          NaN                         False     False        other  \n",
       "2          NaN                         False     False        other  \n",
       "3          NaN                         False     False        other  \n",
       "4          NaN                         False     False        other  \n",
       "\n",
       "[5 rows x 22 columns]"
      ]
     },
     "metadata": {},
     "output_type": "display_data"
    },
    {
     "name": "stdout",
     "output_type": "stream",
     "text": [
      "\n",
      "Chemical categories: ['', 'All', 'Organic', 'Organometallic', 'Rare-Earths']\n",
      "Regions: ['Africa', 'Asia', 'Europe', 'North America', 'Oceania', 'South America']\n",
      "Year range: 1996 to 2022\n"
     ]
    }
   ],
   "source": [
    "# Process country list\n",
    "country_list = (\n",
    "    df[df['is_collab'] == False]\n",
    "    .drop_duplicates(subset=['country', 'iso2c', 'lat', 'lng', 'cc', 'region'])\n",
    "    .dropna(subset=['country', 'iso2c'])\n",
    "    .query(\"country != '' and iso2c != ''\")\n",
    "    .fillna({'region': 'Other'})\n",
    "    .sort_values('country')\n",
    "    .reset_index(drop=True)\n",
    ")\n",
    "\n",
    "print(f\"Processed country list with {len(country_list)} countries\")\n",
    "display(country_list.head())\n",
    "\n",
    "# Extract other UI elements\n",
    "chemical_categories = sorted(df['chemical'].dropna().unique())\n",
    "regions = sorted(country_list['region'].unique())\n",
    "min_year = int(df['year'].min())\n",
    "max_year = int(df['year'].max())\n",
    "\n",
    "print(f\"\\nChemical categories: {chemical_categories}\")\n",
    "print(f\"Regions: {regions}\")\n",
    "print(f\"Year range: {min_year} to {max_year}\")"
   ]
  },
  {
   "cell_type": "markdown",
   "metadata": {},
   "source": [
    "## 3. Testing Helper Functions\n",
    "\n",
    "Now let's test each of the helper functions to see how they work."
   ]
  },
  {
   "cell_type": "markdown",
   "metadata": {},
   "source": [
    "### 3.1 Testing Data Filtering\n",
    "\n",
    "Data filtering functionality is used to process data based on user selections."
   ]
  },
  {
   "cell_type": "code",
   "execution_count": 16,
   "metadata": {},
   "outputs": [
    {
     "name": "stdout",
     "output_type": "stream",
     "text": [
      "Filtered data shape: (106208, 22)\n",
      "Individual country data shape: (216, 22)\n",
      "Collaboration data shape: (21223, 22)\n"
     ]
    },
    {
     "name": "stderr",
     "output_type": "stream",
     "text": [
      "/tmp/ipykernel_67544/2683282692.py:32: UserWarning:\n",
      "\n",
      "Boolean Series key will be reindexed to match DataFrame index.\n",
      "\n"
     ]
    },
    {
     "data": {
      "text/html": [
       "<div>\n",
       "<style scoped>\n",
       "    .dataframe tbody tr th:only-of-type {\n",
       "        vertical-align: middle;\n",
       "    }\n",
       "\n",
       "    .dataframe tbody tr th {\n",
       "        vertical-align: top;\n",
       "    }\n",
       "\n",
       "    .dataframe thead th {\n",
       "        text-align: right;\n",
       "    }\n",
       "</style>\n",
       "<table border=\"1\" class=\"dataframe\">\n",
       "  <thead>\n",
       "    <tr style=\"text-align: right;\">\n",
       "      <th></th>\n",
       "      <th>iso2c</th>\n",
       "      <th>year</th>\n",
       "      <th>value_raw</th>\n",
       "      <th>percentage</th>\n",
       "      <th>chemical</th>\n",
       "      <th>iso3c</th>\n",
       "      <th>country</th>\n",
       "      <th>is_collab</th>\n",
       "      <th>lat</th>\n",
       "      <th>lng</th>\n",
       "      <th>...</th>\n",
       "      <th>flags</th>\n",
       "      <th>country_x</th>\n",
       "      <th>iso2c_x</th>\n",
       "      <th>year_x</th>\n",
       "      <th>percentage_x</th>\n",
       "      <th>source</th>\n",
       "      <th>condition</th>\n",
       "      <th>blue_group</th>\n",
       "      <th>red_group</th>\n",
       "      <th>color_group</th>\n",
       "    </tr>\n",
       "  </thead>\n",
       "  <tbody>\n",
       "    <tr>\n",
       "      <th>1169</th>\n",
       "      <td>AE-AU-CN-FI-FR-GB-IT-US</td>\n",
       "      <td>2015.0</td>\n",
       "      <td>12.0</td>\n",
       "      <td>0.001913</td>\n",
       "      <td>All</td>\n",
       "      <td>ARE-AUS-CHN-FIN-FRA-GBR-ITA-USA</td>\n",
       "      <td>United Arab Emirates, Australia, China, Finlan...</td>\n",
       "      <td>True</td>\n",
       "      <td>NaN</td>\n",
       "      <td>NaN</td>\n",
       "      <td>...</td>\n",
       "      <td></td>\n",
       "      <td></td>\n",
       "      <td></td>\n",
       "      <td>NaN</td>\n",
       "      <td>NaN</td>\n",
       "      <td></td>\n",
       "      <td></td>\n",
       "      <td>False</td>\n",
       "      <td>False</td>\n",
       "      <td>other</td>\n",
       "    </tr>\n",
       "    <tr>\n",
       "      <th>1186</th>\n",
       "      <td>AE-AU-CN-FI-FR-GB-IT-US</td>\n",
       "      <td>2015.0</td>\n",
       "      <td>11.0</td>\n",
       "      <td>0.001821</td>\n",
       "      <td>Organic</td>\n",
       "      <td>ARE-AUS-CHN-FIN-FRA-GBR-ITA-USA</td>\n",
       "      <td>United Arab Emirates, Australia, China, Finlan...</td>\n",
       "      <td>True</td>\n",
       "      <td>NaN</td>\n",
       "      <td>NaN</td>\n",
       "      <td>...</td>\n",
       "      <td></td>\n",
       "      <td></td>\n",
       "      <td></td>\n",
       "      <td>NaN</td>\n",
       "      <td>NaN</td>\n",
       "      <td></td>\n",
       "      <td></td>\n",
       "      <td>False</td>\n",
       "      <td>False</td>\n",
       "      <td>other</td>\n",
       "    </tr>\n",
       "    <tr>\n",
       "      <th>1621</th>\n",
       "      <td>AE-CM-ES-FR-US</td>\n",
       "      <td>2021.0</td>\n",
       "      <td>9.0</td>\n",
       "      <td>0.001285</td>\n",
       "      <td>Organic</td>\n",
       "      <td>ARE-CMR-ESP-FRA-USA</td>\n",
       "      <td>United Arab Emirates, Cameroon, Spain, France,...</td>\n",
       "      <td>True</td>\n",
       "      <td>NaN</td>\n",
       "      <td>NaN</td>\n",
       "      <td>...</td>\n",
       "      <td></td>\n",
       "      <td></td>\n",
       "      <td></td>\n",
       "      <td>NaN</td>\n",
       "      <td>NaN</td>\n",
       "      <td></td>\n",
       "      <td></td>\n",
       "      <td>False</td>\n",
       "      <td>False</td>\n",
       "      <td>other</td>\n",
       "    </tr>\n",
       "    <tr>\n",
       "      <th>1622</th>\n",
       "      <td>AE-CM-ES-FR-US</td>\n",
       "      <td>2021.0</td>\n",
       "      <td>9.0</td>\n",
       "      <td>0.001250</td>\n",
       "      <td>All</td>\n",
       "      <td>ARE-CMR-ESP-FRA-USA</td>\n",
       "      <td>United Arab Emirates, Cameroon, Spain, France,...</td>\n",
       "      <td>True</td>\n",
       "      <td>NaN</td>\n",
       "      <td>NaN</td>\n",
       "      <td>...</td>\n",
       "      <td></td>\n",
       "      <td></td>\n",
       "      <td></td>\n",
       "      <td>NaN</td>\n",
       "      <td>NaN</td>\n",
       "      <td></td>\n",
       "      <td></td>\n",
       "      <td>False</td>\n",
       "      <td>False</td>\n",
       "      <td>other</td>\n",
       "    </tr>\n",
       "    <tr>\n",
       "      <th>1637</th>\n",
       "      <td>AE-CN</td>\n",
       "      <td>2018.0</td>\n",
       "      <td>1.0</td>\n",
       "      <td>0.009413</td>\n",
       "      <td>Rare-Earths</td>\n",
       "      <td>ARE-CHN</td>\n",
       "      <td>United Arab Emirates, China</td>\n",
       "      <td>True</td>\n",
       "      <td>NaN</td>\n",
       "      <td>NaN</td>\n",
       "      <td>...</td>\n",
       "      <td></td>\n",
       "      <td></td>\n",
       "      <td></td>\n",
       "      <td>NaN</td>\n",
       "      <td>NaN</td>\n",
       "      <td></td>\n",
       "      <td></td>\n",
       "      <td>False</td>\n",
       "      <td>False</td>\n",
       "      <td>other</td>\n",
       "    </tr>\n",
       "  </tbody>\n",
       "</table>\n",
       "<p>5 rows × 22 columns</p>\n",
       "</div>"
      ],
      "text/plain": [
       "                        iso2c    year  value_raw  percentage     chemical  \\\n",
       "1169  AE-AU-CN-FI-FR-GB-IT-US  2015.0       12.0    0.001913          All   \n",
       "1186  AE-AU-CN-FI-FR-GB-IT-US  2015.0       11.0    0.001821      Organic   \n",
       "1621           AE-CM-ES-FR-US  2021.0        9.0    0.001285      Organic   \n",
       "1622           AE-CM-ES-FR-US  2021.0        9.0    0.001250          All   \n",
       "1637                    AE-CN  2018.0        1.0    0.009413  Rare-Earths   \n",
       "\n",
       "                                iso3c  \\\n",
       "1169  ARE-AUS-CHN-FIN-FRA-GBR-ITA-USA   \n",
       "1186  ARE-AUS-CHN-FIN-FRA-GBR-ITA-USA   \n",
       "1621              ARE-CMR-ESP-FRA-USA   \n",
       "1622              ARE-CMR-ESP-FRA-USA   \n",
       "1637                          ARE-CHN   \n",
       "\n",
       "                                                country is_collab  lat  lng  \\\n",
       "1169  United Arab Emirates, Australia, China, Finlan...      True  NaN  NaN   \n",
       "1186  United Arab Emirates, Australia, China, Finlan...      True  NaN  NaN   \n",
       "1621  United Arab Emirates, Cameroon, Spain, France,...      True  NaN  NaN   \n",
       "1622  United Arab Emirates, Cameroon, Spain, France,...      True  NaN  NaN   \n",
       "1637                        United Arab Emirates, China      True  NaN  NaN   \n",
       "\n",
       "      ... flags country_x iso2c_x year_x percentage_x  source  condition  \\\n",
       "1169  ...                            NaN          NaN                      \n",
       "1186  ...                            NaN          NaN                      \n",
       "1621  ...                            NaN          NaN                      \n",
       "1622  ...                            NaN          NaN                      \n",
       "1637  ...                            NaN          NaN                      \n",
       "\n",
       "     blue_group red_group  color_group  \n",
       "1169      False     False        other  \n",
       "1186      False     False        other  \n",
       "1621      False     False        other  \n",
       "1622      False     False        other  \n",
       "1637      False     False        other  \n",
       "\n",
       "[5 rows x 22 columns]"
      ]
     },
     "metadata": {},
     "output_type": "display_data"
    }
   ],
   "source": [
    "# Define sample selection parameters\n",
    "selected_countries = ['US', 'CN']  # Example ISO codes\n",
    "year_range = (1996, 2022)  # Example year range\n",
    "chemical_category = chemical_categories[1]  # First chemical category\n",
    "\n",
    "# Filter base data\n",
    "filtered_df = df[\n",
    "    (df['year'] >= year_range[0]) & \n",
    "    (df['year'] <= year_range[1])\n",
    "]\n",
    "\n",
    "if chemical_category != \"All\":\n",
    "    filtered_df = filtered_df[filtered_df['chemical'] == chemical_category]\n",
    "    \n",
    "# Get individual country data\n",
    "individual_data = filtered_df[\n",
    "    (filtered_df['is_collab'] == False) & \n",
    "    (filtered_df['iso2c'].isin(selected_countries))\n",
    "]\n",
    "\n",
    "print(f\"Filtered data shape: {filtered_df.shape}\")\n",
    "print(f\"Individual country data shape: {individual_data.shape}\")\n",
    "\n",
    "# Check if there's collaboration data\n",
    "collab_data = None\n",
    "if 'is_collab' in df.columns:\n",
    "    collab_df = filtered_df[filtered_df['is_collab'] == True]\n",
    "    mask = pd.Series([False] * len(collab_df))\n",
    "    for iso in selected_countries:\n",
    "        mask = mask | collab_df['iso2c'].str.contains(iso, na=False)\n",
    "    \n",
    "    collab_data = collab_df[mask]\n",
    "    print(f\"Collaboration data shape: {collab_data.shape}\")\n",
    "    if not collab_data.empty:\n",
    "        display(collab_data.head())\n",
    "    else:\n",
    "        print(\"No collaboration data found for the selected countries\")"
   ]
  },
  {
   "cell_type": "markdown",
   "metadata": {},
   "source": [
    "### 3.2 Testing Trends Plot\n",
    "\n",
    "Now let's test creating the main trends plot."
   ]
  },
  {
   "cell_type": "code",
   "execution_count": 17,
   "metadata": {},
   "outputs": [
    {
     "data": {
      "application/vnd.plotly.v1+json": {
       "config": {
        "plotlyServerURL": "https://plot.ly"
       },
       "data": [],
       "layout": {
        "annotations": [
         {
          "showarrow": false,
          "text": "Error: Missing 'total_percentage' column or no data.",
          "x": 0.5,
          "xref": "paper",
          "y": 0.5,
          "yref": "paper"
         }
        ],
        "template": {
         "data": {
          "bar": [
           {
            "error_x": {
             "color": "#2a3f5f"
            },
            "error_y": {
             "color": "#2a3f5f"
            },
            "marker": {
             "line": {
              "color": "white",
              "width": 0.5
             },
             "pattern": {
              "fillmode": "overlay",
              "size": 10,
              "solidity": 0.2
             }
            },
            "type": "bar"
           }
          ],
          "barpolar": [
           {
            "marker": {
             "line": {
              "color": "white",
              "width": 0.5
             },
             "pattern": {
              "fillmode": "overlay",
              "size": 10,
              "solidity": 0.2
             }
            },
            "type": "barpolar"
           }
          ],
          "carpet": [
           {
            "aaxis": {
             "endlinecolor": "#2a3f5f",
             "gridcolor": "#C8D4E3",
             "linecolor": "#C8D4E3",
             "minorgridcolor": "#C8D4E3",
             "startlinecolor": "#2a3f5f"
            },
            "baxis": {
             "endlinecolor": "#2a3f5f",
             "gridcolor": "#C8D4E3",
             "linecolor": "#C8D4E3",
             "minorgridcolor": "#C8D4E3",
             "startlinecolor": "#2a3f5f"
            },
            "type": "carpet"
           }
          ],
          "choropleth": [
           {
            "colorbar": {
             "outlinewidth": 0,
             "ticks": ""
            },
            "type": "choropleth"
           }
          ],
          "contour": [
           {
            "colorbar": {
             "outlinewidth": 0,
             "ticks": ""
            },
            "colorscale": [
             [
              0,
              "#0d0887"
             ],
             [
              0.1111111111111111,
              "#46039f"
             ],
             [
              0.2222222222222222,
              "#7201a8"
             ],
             [
              0.3333333333333333,
              "#9c179e"
             ],
             [
              0.4444444444444444,
              "#bd3786"
             ],
             [
              0.5555555555555556,
              "#d8576b"
             ],
             [
              0.6666666666666666,
              "#ed7953"
             ],
             [
              0.7777777777777778,
              "#fb9f3a"
             ],
             [
              0.8888888888888888,
              "#fdca26"
             ],
             [
              1,
              "#f0f921"
             ]
            ],
            "type": "contour"
           }
          ],
          "contourcarpet": [
           {
            "colorbar": {
             "outlinewidth": 0,
             "ticks": ""
            },
            "type": "contourcarpet"
           }
          ],
          "heatmap": [
           {
            "colorbar": {
             "outlinewidth": 0,
             "ticks": ""
            },
            "colorscale": [
             [
              0,
              "#0d0887"
             ],
             [
              0.1111111111111111,
              "#46039f"
             ],
             [
              0.2222222222222222,
              "#7201a8"
             ],
             [
              0.3333333333333333,
              "#9c179e"
             ],
             [
              0.4444444444444444,
              "#bd3786"
             ],
             [
              0.5555555555555556,
              "#d8576b"
             ],
             [
              0.6666666666666666,
              "#ed7953"
             ],
             [
              0.7777777777777778,
              "#fb9f3a"
             ],
             [
              0.8888888888888888,
              "#fdca26"
             ],
             [
              1,
              "#f0f921"
             ]
            ],
            "type": "heatmap"
           }
          ],
          "histogram": [
           {
            "marker": {
             "pattern": {
              "fillmode": "overlay",
              "size": 10,
              "solidity": 0.2
             }
            },
            "type": "histogram"
           }
          ],
          "histogram2d": [
           {
            "colorbar": {
             "outlinewidth": 0,
             "ticks": ""
            },
            "colorscale": [
             [
              0,
              "#0d0887"
             ],
             [
              0.1111111111111111,
              "#46039f"
             ],
             [
              0.2222222222222222,
              "#7201a8"
             ],
             [
              0.3333333333333333,
              "#9c179e"
             ],
             [
              0.4444444444444444,
              "#bd3786"
             ],
             [
              0.5555555555555556,
              "#d8576b"
             ],
             [
              0.6666666666666666,
              "#ed7953"
             ],
             [
              0.7777777777777778,
              "#fb9f3a"
             ],
             [
              0.8888888888888888,
              "#fdca26"
             ],
             [
              1,
              "#f0f921"
             ]
            ],
            "type": "histogram2d"
           }
          ],
          "histogram2dcontour": [
           {
            "colorbar": {
             "outlinewidth": 0,
             "ticks": ""
            },
            "colorscale": [
             [
              0,
              "#0d0887"
             ],
             [
              0.1111111111111111,
              "#46039f"
             ],
             [
              0.2222222222222222,
              "#7201a8"
             ],
             [
              0.3333333333333333,
              "#9c179e"
             ],
             [
              0.4444444444444444,
              "#bd3786"
             ],
             [
              0.5555555555555556,
              "#d8576b"
             ],
             [
              0.6666666666666666,
              "#ed7953"
             ],
             [
              0.7777777777777778,
              "#fb9f3a"
             ],
             [
              0.8888888888888888,
              "#fdca26"
             ],
             [
              1,
              "#f0f921"
             ]
            ],
            "type": "histogram2dcontour"
           }
          ],
          "mesh3d": [
           {
            "colorbar": {
             "outlinewidth": 0,
             "ticks": ""
            },
            "type": "mesh3d"
           }
          ],
          "parcoords": [
           {
            "line": {
             "colorbar": {
              "outlinewidth": 0,
              "ticks": ""
             }
            },
            "type": "parcoords"
           }
          ],
          "pie": [
           {
            "automargin": true,
            "type": "pie"
           }
          ],
          "scatter": [
           {
            "fillpattern": {
             "fillmode": "overlay",
             "size": 10,
             "solidity": 0.2
            },
            "type": "scatter"
           }
          ],
          "scatter3d": [
           {
            "line": {
             "colorbar": {
              "outlinewidth": 0,
              "ticks": ""
             }
            },
            "marker": {
             "colorbar": {
              "outlinewidth": 0,
              "ticks": ""
             }
            },
            "type": "scatter3d"
           }
          ],
          "scattercarpet": [
           {
            "marker": {
             "colorbar": {
              "outlinewidth": 0,
              "ticks": ""
             }
            },
            "type": "scattercarpet"
           }
          ],
          "scattergeo": [
           {
            "marker": {
             "colorbar": {
              "outlinewidth": 0,
              "ticks": ""
             }
            },
            "type": "scattergeo"
           }
          ],
          "scattergl": [
           {
            "marker": {
             "colorbar": {
              "outlinewidth": 0,
              "ticks": ""
             }
            },
            "type": "scattergl"
           }
          ],
          "scattermap": [
           {
            "marker": {
             "colorbar": {
              "outlinewidth": 0,
              "ticks": ""
             }
            },
            "type": "scattermap"
           }
          ],
          "scattermapbox": [
           {
            "marker": {
             "colorbar": {
              "outlinewidth": 0,
              "ticks": ""
             }
            },
            "type": "scattermapbox"
           }
          ],
          "scatterpolar": [
           {
            "marker": {
             "colorbar": {
              "outlinewidth": 0,
              "ticks": ""
             }
            },
            "type": "scatterpolar"
           }
          ],
          "scatterpolargl": [
           {
            "marker": {
             "colorbar": {
              "outlinewidth": 0,
              "ticks": ""
             }
            },
            "type": "scatterpolargl"
           }
          ],
          "scatterternary": [
           {
            "marker": {
             "colorbar": {
              "outlinewidth": 0,
              "ticks": ""
             }
            },
            "type": "scatterternary"
           }
          ],
          "surface": [
           {
            "colorbar": {
             "outlinewidth": 0,
             "ticks": ""
            },
            "colorscale": [
             [
              0,
              "#0d0887"
             ],
             [
              0.1111111111111111,
              "#46039f"
             ],
             [
              0.2222222222222222,
              "#7201a8"
             ],
             [
              0.3333333333333333,
              "#9c179e"
             ],
             [
              0.4444444444444444,
              "#bd3786"
             ],
             [
              0.5555555555555556,
              "#d8576b"
             ],
             [
              0.6666666666666666,
              "#ed7953"
             ],
             [
              0.7777777777777778,
              "#fb9f3a"
             ],
             [
              0.8888888888888888,
              "#fdca26"
             ],
             [
              1,
              "#f0f921"
             ]
            ],
            "type": "surface"
           }
          ],
          "table": [
           {
            "cells": {
             "fill": {
              "color": "#EBF0F8"
             },
             "line": {
              "color": "white"
             }
            },
            "header": {
             "fill": {
              "color": "#C8D4E3"
             },
             "line": {
              "color": "white"
             }
            },
            "type": "table"
           }
          ]
         },
         "layout": {
          "annotationdefaults": {
           "arrowcolor": "#2a3f5f",
           "arrowhead": 0,
           "arrowwidth": 1
          },
          "autotypenumbers": "strict",
          "coloraxis": {
           "colorbar": {
            "outlinewidth": 0,
            "ticks": ""
           }
          },
          "colorscale": {
           "diverging": [
            [
             0,
             "#8e0152"
            ],
            [
             0.1,
             "#c51b7d"
            ],
            [
             0.2,
             "#de77ae"
            ],
            [
             0.3,
             "#f1b6da"
            ],
            [
             0.4,
             "#fde0ef"
            ],
            [
             0.5,
             "#f7f7f7"
            ],
            [
             0.6,
             "#e6f5d0"
            ],
            [
             0.7,
             "#b8e186"
            ],
            [
             0.8,
             "#7fbc41"
            ],
            [
             0.9,
             "#4d9221"
            ],
            [
             1,
             "#276419"
            ]
           ],
           "sequential": [
            [
             0,
             "#0d0887"
            ],
            [
             0.1111111111111111,
             "#46039f"
            ],
            [
             0.2222222222222222,
             "#7201a8"
            ],
            [
             0.3333333333333333,
             "#9c179e"
            ],
            [
             0.4444444444444444,
             "#bd3786"
            ],
            [
             0.5555555555555556,
             "#d8576b"
            ],
            [
             0.6666666666666666,
             "#ed7953"
            ],
            [
             0.7777777777777778,
             "#fb9f3a"
            ],
            [
             0.8888888888888888,
             "#fdca26"
            ],
            [
             1,
             "#f0f921"
            ]
           ],
           "sequentialminus": [
            [
             0,
             "#0d0887"
            ],
            [
             0.1111111111111111,
             "#46039f"
            ],
            [
             0.2222222222222222,
             "#7201a8"
            ],
            [
             0.3333333333333333,
             "#9c179e"
            ],
            [
             0.4444444444444444,
             "#bd3786"
            ],
            [
             0.5555555555555556,
             "#d8576b"
            ],
            [
             0.6666666666666666,
             "#ed7953"
            ],
            [
             0.7777777777777778,
             "#fb9f3a"
            ],
            [
             0.8888888888888888,
             "#fdca26"
            ],
            [
             1,
             "#f0f921"
            ]
           ]
          },
          "colorway": [
           "#636efa",
           "#EF553B",
           "#00cc96",
           "#ab63fa",
           "#FFA15A",
           "#19d3f3",
           "#FF6692",
           "#B6E880",
           "#FF97FF",
           "#FECB52"
          ],
          "font": {
           "color": "#2a3f5f"
          },
          "geo": {
           "bgcolor": "white",
           "lakecolor": "white",
           "landcolor": "white",
           "showlakes": true,
           "showland": true,
           "subunitcolor": "#C8D4E3"
          },
          "hoverlabel": {
           "align": "left"
          },
          "hovermode": "closest",
          "mapbox": {
           "style": "light"
          },
          "paper_bgcolor": "white",
          "plot_bgcolor": "white",
          "polar": {
           "angularaxis": {
            "gridcolor": "#EBF0F8",
            "linecolor": "#EBF0F8",
            "ticks": ""
           },
           "bgcolor": "white",
           "radialaxis": {
            "gridcolor": "#EBF0F8",
            "linecolor": "#EBF0F8",
            "ticks": ""
           }
          },
          "scene": {
           "xaxis": {
            "backgroundcolor": "white",
            "gridcolor": "#DFE8F3",
            "gridwidth": 2,
            "linecolor": "#EBF0F8",
            "showbackground": true,
            "ticks": "",
            "zerolinecolor": "#EBF0F8"
           },
           "yaxis": {
            "backgroundcolor": "white",
            "gridcolor": "#DFE8F3",
            "gridwidth": 2,
            "linecolor": "#EBF0F8",
            "showbackground": true,
            "ticks": "",
            "zerolinecolor": "#EBF0F8"
           },
           "zaxis": {
            "backgroundcolor": "white",
            "gridcolor": "#DFE8F3",
            "gridwidth": 2,
            "linecolor": "#EBF0F8",
            "showbackground": true,
            "ticks": "",
            "zerolinecolor": "#EBF0F8"
           }
          },
          "shapedefaults": {
           "line": {
            "color": "#2a3f5f"
           }
          },
          "ternary": {
           "aaxis": {
            "gridcolor": "#DFE8F3",
            "linecolor": "#A2B1C6",
            "ticks": ""
           },
           "baxis": {
            "gridcolor": "#DFE8F3",
            "linecolor": "#A2B1C6",
            "ticks": ""
           },
           "bgcolor": "white",
           "caxis": {
            "gridcolor": "#DFE8F3",
            "linecolor": "#A2B1C6",
            "ticks": ""
           }
          },
          "title": {
           "x": 0.05
          },
          "xaxis": {
           "automargin": true,
           "gridcolor": "#EBF0F8",
           "linecolor": "#EBF0F8",
           "ticks": "",
           "title": {
            "standoff": 15
           },
           "zerolinecolor": "#EBF0F8",
           "zerolinewidth": 2
          },
          "yaxis": {
           "automargin": true,
           "gridcolor": "#EBF0F8",
           "linecolor": "#EBF0F8",
           "ticks": "",
           "title": {
            "standoff": 15
           },
           "zerolinecolor": "#EBF0F8",
           "zerolinewidth": 2
          }
         }
        },
        "xaxis": {
         "visible": false
        },
        "yaxis": {
         "visible": false
        }
       }
      }
     },
     "metadata": {},
     "output_type": "display_data"
    }
   ],
   "source": [
    "# Test creating trends plot\n",
    "display_mode = \"compare_individuals\"  # Options: \"compare_individuals\" or \"find_collaborations\"\n",
    "\n",
    "# Use filtered individual data from above\n",
    "plot_data = individual_data.copy()\n",
    "\n",
    "if not plot_data.empty:\n",
    "    fig = create_trends_plot(plot_data, selected_countries, display_mode)\n",
    "    fig.show()\n",
    "else:\n",
    "    print(\"No data available for trends plot\")\n",
    "    fig = create_empty_plot(\"No data available for selected filters\")\n",
    "    fig.show()"
   ]
  },
  {
   "cell_type": "markdown",
   "metadata": {},
   "source": [
    "### 3.3 Testing Contribution Choropleth Map\n",
    "\n",
    "Let's test the choropleth map functionality."
   ]
  },
  {
   "cell_type": "code",
   "execution_count": 18,
   "metadata": {},
   "outputs": [
    {
     "data": {
      "application/vnd.plotly.v1+json": {
       "config": {
        "plotlyServerURL": "https://plot.ly"
       },
       "data": [],
       "layout": {
        "annotations": [
         {
          "showarrow": false,
          "text": "Error: Missing 'total_percentage' column or no data for choropleth.",
          "x": 0.5,
          "xref": "paper",
          "y": 0.5,
          "yref": "paper"
         }
        ],
        "template": {
         "data": {
          "bar": [
           {
            "error_x": {
             "color": "#2a3f5f"
            },
            "error_y": {
             "color": "#2a3f5f"
            },
            "marker": {
             "line": {
              "color": "white",
              "width": 0.5
             },
             "pattern": {
              "fillmode": "overlay",
              "size": 10,
              "solidity": 0.2
             }
            },
            "type": "bar"
           }
          ],
          "barpolar": [
           {
            "marker": {
             "line": {
              "color": "white",
              "width": 0.5
             },
             "pattern": {
              "fillmode": "overlay",
              "size": 10,
              "solidity": 0.2
             }
            },
            "type": "barpolar"
           }
          ],
          "carpet": [
           {
            "aaxis": {
             "endlinecolor": "#2a3f5f",
             "gridcolor": "#C8D4E3",
             "linecolor": "#C8D4E3",
             "minorgridcolor": "#C8D4E3",
             "startlinecolor": "#2a3f5f"
            },
            "baxis": {
             "endlinecolor": "#2a3f5f",
             "gridcolor": "#C8D4E3",
             "linecolor": "#C8D4E3",
             "minorgridcolor": "#C8D4E3",
             "startlinecolor": "#2a3f5f"
            },
            "type": "carpet"
           }
          ],
          "choropleth": [
           {
            "colorbar": {
             "outlinewidth": 0,
             "ticks": ""
            },
            "type": "choropleth"
           }
          ],
          "contour": [
           {
            "colorbar": {
             "outlinewidth": 0,
             "ticks": ""
            },
            "colorscale": [
             [
              0,
              "#0d0887"
             ],
             [
              0.1111111111111111,
              "#46039f"
             ],
             [
              0.2222222222222222,
              "#7201a8"
             ],
             [
              0.3333333333333333,
              "#9c179e"
             ],
             [
              0.4444444444444444,
              "#bd3786"
             ],
             [
              0.5555555555555556,
              "#d8576b"
             ],
             [
              0.6666666666666666,
              "#ed7953"
             ],
             [
              0.7777777777777778,
              "#fb9f3a"
             ],
             [
              0.8888888888888888,
              "#fdca26"
             ],
             [
              1,
              "#f0f921"
             ]
            ],
            "type": "contour"
           }
          ],
          "contourcarpet": [
           {
            "colorbar": {
             "outlinewidth": 0,
             "ticks": ""
            },
            "type": "contourcarpet"
           }
          ],
          "heatmap": [
           {
            "colorbar": {
             "outlinewidth": 0,
             "ticks": ""
            },
            "colorscale": [
             [
              0,
              "#0d0887"
             ],
             [
              0.1111111111111111,
              "#46039f"
             ],
             [
              0.2222222222222222,
              "#7201a8"
             ],
             [
              0.3333333333333333,
              "#9c179e"
             ],
             [
              0.4444444444444444,
              "#bd3786"
             ],
             [
              0.5555555555555556,
              "#d8576b"
             ],
             [
              0.6666666666666666,
              "#ed7953"
             ],
             [
              0.7777777777777778,
              "#fb9f3a"
             ],
             [
              0.8888888888888888,
              "#fdca26"
             ],
             [
              1,
              "#f0f921"
             ]
            ],
            "type": "heatmap"
           }
          ],
          "histogram": [
           {
            "marker": {
             "pattern": {
              "fillmode": "overlay",
              "size": 10,
              "solidity": 0.2
             }
            },
            "type": "histogram"
           }
          ],
          "histogram2d": [
           {
            "colorbar": {
             "outlinewidth": 0,
             "ticks": ""
            },
            "colorscale": [
             [
              0,
              "#0d0887"
             ],
             [
              0.1111111111111111,
              "#46039f"
             ],
             [
              0.2222222222222222,
              "#7201a8"
             ],
             [
              0.3333333333333333,
              "#9c179e"
             ],
             [
              0.4444444444444444,
              "#bd3786"
             ],
             [
              0.5555555555555556,
              "#d8576b"
             ],
             [
              0.6666666666666666,
              "#ed7953"
             ],
             [
              0.7777777777777778,
              "#fb9f3a"
             ],
             [
              0.8888888888888888,
              "#fdca26"
             ],
             [
              1,
              "#f0f921"
             ]
            ],
            "type": "histogram2d"
           }
          ],
          "histogram2dcontour": [
           {
            "colorbar": {
             "outlinewidth": 0,
             "ticks": ""
            },
            "colorscale": [
             [
              0,
              "#0d0887"
             ],
             [
              0.1111111111111111,
              "#46039f"
             ],
             [
              0.2222222222222222,
              "#7201a8"
             ],
             [
              0.3333333333333333,
              "#9c179e"
             ],
             [
              0.4444444444444444,
              "#bd3786"
             ],
             [
              0.5555555555555556,
              "#d8576b"
             ],
             [
              0.6666666666666666,
              "#ed7953"
             ],
             [
              0.7777777777777778,
              "#fb9f3a"
             ],
             [
              0.8888888888888888,
              "#fdca26"
             ],
             [
              1,
              "#f0f921"
             ]
            ],
            "type": "histogram2dcontour"
           }
          ],
          "mesh3d": [
           {
            "colorbar": {
             "outlinewidth": 0,
             "ticks": ""
            },
            "type": "mesh3d"
           }
          ],
          "parcoords": [
           {
            "line": {
             "colorbar": {
              "outlinewidth": 0,
              "ticks": ""
             }
            },
            "type": "parcoords"
           }
          ],
          "pie": [
           {
            "automargin": true,
            "type": "pie"
           }
          ],
          "scatter": [
           {
            "fillpattern": {
             "fillmode": "overlay",
             "size": 10,
             "solidity": 0.2
            },
            "type": "scatter"
           }
          ],
          "scatter3d": [
           {
            "line": {
             "colorbar": {
              "outlinewidth": 0,
              "ticks": ""
             }
            },
            "marker": {
             "colorbar": {
              "outlinewidth": 0,
              "ticks": ""
             }
            },
            "type": "scatter3d"
           }
          ],
          "scattercarpet": [
           {
            "marker": {
             "colorbar": {
              "outlinewidth": 0,
              "ticks": ""
             }
            },
            "type": "scattercarpet"
           }
          ],
          "scattergeo": [
           {
            "marker": {
             "colorbar": {
              "outlinewidth": 0,
              "ticks": ""
             }
            },
            "type": "scattergeo"
           }
          ],
          "scattergl": [
           {
            "marker": {
             "colorbar": {
              "outlinewidth": 0,
              "ticks": ""
             }
            },
            "type": "scattergl"
           }
          ],
          "scattermap": [
           {
            "marker": {
             "colorbar": {
              "outlinewidth": 0,
              "ticks": ""
             }
            },
            "type": "scattermap"
           }
          ],
          "scattermapbox": [
           {
            "marker": {
             "colorbar": {
              "outlinewidth": 0,
              "ticks": ""
             }
            },
            "type": "scattermapbox"
           }
          ],
          "scatterpolar": [
           {
            "marker": {
             "colorbar": {
              "outlinewidth": 0,
              "ticks": ""
             }
            },
            "type": "scatterpolar"
           }
          ],
          "scatterpolargl": [
           {
            "marker": {
             "colorbar": {
              "outlinewidth": 0,
              "ticks": ""
             }
            },
            "type": "scatterpolargl"
           }
          ],
          "scatterternary": [
           {
            "marker": {
             "colorbar": {
              "outlinewidth": 0,
              "ticks": ""
             }
            },
            "type": "scatterternary"
           }
          ],
          "surface": [
           {
            "colorbar": {
             "outlinewidth": 0,
             "ticks": ""
            },
            "colorscale": [
             [
              0,
              "#0d0887"
             ],
             [
              0.1111111111111111,
              "#46039f"
             ],
             [
              0.2222222222222222,
              "#7201a8"
             ],
             [
              0.3333333333333333,
              "#9c179e"
             ],
             [
              0.4444444444444444,
              "#bd3786"
             ],
             [
              0.5555555555555556,
              "#d8576b"
             ],
             [
              0.6666666666666666,
              "#ed7953"
             ],
             [
              0.7777777777777778,
              "#fb9f3a"
             ],
             [
              0.8888888888888888,
              "#fdca26"
             ],
             [
              1,
              "#f0f921"
             ]
            ],
            "type": "surface"
           }
          ],
          "table": [
           {
            "cells": {
             "fill": {
              "color": "#EBF0F8"
             },
             "line": {
              "color": "white"
             }
            },
            "header": {
             "fill": {
              "color": "#C8D4E3"
             },
             "line": {
              "color": "white"
             }
            },
            "type": "table"
           }
          ]
         },
         "layout": {
          "annotationdefaults": {
           "arrowcolor": "#2a3f5f",
           "arrowhead": 0,
           "arrowwidth": 1
          },
          "autotypenumbers": "strict",
          "coloraxis": {
           "colorbar": {
            "outlinewidth": 0,
            "ticks": ""
           }
          },
          "colorscale": {
           "diverging": [
            [
             0,
             "#8e0152"
            ],
            [
             0.1,
             "#c51b7d"
            ],
            [
             0.2,
             "#de77ae"
            ],
            [
             0.3,
             "#f1b6da"
            ],
            [
             0.4,
             "#fde0ef"
            ],
            [
             0.5,
             "#f7f7f7"
            ],
            [
             0.6,
             "#e6f5d0"
            ],
            [
             0.7,
             "#b8e186"
            ],
            [
             0.8,
             "#7fbc41"
            ],
            [
             0.9,
             "#4d9221"
            ],
            [
             1,
             "#276419"
            ]
           ],
           "sequential": [
            [
             0,
             "#0d0887"
            ],
            [
             0.1111111111111111,
             "#46039f"
            ],
            [
             0.2222222222222222,
             "#7201a8"
            ],
            [
             0.3333333333333333,
             "#9c179e"
            ],
            [
             0.4444444444444444,
             "#bd3786"
            ],
            [
             0.5555555555555556,
             "#d8576b"
            ],
            [
             0.6666666666666666,
             "#ed7953"
            ],
            [
             0.7777777777777778,
             "#fb9f3a"
            ],
            [
             0.8888888888888888,
             "#fdca26"
            ],
            [
             1,
             "#f0f921"
            ]
           ],
           "sequentialminus": [
            [
             0,
             "#0d0887"
            ],
            [
             0.1111111111111111,
             "#46039f"
            ],
            [
             0.2222222222222222,
             "#7201a8"
            ],
            [
             0.3333333333333333,
             "#9c179e"
            ],
            [
             0.4444444444444444,
             "#bd3786"
            ],
            [
             0.5555555555555556,
             "#d8576b"
            ],
            [
             0.6666666666666666,
             "#ed7953"
            ],
            [
             0.7777777777777778,
             "#fb9f3a"
            ],
            [
             0.8888888888888888,
             "#fdca26"
            ],
            [
             1,
             "#f0f921"
            ]
           ]
          },
          "colorway": [
           "#636efa",
           "#EF553B",
           "#00cc96",
           "#ab63fa",
           "#FFA15A",
           "#19d3f3",
           "#FF6692",
           "#B6E880",
           "#FF97FF",
           "#FECB52"
          ],
          "font": {
           "color": "#2a3f5f"
          },
          "geo": {
           "bgcolor": "white",
           "lakecolor": "white",
           "landcolor": "white",
           "showlakes": true,
           "showland": true,
           "subunitcolor": "#C8D4E3"
          },
          "hoverlabel": {
           "align": "left"
          },
          "hovermode": "closest",
          "mapbox": {
           "style": "light"
          },
          "paper_bgcolor": "white",
          "plot_bgcolor": "white",
          "polar": {
           "angularaxis": {
            "gridcolor": "#EBF0F8",
            "linecolor": "#EBF0F8",
            "ticks": ""
           },
           "bgcolor": "white",
           "radialaxis": {
            "gridcolor": "#EBF0F8",
            "linecolor": "#EBF0F8",
            "ticks": ""
           }
          },
          "scene": {
           "xaxis": {
            "backgroundcolor": "white",
            "gridcolor": "#DFE8F3",
            "gridwidth": 2,
            "linecolor": "#EBF0F8",
            "showbackground": true,
            "ticks": "",
            "zerolinecolor": "#EBF0F8"
           },
           "yaxis": {
            "backgroundcolor": "white",
            "gridcolor": "#DFE8F3",
            "gridwidth": 2,
            "linecolor": "#EBF0F8",
            "showbackground": true,
            "ticks": "",
            "zerolinecolor": "#EBF0F8"
           },
           "zaxis": {
            "backgroundcolor": "white",
            "gridcolor": "#DFE8F3",
            "gridwidth": 2,
            "linecolor": "#EBF0F8",
            "showbackground": true,
            "ticks": "",
            "zerolinecolor": "#EBF0F8"
           }
          },
          "shapedefaults": {
           "line": {
            "color": "#2a3f5f"
           }
          },
          "ternary": {
           "aaxis": {
            "gridcolor": "#DFE8F3",
            "linecolor": "#A2B1C6",
            "ticks": ""
           },
           "baxis": {
            "gridcolor": "#DFE8F3",
            "linecolor": "#A2B1C6",
            "ticks": ""
           },
           "bgcolor": "white",
           "caxis": {
            "gridcolor": "#DFE8F3",
            "linecolor": "#A2B1C6",
            "ticks": ""
           }
          },
          "title": {
           "x": 0.05
          },
          "xaxis": {
           "automargin": true,
           "gridcolor": "#EBF0F8",
           "linecolor": "#EBF0F8",
           "ticks": "",
           "title": {
            "standoff": 15
           },
           "zerolinecolor": "#EBF0F8",
           "zerolinewidth": 2
          },
          "yaxis": {
           "automargin": true,
           "gridcolor": "#EBF0F8",
           "linecolor": "#EBF0F8",
           "ticks": "",
           "title": {
            "standoff": 15
           },
           "zerolinecolor": "#EBF0F8",
           "zerolinewidth": 2
          }
         }
        },
        "xaxis": {
         "visible": false
        },
        "yaxis": {
         "visible": false
        }
       }
      }
     },
     "metadata": {},
     "output_type": "display_data"
    }
   ],
   "source": [
    "\n",
    "\n",
    "\n",
    "# Test creating contribution choropleth\n",
    "if not individual_data.empty:\n",
    "    fig = create_contribution_choropleth(individual_data)\n",
    "    fig.show()\n",
    "else:\n",
    "    print(\"No data available for choropleth map\")\n",
    "    fig = create_empty_plot(\"No data available for selected filters\")\n",
    "    fig.show()"
   ]
  },
  {
   "cell_type": "markdown",
   "metadata": {},
   "source": [
    "### 3.4 Testing Summary Data Table\n",
    "\n",
    "Let's test creating the summary data table."
   ]
  },
  {
   "cell_type": "code",
   "execution_count": 19,
   "metadata": {},
   "outputs": [
    {
     "data": {
      "text/html": [
       "<div>\n",
       "<style scoped>\n",
       "    .dataframe tbody tr th:only-of-type {\n",
       "        vertical-align: middle;\n",
       "    }\n",
       "\n",
       "    .dataframe tbody tr th {\n",
       "        vertical-align: top;\n",
       "    }\n",
       "\n",
       "    .dataframe thead th {\n",
       "        text-align: right;\n",
       "    }\n",
       "</style>\n",
       "<table border=\"1\" class=\"dataframe\">\n",
       "  <thead>\n",
       "    <tr style=\"text-align: right;\">\n",
       "      <th></th>\n",
       "      <th>Error</th>\n",
       "    </tr>\n",
       "  </thead>\n",
       "  <tbody>\n",
       "    <tr>\n",
       "      <th>0</th>\n",
       "      <td>Missing 'total_percentage' column or no data f...</td>\n",
       "    </tr>\n",
       "  </tbody>\n",
       "</table>\n",
       "</div>"
      ],
      "text/plain": [
       "                                               Error\n",
       "0  Missing 'total_percentage' column or no data f..."
      ]
     },
     "metadata": {},
     "output_type": "display_data"
    }
   ],
   "source": [
    "# Test creating summary dataframe\n",
    "if not individual_data.empty:\n",
    "    summary_df = create_summary_dataframe(individual_data, display_mode)\n",
    "    display(summary_df)\n",
    "else:\n",
    "    print(\"No data available for summary table\")"
   ]
  },
  {
   "cell_type": "markdown",
   "metadata": {},
   "source": [
    "### 3.5 Testing Interactive Folium Map\n",
    "\n",
    "Let's try creating the interactive Folium map."
   ]
  },
  {
   "cell_type": "markdown",
   "metadata": {},
   "source": [
    "#### First test the GeoJSON File"
   ]
  },
  {
   "cell_type": "code",
   "execution_count": 20,
   "metadata": {},
   "outputs": [
    {
     "name": "stdout",
     "output_type": "stream",
     "text": [
      "Successfully loaded GeoJSON file with shape: (175, 170)\n",
      "\n",
      "Columns in GeoJSON:\n",
      "['featurecla', 'scalerank', 'labelrank', 'sovereignt', 'sov_a3', 'adm0_dif', 'level', 'type', 'tlc', 'admin', 'adm0_a3', 'geou_dif', 'geounit', 'gu_a3', 'su_dif', 'subunit', 'su_a3', 'brk_diff', 'name', 'name_long', 'brk_a3', 'brk_name', 'brk_group', 'abbrev', 'postal', 'formal_en', 'formal_fr', 'name_ciawf', 'note_adm0', 'note_brk', 'name_sort', 'name_alt', 'mapcolor7', 'mapcolor8', 'mapcolor9', 'mapcolor13', 'pop_est', 'pop_rank', 'pop_year', 'gdp_md', 'gdp_year', 'economy', 'income_grp', 'fips_10', 'iso_a2', 'iso_a2_eh', 'iso_a3', 'iso_a3_eh', 'iso_n3', 'iso_n3_eh', 'un_a3', 'wb_a2', 'wb_a3', 'woe_id', 'woe_id_eh', 'woe_note', 'adm0_iso', 'adm0_diff', 'adm0_tlc', 'adm0_a3_us', 'adm0_a3_fr', 'adm0_a3_ru', 'adm0_a3_es', 'adm0_a3_cn', 'adm0_a3_tw', 'adm0_a3_in', 'adm0_a3_np', 'adm0_a3_pk', 'adm0_a3_de', 'adm0_a3_gb', 'adm0_a3_br', 'adm0_a3_il', 'adm0_a3_ps', 'adm0_a3_sa', 'adm0_a3_eg', 'adm0_a3_ma', 'adm0_a3_pt', 'adm0_a3_ar', 'adm0_a3_jp', 'adm0_a3_ko', 'adm0_a3_vn', 'adm0_a3_tr', 'adm0_a3_id', 'adm0_a3_pl', 'adm0_a3_gr', 'adm0_a3_it', 'adm0_a3_nl', 'adm0_a3_se', 'adm0_a3_bd', 'adm0_a3_ua', 'adm0_a3_un', 'adm0_a3_wb', 'continent', 'region_un', 'subregion', 'region_wb', 'name_len', 'long_len', 'abbrev_len', 'tiny', 'homepart', 'min_zoom', 'min_label', 'max_label', 'label_x', 'label_y', 'ne_id', 'wikidataid', 'name_ar', 'name_bn', 'name_de', 'name_en', 'name_es', 'name_fa', 'name_fr', 'name_el', 'name_he', 'name_hi', 'name_hu', 'name_id', 'name_it', 'name_ja', 'name_ko', 'name_nl', 'name_pl', 'name_pt', 'name_ru', 'name_sv', 'name_tr', 'name_uk', 'name_ur', 'name_vi', 'name_zh', 'name_zht', 'fclass_iso', 'tlc_diff', 'fclass_tlc', 'fclass_us', 'fclass_fr', 'fclass_ru', 'fclass_es', 'fclass_cn', 'fclass_tw', 'fclass_in', 'fclass_np', 'fclass_pk', 'fclass_de', 'fclass_gb', 'fclass_br', 'fclass_il', 'fclass_ps', 'fclass_sa', 'fclass_eg', 'fclass_ma', 'fclass_pt', 'fclass_ar', 'fclass_jp', 'fclass_ko', 'fclass_vn', 'fclass_tr', 'fclass_id', 'fclass_pl', 'fclass_gr', 'fclass_it', 'fclass_nl', 'fclass_se', 'fclass_bd', 'fclass_ua', 'filename', 'geometry']\n",
      "\n",
      "Possible ISO columns: ['iso_a2', 'iso_a2_eh', 'iso_a3', 'iso_a3_eh', 'iso_n3', 'iso_n3_eh', 'adm0_iso', 'fclass_iso']\n",
      "\n",
      "Sample values from iso_a2:\n",
      "0    CL\n",
      "1    BO\n",
      "2    PE\n",
      "3    AR\n",
      "4    SR\n",
      "Name: iso_a2, dtype: object\n",
      "Found US in column iso_a2: 1 matches\n",
      "Found US in column iso_a2_eh: 1 matches\n",
      "Found CN in column iso_a2: 1 matches\n",
      "Found CN in column iso_a2_eh: 1 matches\n"
     ]
    }
   ],
   "source": [
    "# Add this to your notebook to check the GeoJSON file\n",
    "try:\n",
    "    import geopandas as gpd\n",
    "    \n",
    "    world_path = \"./data/world_boundaries.geojson\"\n",
    "    world = gpd.read_file(world_path)\n",
    "    \n",
    "    print(f\"Successfully loaded GeoJSON file with shape: {world.shape}\")\n",
    "    print(\"\\nColumns in GeoJSON:\")\n",
    "    print(world.columns.tolist())\n",
    "    \n",
    "    # Check what ISO column is present\n",
    "    iso_cols = [col for col in world.columns if 'iso' in col.lower()]\n",
    "    print(f\"\\nPossible ISO columns: {iso_cols}\")\n",
    "    \n",
    "    # Check a few sample values\n",
    "    if len(iso_cols) > 0:\n",
    "        sample_col = iso_cols[0]\n",
    "        print(f\"\\nSample values from {sample_col}:\")\n",
    "        print(world[sample_col].head())\n",
    "    \n",
    "    # Check for US, CN as examples\n",
    "    for iso in ['US', 'CN']:\n",
    "        for col in iso_cols:\n",
    "            matches = world[world[col] == iso]\n",
    "            if not matches.empty:\n",
    "                print(f\"Found {iso} in column {col}: {len(matches)} matches\")\n",
    "    \n",
    "except Exception as e:\n",
    "    print(f\"Error examining GeoJSON file: {e}\")"
   ]
  },
  {
   "cell_type": "code",
   "execution_count": 21,
   "metadata": {},
   "outputs": [
    {
     "ename": "TypeError",
     "evalue": "'Map' object is not subscriptable",
     "output_type": "error",
     "traceback": [
      "\u001b[31m---------------------------------------------------------------------------\u001b[39m",
      "\u001b[31mTypeError\u001b[39m                                 Traceback (most recent call last)",
      "\u001b[36mCell\u001b[39m\u001b[36m \u001b[39m\u001b[32mIn[21]\u001b[39m\u001b[32m, line 9\u001b[39m\n\u001b[32m      7\u001b[39m \u001b[38;5;66;03m# Display map\u001b[39;00m\n\u001b[32m      8\u001b[39m \u001b[38;5;28;01mfrom\u001b[39;00m\u001b[38;5;250m \u001b[39m\u001b[34;01mIPython\u001b[39;00m\u001b[34;01m.\u001b[39;00m\u001b[34;01mdisplay\u001b[39;00m\u001b[38;5;250m \u001b[39m\u001b[38;5;28;01mimport\u001b[39;00m HTML\n\u001b[32m----> \u001b[39m\u001b[32m9\u001b[39m display(\u001b[43mHTML\u001b[49m\u001b[43m(\u001b[49m\u001b[43mmap_html\u001b[49m\u001b[43m)\u001b[49m)\n",
      "\u001b[36mFile \u001b[39m\u001b[32m/home/my-shiny-python-app/venv/lib/python3.12/site-packages/IPython/core/display.py:446\u001b[39m, in \u001b[36mHTML.__init__\u001b[39m\u001b[34m(self, data, url, filename, metadata)\u001b[39m\n\u001b[32m    443\u001b[39m     suffix = data[-\u001b[32m10\u001b[39m:].lower()\n\u001b[32m    444\u001b[39m     \u001b[38;5;28;01mreturn\u001b[39;00m prefix.startswith(\u001b[33m\"\u001b[39m\u001b[33m<iframe \u001b[39m\u001b[33m\"\u001b[39m) \u001b[38;5;129;01mand\u001b[39;00m suffix.endswith(\u001b[33m\"\u001b[39m\u001b[33m</iframe>\u001b[39m\u001b[33m\"\u001b[39m)\n\u001b[32m--> \u001b[39m\u001b[32m446\u001b[39m \u001b[38;5;28;01mif\u001b[39;00m \u001b[43mwarn\u001b[49m\u001b[43m(\u001b[49m\u001b[43m)\u001b[49m:\n\u001b[32m    447\u001b[39m     warnings.warn(\u001b[33m\"\u001b[39m\u001b[33mConsider using IPython.display.IFrame instead\u001b[39m\u001b[33m\"\u001b[39m)\n\u001b[32m    448\u001b[39m \u001b[38;5;28msuper\u001b[39m(HTML, \u001b[38;5;28mself\u001b[39m).\u001b[34m__init__\u001b[39m(data=data, url=url, filename=filename, metadata=metadata)\n",
      "\u001b[36mFile \u001b[39m\u001b[32m/home/my-shiny-python-app/venv/lib/python3.12/site-packages/IPython/core/display.py:442\u001b[39m, in \u001b[36mHTML.__init__.<locals>.warn\u001b[39m\u001b[34m()\u001b[39m\n\u001b[32m    436\u001b[39m     \u001b[38;5;28;01mreturn\u001b[39;00m \u001b[38;5;28;01mFalse\u001b[39;00m\n\u001b[32m    438\u001b[39m \u001b[38;5;66;03m#\u001b[39;00m\n\u001b[32m    439\u001b[39m \u001b[38;5;66;03m# Avoid calling lower() on the entire data, because it could be a\u001b[39;00m\n\u001b[32m    440\u001b[39m \u001b[38;5;66;03m# long string and we're only interested in its beginning and end.\u001b[39;00m\n\u001b[32m    441\u001b[39m \u001b[38;5;66;03m#\u001b[39;00m\n\u001b[32m--> \u001b[39m\u001b[32m442\u001b[39m prefix = \u001b[43mdata\u001b[49m\u001b[43m[\u001b[49m\u001b[43m:\u001b[49m\u001b[32;43m10\u001b[39;49m\u001b[43m]\u001b[49m.lower()\n\u001b[32m    443\u001b[39m suffix = data[-\u001b[32m10\u001b[39m:].lower()\n\u001b[32m    444\u001b[39m \u001b[38;5;28;01mreturn\u001b[39;00m prefix.startswith(\u001b[33m\"\u001b[39m\u001b[33m<iframe \u001b[39m\u001b[33m\"\u001b[39m) \u001b[38;5;129;01mand\u001b[39;00m suffix.endswith(\u001b[33m\"\u001b[39m\u001b[33m</iframe>\u001b[39m\u001b[33m\"\u001b[39m)\n",
      "\u001b[31mTypeError\u001b[39m: 'Map' object is not subscriptable"
     ]
    }
   ],
   "source": [
    "# Import the create_folium_map function\n",
    "from app import create_folium_map\n",
    "\n",
    "# Test creating folium map\n",
    "map_html = create_folium_map(country_list, selected_countries)\n",
    "\n",
    "# Display map\n",
    "from IPython.display import HTML\n",
    "display(HTML(map_html))"
   ]
  },
  {
   "cell_type": "markdown",
   "metadata": {},
   "source": [
    "## 4. Testing Article Plots\n",
    "\n",
    "Now let's test the different article plots."
   ]
  },
  {
   "cell_type": "markdown",
   "metadata": {},
   "source": [
    "### 4.1 Main Countries Article Plot"
   ]
  },
  {
   "cell_type": "code",
   "execution_count": null,
   "metadata": {},
   "outputs": [
    {
     "name": "stdout",
     "output_type": "stream",
     "text": [
      "Found 324 rows for 'Country participation in the CS'\n"
     ]
    },
    {
     "data": {
      "application/vnd.plotly.v1+json": {
       "config": {
        "plotlyServerURL": "https://plot.ly"
       },
       "data": [
        {
         "line": {
          "width": 2
         },
         "marker": {
          "size": 6
         },
         "mode": "lines+markers",
         "name": "China",
         "type": "scatter",
         "x": {
          "bdata": "AAAAAAAwn0AAAAAAADSfQAAAAAAAOJ9AAAAAAAA8n0AAAAAAAECfQAAAAAAARJ9AAAAAAABIn0AAAAAAAEyfQAAAAAAAUJ9AAAAAAABUn0AAAAAAAFifQAAAAAAAXJ9AAAAAAABgn0AAAAAAAGSfQAAAAAAAaJ9AAAAAAABsn0AAAAAAAHCfQAAAAAAAdJ9AAAAAAAB4n0AAAAAAAHyfQAAAAAAAgJ9AAAAAAACEn0AAAAAAAIifQAAAAAAAjJ9AAAAAAACQn0AAAAAAAJSfQAAAAAAAmJ9A",
          "dtype": "f8"
         },
         "y": {
          "bdata": "rkfhehSu9z9SuB6F61H8P2ZmZmZmZvo/MzMzMzMz/z/sUbgehesDQHsUrkfhegRA16NwPQrXCUAfhetRuB4QQM3MzMzMzBJAXI/C9ShcFUDXo3A9CtcZQFK4HoXrUR1AuB6F61G4IUDXo3A9CtckQBSuR+F6FClAmpmZmZkZLUBI4XoUrscwQIXrUbgehTNAexSuR+E6NkBSuB6F69E3QIXrUbgexTlACtejcD1KO0CPwvUoXE8+QK5H4XoUjkBACtejcD0qQEAUrkfhejRCQBSuR+F6tERA",
          "dtype": "f8"
         }
        },
        {
         "line": {
          "width": 2
         },
         "marker": {
          "size": 6
         },
         "mode": "lines+markers",
         "name": "United States",
         "type": "scatter",
         "x": {
          "bdata": "AAAAAAAwn0AAAAAAADSfQAAAAAAAOJ9AAAAAAAA8n0AAAAAAAECfQAAAAAAARJ9AAAAAAABIn0AAAAAAAEyfQAAAAAAAUJ9AAAAAAABUn0AAAAAAAFifQAAAAAAAXJ9AAAAAAABgn0AAAAAAAGSfQAAAAAAAaJ9AAAAAAABsn0AAAAAAAHCfQAAAAAAAdJ9AAAAAAAB4n0AAAAAAAHyfQAAAAAAAgJ9AAAAAAACEn0AAAAAAAIifQAAAAAAAjJ9AAAAAAACQn0AAAAAAAJSfQAAAAAAAmJ9A",
          "dtype": "f8"
         },
         "y": {
          "bdata": "XI/C9SicNkBcj8L1KNw1QGZmZmZmZjZAUrgeheuRN0D2KFyPwjU3QEjhehSuBzdA16NwPQqXN0DNzMzMzAw5QHsUrkfhujhA7FG4HoVrOUBxPQrXozA5QJqZmZmZ2ThApHA9CtfjNkCF61G4HgU2QM3MzMzMzDRAhetRuB5FNEBmZmZmZqYyQFK4HoXrkTFAuB6F61E4MEDD9Shcj0ItQOF6FK5H4S1A7FG4HoVrLUA9CtejcL0sQOxRuB6F6ylA16NwPQpXK0C4HoXrUbgoQKRwPQrXoyVA",
          "dtype": "f8"
         }
        },
        {
         "line": {
          "width": 2
         },
         "marker": {
          "size": 6
         },
         "mode": "lines+markers",
         "name": "China Alone",
         "type": "scatter",
         "x": {
          "bdata": "AAAAAAAwn0AAAAAAADSfQAAAAAAAOJ9AAAAAAAA8n0AAAAAAAECfQAAAAAAARJ9AAAAAAABIn0AAAAAAAEyfQAAAAAAAUJ9AAAAAAABUn0AAAAAAAFifQAAAAAAAXJ9AAAAAAABgn0AAAAAAAGSfQAAAAAAAaJ9AAAAAAABsn0AAAAAAAHCfQAAAAAAAdJ9AAAAAAAB4n0AAAAAAAHyfQAAAAAAAgJ9AAAAAAACEn0AAAAAAAIifQAAAAAAAjJ9AAAAAAACQn0AAAAAAAJSfQAAAAAAAmJ9A",
          "dtype": "f8"
         },
         "y": {
          "bdata": "FK5H4XoU9j+4HoXrUbj6P/YoXI/C9fg/9ihcj8L1/D+PwvUoXI8CQM3MzMzMzAJAUrgehetRCEA9CtejcD0OQK5H4XoUrhFAH4XrUbgeFEBmZmZmZmYYQMP1KFyPwhtASOF6FK5HIEC4HoXrUTgjQHE9Ctej8CZA7FG4HoXrKkCF61G4HgUvQEjhehSuRzJArkfhehSuNED2KFyPwjU2QEjhehSuBzhACtejcD0KOUC4HoXrUfg7QD0K16NwvT5A16NwPQqXPUBmZmZmZgZBQArXo3A9SkNA",
          "dtype": "f8"
         }
        },
        {
         "line": {
          "width": 2
         },
         "marker": {
          "size": 6
         },
         "mode": "lines+markers",
         "name": "India",
         "type": "scatter",
         "x": {
          "bdata": "AAAAAAAwn0AAAAAAADSfQAAAAAAAOJ9AAAAAAAA8n0AAAAAAAECfQAAAAAAARJ9AAAAAAABIn0AAAAAAAEyfQAAAAAAAUJ9AAAAAAABUn0AAAAAAAFifQAAAAAAAXJ9AAAAAAABgn0AAAAAAAGSfQAAAAAAAaJ9AAAAAAABsn0AAAAAAAHCfQAAAAAAAdJ9AAAAAAAB4n0AAAAAAAHyfQAAAAAAAgJ9AAAAAAACEn0AAAAAAAIifQAAAAAAAjJ9AAAAAAACQn0AAAAAAAJSfQAAAAAAAmJ9A",
          "dtype": "f8"
         },
         "y": {
          "bdata": "SOF6FK5H/T9cj8L1KFz/P5qZmZmZmf0/ZmZmZmZmAEAAAAAAAAACQHsUrkfhegZASOF6FK5HB0AfhetRuB4JQK5H4XoUrg1A9ihcj8L1DEAK16NwPQoRQK5H4XoUrhJA16NwPQrXEUD2KFyPwvUTQLgehetRuBZA4XoUrkfhF0Bcj8L1KFwcQJqZmZmZmR9APQrXo3C9IUAAAAAAAAAhQK5H4XoUriBAPQrXo3A9IEBI4XoUrkccQArXo3A9Ch1AhetRuB6FGkBmZmZmZmYZQPYoXI/C9R1A",
          "dtype": "f8"
         }
        },
        {
         "line": {
          "width": 2
         },
         "marker": {
          "size": 6
         },
         "mode": "lines+markers",
         "name": "Japan",
         "type": "scatter",
         "x": {
          "bdata": "AAAAAAAwn0AAAAAAADSfQAAAAAAAOJ9AAAAAAAA8n0AAAAAAAECfQAAAAAAARJ9AAAAAAABIn0AAAAAAAEyfQAAAAAAAUJ9AAAAAAABUn0AAAAAAAFifQAAAAAAAXJ9AAAAAAABgn0AAAAAAAGSfQAAAAAAAaJ9AAAAAAABsn0AAAAAAAHCfQAAAAAAAdJ9AAAAAAAB4n0AAAAAAAHyfQAAAAAAAgJ9AAAAAAACEn0AAAAAAAIifQAAAAAAAjJ9AAAAAAACQn0AAAAAAAJSfQAAAAAAAmJ9A",
          "dtype": "f8"
         },
         "y": {
          "bdata": "SOF6FK7HKEApXI/C9agpQNejcD0KVypAzczMzMzMKEA9CtejcL0sQArXo3A9iixArkfhehSuKkAfhetRuJ4oQLgehetRuChAj8L1KFwPJ0AAAAAAAIAmQDMzMzMzsyVAH4XrUbgeJUB7FK5H4fokQI/C9ShcjyFA9ihcj8J1IUA9CtejcD0iQGZmZmZmZiBAKVyPwvUoHkA9CtejcD0eQArXo3A9ChxACtejcD0KHEDD9Shcj8IaQPYoXI/C9RhAXI/C9ShcGUDD9Shcj8IXQEjhehSuRxRA",
          "dtype": "f8"
         }
        },
        {
         "line": {
          "width": 2
         },
         "marker": {
          "size": 6
         },
         "mode": "lines+markers",
         "name": "Germany",
         "type": "scatter",
         "x": {
          "bdata": "AAAAAAAwn0AAAAAAADSfQAAAAAAAOJ9AAAAAAAA8n0AAAAAAAECfQAAAAAAARJ9AAAAAAABIn0AAAAAAAEyfQAAAAAAAUJ9AAAAAAABUn0AAAAAAAFifQAAAAAAAXJ9AAAAAAABgn0AAAAAAAGSfQAAAAAAAaJ9AAAAAAABsn0AAAAAAAHCfQAAAAAAAdJ9AAAAAAAB4n0AAAAAAAHyfQAAAAAAAgJ9AAAAAAACEn0AAAAAAAIifQAAAAAAAjJ9AAAAAAACQn0AAAAAAAJSfQAAAAAAAmJ9A",
          "dtype": "f8"
         },
         "y": {
          "bdata": "KVyPwvUoHkC4HoXrUbghQJqZmZmZmSBAuB6F61E4IEC4HoXrUbgfQPYoXI/C9R1ACtejcD0KG0DD9Shcj8IaQI/C9ShcjxpAMzMzMzMzGkDNzMzMzMwYQArXo3A9ChdAw/UoXI/CF0AK16NwPQoXQBSuR+F6FBdAw/UoXI/CF0ApXI/C9SgYQLgehetRuBlAmpmZmZmZF0A9CtejcD0YQI/C9ShcjxdAAAAAAAAAGECPwvUoXI8XQI/C9ShcjxdAAAAAAAAAGEAK16NwPQoYQM3MzMzMzBNA",
          "dtype": "f8"
         }
        },
        {
         "line": {
          "width": 2
         },
         "marker": {
          "size": 6
         },
         "mode": "lines+markers",
         "name": "Russia",
         "type": "scatter",
         "x": {
          "bdata": "AAAAAAAwn0AAAAAAADSfQAAAAAAAOJ9AAAAAAAA8n0AAAAAAAECfQAAAAAAARJ9AAAAAAABIn0AAAAAAAEyfQAAAAAAAUJ9AAAAAAABUn0AAAAAAAFifQAAAAAAAXJ9AAAAAAABgn0AAAAAAAGSfQAAAAAAAaJ9AAAAAAABsn0AAAAAAAHCfQAAAAAAAdJ9AAAAAAAB4n0AAAAAAAHyfQAAAAAAAgJ9AAAAAAACEn0AAAAAAAIifQAAAAAAAjJ9AAAAAAACQn0AAAAAAAJSfQAAAAAAAmJ9A",
          "dtype": "f8"
         },
         "y": {
          "bdata": "mpmZmZmZ+T9I4XoUrkf1P65H4XoUrvc/pHA9Ctej9D8zMzMzMzP/P7gehetRuAxAXI/C9ShcCUDNzMzMzMwIQK5H4XoUrgdAMzMzMzMzC0AUrkfhehQIQFK4HoXrUQpAUrgehetRBkB7FK5H4XoGQFK4HoXrUQRAUrgehetRBEBSuB6F61ECQDMzMzMzMwFAMzMzMzMzAUAUrkfhehQEQDMzMzMzMwVA9ihcj8L1BkDD9Shcj8IHQI/C9ShcjwhAPQrXo3A9CECamZmZmZkHQArXo3A9CgdA",
          "dtype": "f8"
         }
        },
        {
         "line": {
          "width": 2
         },
         "marker": {
          "size": 6
         },
         "mode": "lines+markers",
         "name": "United Kingdom",
         "type": "scatter",
         "x": {
          "bdata": "AAAAAAAwn0AAAAAAADSfQAAAAAAAOJ9AAAAAAAA8n0AAAAAAAECfQAAAAAAARJ9AAAAAAABIn0AAAAAAAEyfQAAAAAAAUJ9AAAAAAABUn0AAAAAAAFifQAAAAAAAXJ9AAAAAAABgn0AAAAAAAGSfQAAAAAAAaJ9AAAAAAABsn0AAAAAAAHCfQAAAAAAAdJ9AAAAAAAB4n0AAAAAAAHyfQAAAAAAAgJ9AAAAAAACEn0AAAAAAAIifQAAAAAAAjJ9AAAAAAACQn0AAAAAAAJSfQAAAAAAAmJ9A",
          "dtype": "f8"
         },
         "y": {
          "bdata": "9ihcj8L1EEBxPQrXo3AQQK5H4XoUrhBArkfhehSuEEBxPQrXo3AZQK5H4XoUrhdAj8L1KFyPFEA9CtejcD0VQLgehetRuBRAH4XrUbgeFEA9CtejcD0UQIXrUbgehRRA4XoUrkfhE0CkcD0K16MSQPYoXI/C9RFAXI/C9ShcEkAfhetRuB4RQGZmZmZmZhBAuB6F61G4DkBxPQrXo3APQOxRuB6F6w9Aj8L1KFyPDkAzMzMzMzMLQFK4HoXrUQpAXI/C9ShcCUDsUbgehesFQK5H4XoUrgVA",
          "dtype": "f8"
         }
        },
        {
         "line": {
          "width": 2
         },
         "marker": {
          "size": 6
         },
         "mode": "lines+markers",
         "name": "France",
         "type": "scatter",
         "x": {
          "bdata": "AAAAAAAwn0AAAAAAADSfQAAAAAAAOJ9AAAAAAAA8n0AAAAAAAECfQAAAAAAARJ9AAAAAAABIn0AAAAAAAEyfQAAAAAAAUJ9AAAAAAABUn0AAAAAAAFifQAAAAAAAXJ9AAAAAAABgn0AAAAAAAGSfQAAAAAAAaJ9AAAAAAABsn0AAAAAAAHCfQAAAAAAAdJ9AAAAAAAB4n0AAAAAAAHyfQAAAAAAAgJ9AAAAAAACEn0AAAAAAAIifQAAAAAAAjJ9AAAAAAACQn0AAAAAAAJSfQAAAAAAAmJ9A",
          "dtype": "f8"
         },
         "y": {
          "bdata": "XI/C9ShcFUBSuB6F61EWQD0K16NwPRZAH4XrUbgeFkBI4XoUrkcXQI/C9ShcjxVA4XoUrkfhFEDNzMzMzMwTQLgehetRuBFASOF6FK5HEkAzMzMzMzMTQClcj8L1KBNAzczMzMzMEUAzMzMzMzMSQClcj8L1KBFAzczMzMzMEEBmZmZmZmYQQMP1KFyPwg9ArkfhehSuDUAK16NwPQoLQLgehetRuApAzczMzMzMCEA9CtejcD0IQFK4HoXrUQRAXI/C9ShcBUBmZmZmZmYEQAAAAAAAAAJA",
          "dtype": "f8"
         }
        },
        {
         "line": {
          "width": 2
         },
         "marker": {
          "size": 6
         },
         "mode": "lines+markers",
         "name": "China w/o US",
         "type": "scatter",
         "x": {
          "bdata": "AAAAAAAwn0AAAAAAADSfQAAAAAAAOJ9AAAAAAAA8n0AAAAAAAECfQAAAAAAARJ9AAAAAAABIn0AAAAAAAEyfQAAAAAAAUJ9AAAAAAABUn0AAAAAAAFifQAAAAAAAXJ9AAAAAAABgn0AAAAAAAGSfQAAAAAAAaJ9AAAAAAABsn0AAAAAAAHCfQAAAAAAAdJ9AAAAAAAB4n0AAAAAAAHyfQAAAAAAAgJ9AAAAAAACEn0AAAAAAAIifQAAAAAAAjJ9AAAAAAACQn0AAAAAAAJSfQAAAAAAAmJ9A",
          "dtype": "f8"
         },
         "y": {
          "bdata": "4XoUrkfh9j+uR+F6FK77P8P1KFyPwvk/ZmZmZmZm/j+amZmZmZkDQOxRuB6F6wNAMzMzMzMzCUAzMzMzMzMPQDMzMzMzMxJAw/UoXI/CFEDsUbgehesYQBSuR+F6FBxAhetRuB6FIEAfhetRuJ4jQD0K16NwPSdAFK5H4XqUK0A9CtejcL0vQMP1KFyPgjJAw/UoXI8CNUDD9Shcj4I2QK5H4XoULjhAuB6F61F4OUD2KFyPwnU8QGZmZmZmJj9AmpmZmZlZPkBcj8L1KFxBQAAAAAAAwENA",
          "dtype": "f8"
         }
        },
        {
         "line": {
          "width": 2
         },
         "marker": {
          "size": 6
         },
         "mode": "lines+markers",
         "name": "USA w/o China",
         "type": "scatter",
         "x": {
          "bdata": "AAAAAAAwn0AAAAAAADSfQAAAAAAAOJ9AAAAAAAA8n0AAAAAAAECfQAAAAAAARJ9AAAAAAABIn0AAAAAAAEyfQAAAAAAAUJ9AAAAAAABUn0AAAAAAAFifQAAAAAAAXJ9AAAAAAABgn0AAAAAAAGSfQAAAAAAAaJ9AAAAAAABsn0AAAAAAAHCfQAAAAAAAdJ9AAAAAAAB4n0AAAAAAAHyfQAAAAAAAgJ9AAAAAAACEn0AAAAAAAIifQAAAAAAAjJ9AAAAAAACQn0AAAAAAAJSfQAAAAAAAmJ9A",
          "dtype": "f8"
         },
         "y": {
          "bdata": "UrgeheuRNkAUrkfhetQ1QFyPwvUoXDZAhetRuB6FN0DsUbgehSs3QPYoXI/C9TZAw/UoXI+CN0DsUbgehes4QFK4HoXrkThASOF6FK5HOUC4HoXrUfg4QEjhehSuhzhACtejcD1KNkDsUbgehWs1QOF6FK5H4TNAhetRuB6FM0A9CtejcL0xQI/C9ShcjzBAAAAAAAAALkCkcD0K16MqQDMzMzMzsypASOF6FK7HKUAK16NwPQopQAAAAAAAACZAZmZmZmZmJ0BSuB6F61ElQFK4HoXr0SFA",
          "dtype": "f8"
         }
        },
        {
         "line": {
          "width": 2
         },
         "marker": {
          "size": 6
         },
         "mode": "lines+markers",
         "name": "USA alone",
         "type": "scatter",
         "x": {
          "bdata": "AAAAAAAwn0AAAAAAADSfQAAAAAAAOJ9AAAAAAAA8n0AAAAAAAECfQAAAAAAARJ9AAAAAAABIn0AAAAAAAEyfQAAAAAAAUJ9AAAAAAABUn0AAAAAAAFifQAAAAAAAXJ9AAAAAAABgn0AAAAAAAGSfQAAAAAAAaJ9AAAAAAABsn0AAAAAAAHCfQAAAAAAAdJ9AAAAAAAB4n0AAAAAAAHyfQAAAAAAAgJ9AAAAAAACEn0AAAAAAAIifQAAAAAAAjJ9AAAAAAACQn0AAAAAAAJSfQAAAAAAAmJ9A",
          "dtype": "f8"
         },
         "y": {
          "bdata": "KVyPwvXoNUBmZmZmZiY1QArXo3A9ijVArkfhehSuNkD2KFyPwnU2QClcj8L16DVAFK5H4XqUNkDhehSuR+E3QMP1KFyPgjdAH4XrUbheOECPwvUoXA84QD0K16NwfTdASOF6FK5HNUAAAAAAAAA0QNejcD0KVzJAhetRuB4FMkBmZmZmZqYwQIXrUbgeBS9AFK5H4XoULEBcj8L1KNwoQMP1KFyPQilAKVyPwvWoKECamZmZmRkoQOF6FK5HYSVACtejcD0KJkAUrkfhehQkQB+F61G4HiFA",
          "dtype": "f8"
         }
        }
       ],
       "layout": {
        "hovermode": "x unified",
        "template": {
         "data": {
          "bar": [
           {
            "error_x": {
             "color": "#2a3f5f"
            },
            "error_y": {
             "color": "#2a3f5f"
            },
            "marker": {
             "line": {
              "color": "white",
              "width": 0.5
             },
             "pattern": {
              "fillmode": "overlay",
              "size": 10,
              "solidity": 0.2
             }
            },
            "type": "bar"
           }
          ],
          "barpolar": [
           {
            "marker": {
             "line": {
              "color": "white",
              "width": 0.5
             },
             "pattern": {
              "fillmode": "overlay",
              "size": 10,
              "solidity": 0.2
             }
            },
            "type": "barpolar"
           }
          ],
          "carpet": [
           {
            "aaxis": {
             "endlinecolor": "#2a3f5f",
             "gridcolor": "#C8D4E3",
             "linecolor": "#C8D4E3",
             "minorgridcolor": "#C8D4E3",
             "startlinecolor": "#2a3f5f"
            },
            "baxis": {
             "endlinecolor": "#2a3f5f",
             "gridcolor": "#C8D4E3",
             "linecolor": "#C8D4E3",
             "minorgridcolor": "#C8D4E3",
             "startlinecolor": "#2a3f5f"
            },
            "type": "carpet"
           }
          ],
          "choropleth": [
           {
            "colorbar": {
             "outlinewidth": 0,
             "ticks": ""
            },
            "type": "choropleth"
           }
          ],
          "contour": [
           {
            "colorbar": {
             "outlinewidth": 0,
             "ticks": ""
            },
            "colorscale": [
             [
              0,
              "#0d0887"
             ],
             [
              0.1111111111111111,
              "#46039f"
             ],
             [
              0.2222222222222222,
              "#7201a8"
             ],
             [
              0.3333333333333333,
              "#9c179e"
             ],
             [
              0.4444444444444444,
              "#bd3786"
             ],
             [
              0.5555555555555556,
              "#d8576b"
             ],
             [
              0.6666666666666666,
              "#ed7953"
             ],
             [
              0.7777777777777778,
              "#fb9f3a"
             ],
             [
              0.8888888888888888,
              "#fdca26"
             ],
             [
              1,
              "#f0f921"
             ]
            ],
            "type": "contour"
           }
          ],
          "contourcarpet": [
           {
            "colorbar": {
             "outlinewidth": 0,
             "ticks": ""
            },
            "type": "contourcarpet"
           }
          ],
          "heatmap": [
           {
            "colorbar": {
             "outlinewidth": 0,
             "ticks": ""
            },
            "colorscale": [
             [
              0,
              "#0d0887"
             ],
             [
              0.1111111111111111,
              "#46039f"
             ],
             [
              0.2222222222222222,
              "#7201a8"
             ],
             [
              0.3333333333333333,
              "#9c179e"
             ],
             [
              0.4444444444444444,
              "#bd3786"
             ],
             [
              0.5555555555555556,
              "#d8576b"
             ],
             [
              0.6666666666666666,
              "#ed7953"
             ],
             [
              0.7777777777777778,
              "#fb9f3a"
             ],
             [
              0.8888888888888888,
              "#fdca26"
             ],
             [
              1,
              "#f0f921"
             ]
            ],
            "type": "heatmap"
           }
          ],
          "histogram": [
           {
            "marker": {
             "pattern": {
              "fillmode": "overlay",
              "size": 10,
              "solidity": 0.2
             }
            },
            "type": "histogram"
           }
          ],
          "histogram2d": [
           {
            "colorbar": {
             "outlinewidth": 0,
             "ticks": ""
            },
            "colorscale": [
             [
              0,
              "#0d0887"
             ],
             [
              0.1111111111111111,
              "#46039f"
             ],
             [
              0.2222222222222222,
              "#7201a8"
             ],
             [
              0.3333333333333333,
              "#9c179e"
             ],
             [
              0.4444444444444444,
              "#bd3786"
             ],
             [
              0.5555555555555556,
              "#d8576b"
             ],
             [
              0.6666666666666666,
              "#ed7953"
             ],
             [
              0.7777777777777778,
              "#fb9f3a"
             ],
             [
              0.8888888888888888,
              "#fdca26"
             ],
             [
              1,
              "#f0f921"
             ]
            ],
            "type": "histogram2d"
           }
          ],
          "histogram2dcontour": [
           {
            "colorbar": {
             "outlinewidth": 0,
             "ticks": ""
            },
            "colorscale": [
             [
              0,
              "#0d0887"
             ],
             [
              0.1111111111111111,
              "#46039f"
             ],
             [
              0.2222222222222222,
              "#7201a8"
             ],
             [
              0.3333333333333333,
              "#9c179e"
             ],
             [
              0.4444444444444444,
              "#bd3786"
             ],
             [
              0.5555555555555556,
              "#d8576b"
             ],
             [
              0.6666666666666666,
              "#ed7953"
             ],
             [
              0.7777777777777778,
              "#fb9f3a"
             ],
             [
              0.8888888888888888,
              "#fdca26"
             ],
             [
              1,
              "#f0f921"
             ]
            ],
            "type": "histogram2dcontour"
           }
          ],
          "mesh3d": [
           {
            "colorbar": {
             "outlinewidth": 0,
             "ticks": ""
            },
            "type": "mesh3d"
           }
          ],
          "parcoords": [
           {
            "line": {
             "colorbar": {
              "outlinewidth": 0,
              "ticks": ""
             }
            },
            "type": "parcoords"
           }
          ],
          "pie": [
           {
            "automargin": true,
            "type": "pie"
           }
          ],
          "scatter": [
           {
            "fillpattern": {
             "fillmode": "overlay",
             "size": 10,
             "solidity": 0.2
            },
            "type": "scatter"
           }
          ],
          "scatter3d": [
           {
            "line": {
             "colorbar": {
              "outlinewidth": 0,
              "ticks": ""
             }
            },
            "marker": {
             "colorbar": {
              "outlinewidth": 0,
              "ticks": ""
             }
            },
            "type": "scatter3d"
           }
          ],
          "scattercarpet": [
           {
            "marker": {
             "colorbar": {
              "outlinewidth": 0,
              "ticks": ""
             }
            },
            "type": "scattercarpet"
           }
          ],
          "scattergeo": [
           {
            "marker": {
             "colorbar": {
              "outlinewidth": 0,
              "ticks": ""
             }
            },
            "type": "scattergeo"
           }
          ],
          "scattergl": [
           {
            "marker": {
             "colorbar": {
              "outlinewidth": 0,
              "ticks": ""
             }
            },
            "type": "scattergl"
           }
          ],
          "scattermap": [
           {
            "marker": {
             "colorbar": {
              "outlinewidth": 0,
              "ticks": ""
             }
            },
            "type": "scattermap"
           }
          ],
          "scattermapbox": [
           {
            "marker": {
             "colorbar": {
              "outlinewidth": 0,
              "ticks": ""
             }
            },
            "type": "scattermapbox"
           }
          ],
          "scatterpolar": [
           {
            "marker": {
             "colorbar": {
              "outlinewidth": 0,
              "ticks": ""
             }
            },
            "type": "scatterpolar"
           }
          ],
          "scatterpolargl": [
           {
            "marker": {
             "colorbar": {
              "outlinewidth": 0,
              "ticks": ""
             }
            },
            "type": "scatterpolargl"
           }
          ],
          "scatterternary": [
           {
            "marker": {
             "colorbar": {
              "outlinewidth": 0,
              "ticks": ""
             }
            },
            "type": "scatterternary"
           }
          ],
          "surface": [
           {
            "colorbar": {
             "outlinewidth": 0,
             "ticks": ""
            },
            "colorscale": [
             [
              0,
              "#0d0887"
             ],
             [
              0.1111111111111111,
              "#46039f"
             ],
             [
              0.2222222222222222,
              "#7201a8"
             ],
             [
              0.3333333333333333,
              "#9c179e"
             ],
             [
              0.4444444444444444,
              "#bd3786"
             ],
             [
              0.5555555555555556,
              "#d8576b"
             ],
             [
              0.6666666666666666,
              "#ed7953"
             ],
             [
              0.7777777777777778,
              "#fb9f3a"
             ],
             [
              0.8888888888888888,
              "#fdca26"
             ],
             [
              1,
              "#f0f921"
             ]
            ],
            "type": "surface"
           }
          ],
          "table": [
           {
            "cells": {
             "fill": {
              "color": "#EBF0F8"
             },
             "line": {
              "color": "white"
             }
            },
            "header": {
             "fill": {
              "color": "#C8D4E3"
             },
             "line": {
              "color": "white"
             }
            },
            "type": "table"
           }
          ]
         },
         "layout": {
          "annotationdefaults": {
           "arrowcolor": "#2a3f5f",
           "arrowhead": 0,
           "arrowwidth": 1
          },
          "autotypenumbers": "strict",
          "coloraxis": {
           "colorbar": {
            "outlinewidth": 0,
            "ticks": ""
           }
          },
          "colorscale": {
           "diverging": [
            [
             0,
             "#8e0152"
            ],
            [
             0.1,
             "#c51b7d"
            ],
            [
             0.2,
             "#de77ae"
            ],
            [
             0.3,
             "#f1b6da"
            ],
            [
             0.4,
             "#fde0ef"
            ],
            [
             0.5,
             "#f7f7f7"
            ],
            [
             0.6,
             "#e6f5d0"
            ],
            [
             0.7,
             "#b8e186"
            ],
            [
             0.8,
             "#7fbc41"
            ],
            [
             0.9,
             "#4d9221"
            ],
            [
             1,
             "#276419"
            ]
           ],
           "sequential": [
            [
             0,
             "#0d0887"
            ],
            [
             0.1111111111111111,
             "#46039f"
            ],
            [
             0.2222222222222222,
             "#7201a8"
            ],
            [
             0.3333333333333333,
             "#9c179e"
            ],
            [
             0.4444444444444444,
             "#bd3786"
            ],
            [
             0.5555555555555556,
             "#d8576b"
            ],
            [
             0.6666666666666666,
             "#ed7953"
            ],
            [
             0.7777777777777778,
             "#fb9f3a"
            ],
            [
             0.8888888888888888,
             "#fdca26"
            ],
            [
             1,
             "#f0f921"
            ]
           ],
           "sequentialminus": [
            [
             0,
             "#0d0887"
            ],
            [
             0.1111111111111111,
             "#46039f"
            ],
            [
             0.2222222222222222,
             "#7201a8"
            ],
            [
             0.3333333333333333,
             "#9c179e"
            ],
            [
             0.4444444444444444,
             "#bd3786"
            ],
            [
             0.5555555555555556,
             "#d8576b"
            ],
            [
             0.6666666666666666,
             "#ed7953"
            ],
            [
             0.7777777777777778,
             "#fb9f3a"
            ],
            [
             0.8888888888888888,
             "#fdca26"
            ],
            [
             1,
             "#f0f921"
            ]
           ]
          },
          "colorway": [
           "#636efa",
           "#EF553B",
           "#00cc96",
           "#ab63fa",
           "#FFA15A",
           "#19d3f3",
           "#FF6692",
           "#B6E880",
           "#FF97FF",
           "#FECB52"
          ],
          "font": {
           "color": "#2a3f5f"
          },
          "geo": {
           "bgcolor": "white",
           "lakecolor": "white",
           "landcolor": "white",
           "showlakes": true,
           "showland": true,
           "subunitcolor": "#C8D4E3"
          },
          "hoverlabel": {
           "align": "left"
          },
          "hovermode": "closest",
          "mapbox": {
           "style": "light"
          },
          "paper_bgcolor": "white",
          "plot_bgcolor": "white",
          "polar": {
           "angularaxis": {
            "gridcolor": "#EBF0F8",
            "linecolor": "#EBF0F8",
            "ticks": ""
           },
           "bgcolor": "white",
           "radialaxis": {
            "gridcolor": "#EBF0F8",
            "linecolor": "#EBF0F8",
            "ticks": ""
           }
          },
          "scene": {
           "xaxis": {
            "backgroundcolor": "white",
            "gridcolor": "#DFE8F3",
            "gridwidth": 2,
            "linecolor": "#EBF0F8",
            "showbackground": true,
            "ticks": "",
            "zerolinecolor": "#EBF0F8"
           },
           "yaxis": {
            "backgroundcolor": "white",
            "gridcolor": "#DFE8F3",
            "gridwidth": 2,
            "linecolor": "#EBF0F8",
            "showbackground": true,
            "ticks": "",
            "zerolinecolor": "#EBF0F8"
           },
           "zaxis": {
            "backgroundcolor": "white",
            "gridcolor": "#DFE8F3",
            "gridwidth": 2,
            "linecolor": "#EBF0F8",
            "showbackground": true,
            "ticks": "",
            "zerolinecolor": "#EBF0F8"
           }
          },
          "shapedefaults": {
           "line": {
            "color": "#2a3f5f"
           }
          },
          "ternary": {
           "aaxis": {
            "gridcolor": "#DFE8F3",
            "linecolor": "#A2B1C6",
            "ticks": ""
           },
           "baxis": {
            "gridcolor": "#DFE8F3",
            "linecolor": "#A2B1C6",
            "ticks": ""
           },
           "bgcolor": "white",
           "caxis": {
            "gridcolor": "#DFE8F3",
            "linecolor": "#A2B1C6",
            "ticks": ""
           }
          },
          "title": {
           "x": 0.05
          },
          "xaxis": {
           "automargin": true,
           "gridcolor": "#EBF0F8",
           "linecolor": "#EBF0F8",
           "ticks": "",
           "title": {
            "standoff": 15
           },
           "zerolinecolor": "#EBF0F8",
           "zerolinewidth": 2
          },
          "yaxis": {
           "automargin": true,
           "gridcolor": "#EBF0F8",
           "linecolor": "#EBF0F8",
           "ticks": "",
           "title": {
            "standoff": 15
           },
           "zerolinecolor": "#EBF0F8",
           "zerolinewidth": 2
          }
         }
        },
        "title": {
         "text": "Figure: Country participation in the CS"
        },
        "xaxis": {
         "title": {
          "text": "Year"
         }
        },
        "yaxis": {
         "title": {
          "text": "Value"
         }
        }
       }
      }
     },
     "metadata": {},
     "output_type": "display_data"
    }
   ],
   "source": [
    "# Process article data\n",
    "article_columns = ['source', 'year_x', 'country_x', 'percentage_x']\n",
    "if all(col in df.columns for col in article_columns):\n",
    "    article_data = df[article_columns].dropna().copy()\n",
    "    article_data.columns = ['source', 'year', 'country', 'value']\n",
    "    \n",
    "    # Filter for specific source\n",
    "    df_filtered = article_data[article_data['source'] == \"Country participation in the CS\"]\n",
    "    \n",
    "    if not df_filtered.empty:\n",
    "        print(f\"Found {len(df_filtered)} rows for 'Country participation in the CS'\")\n",
    "        fig = create_article_plot(df_filtered, \"Country participation in the CS\")\n",
    "        fig.show()\n",
    "    else:\n",
    "        print(\"No data found for 'Country participation in the CS'\")\n",
    "else:\n",
    "    print(\"Article data columns not found in the dataset\")\n",
    "    # Create dummy article data for testing\n",
    "    print(\"Creating dummy article data...\")\n",
    "    article_data = pd.DataFrame({\n",
    "        'source': ['Country participation in the CS'] * 69,\n",
    "        'year': list(range(2000, 2023)) * 3,\n",
    "        'country': ['United States'] * 23 + ['China'] * 23 + ['Germany'] * 23,\n",
    "        'value': np.random.uniform(1, 10, 69),\n",
    "    })\n",
    "    \n",
    "    df_filtered = article_data[article_data['source'] == \"Country participation in the CS\"]\n",
    "    fig = create_article_plot(df_filtered, \"Country participation in the CS\")\n",
    "    fig.show()"
   ]
  },
  {
   "cell_type": "markdown",
   "metadata": {},
   "source": [
    "### 4.2 Top Collaborations Plot"
   ]
  },
  {
   "cell_type": "code",
   "execution_count": null,
   "metadata": {},
   "outputs": [
    {
     "data": {
      "application/vnd.plotly.v1+json": {
       "config": {
        "plotlyServerURL": "https://plot.ly"
       },
       "data": [
        {
         "line": {
          "width": 1.5
         },
         "marker": {
          "size": 4
         },
         "mode": "lines+markers",
         "name": "Canada, United States",
         "type": "scatter",
         "x": {
          "bdata": "AAAAAABsn0AAAAAAAGifQAAAAAAAeJ9AAAAAAAA8n0AAAAAAAFyfQAAAAAAAkJ9AAAAAAACYn0AAAAAAAHCfQAAAAAAAdJ9AAAAAAABMn0AAAAAAAHyfQAAAAAAAgJ9AAAAAAABkn0AAAAAAAGCfQAAAAAAAhJ9AAAAAAABYn0AAAAAAAIyfQAAAAAAAVJ9AAAAAAABQn0AAAAAAAIifQAAAAAAARJ9AAAAAAACUn0AAAAAAAECfQAAAAAAAMJ9AAAAAAAA0n0AAAAAAAEifQAAAAAAAOJ9A",
          "dtype": "f8"
         },
         "y": {
          "bdata": "VBdYFjh41D9V27AaCRzTPzbisNHFCNM/kcAcxm8N0D9NLTBrL9DOPyrfwby4Ls4/d2CW/KN9zT+HqOhmhBnNP5QMxqlSysw/Ze1jw6J7zD+XrbjiKT7MP9kaWxmeKMw/eUBVXIdwyz9YpbqhpcLKP/TTzhzRfso/ies5ZUU/yT8+whIKb6HHPySuHz908cU/I7lka2ntxD89CIrqcN7DP2kEuKwEg8M/3YmZSi0+wz/+/Gs3yai+P1qkVobbm7w/t2oRMD71uD8rXQFSidW2P0N3pFWIorI/",
          "dtype": "f8"
         }
        },
        {
         "line": {
          "width": 1.5
         },
         "marker": {
          "size": 4
         },
         "mode": "lines+markers",
         "name": "China, Japan",
         "type": "scatter",
         "x": {
          "bdata": "AAAAAACQn0AAAAAAAJSfQAAAAAAAmJ9AAAAAAAB4n0AAAAAAAIifQAAAAAAAgJ9AAAAAAACMn0AAAAAAAGyfQAAAAAAAcJ9AAAAAAABgn0AAAAAAAHSfQAAAAAAAZJ9AAAAAAABon0AAAAAAAHyfQAAAAAAAhJ9AAAAAAABQn0AAAAAAAFyfQAAAAAAASJ9AAAAAAABYn0AAAAAAAFSfQAAAAAAARJ9AAAAAAABMn0AAAAAAAECfQAAAAAAAMJ9AAAAAAAA8n0AAAAAAADSfQAAAAAAAOJ9A",
          "dtype": "f8"
         },
         "y": {
          "bdata": "igGg97dF0T8e65PwRbrPP10+HYWndM4/6wMfPEAbyj8ypC8p4wTHP5AzFS4g/sU/F4OR21LuxT+T/8nfvaPFP5SnDBkYRMM//ywAB5kWwj8pkKkg3vHBP8fjn6K1pcE/6zRWix2HwT94p0IJIQrBPz8HF6R5/cA/efjkwRODuz9LkOuIPv25P3bpyXZqILg/XeXMIIUFuD/eb4ljKmu3PwV/wlC8B7U/KxYG/zcDtT86JcdtmautPxv4rMZtj6U/zAFfKmYfoT+U/kwnU7GgP3ssLKGDeps/",
          "dtype": "f8"
         }
        },
        {
         "line": {
          "width": 1.5
         },
         "marker": {
          "size": 4
         },
         "mode": "lines+markers",
         "name": "China, United States",
         "type": "scatter",
         "x": {
          "bdata": "AAAAAACQn0AAAAAAAISfQAAAAAAAmJ9AAAAAAACMn0AAAAAAAICfQAAAAAAAiJ9AAAAAAACUn0AAAAAAAHyfQAAAAAAAeJ9AAAAAAAB0n0AAAAAAAGifQAAAAAAAcJ9AAAAAAABsn0AAAAAAAGSfQAAAAAAAYJ9AAAAAAABcn0AAAAAAAFifQAAAAAAAUJ9AAAAAAABUn0AAAAAAAEyfQAAAAAAASJ9AAAAAAABEn0AAAAAAADifQAAAAAAAPJ9AAAAAAABAn0AAAAAAADSfQAAAAAAAMJ9A",
          "dtype": "f8"
         },
         "y": {
          "bdata": "d7V8J93z+T+idxu1cX35P8TB6jcv8Pg/olZKL2f39z9Ltz4PYq33P1uOoa2UT/c/dYE6ASfF9D8S3S92LbfxP1Y9r2QGU/E/hMiWo8+w7T8nOXn0M7PpP3k72QU3zeg/dynTOjom5T/stD2TYF7hP2Q41nnfrt8/9qMqa3AC0z+L/tWFTdTJP6TxNC5W88A/GDfL69xCwD9vM5Gp7Wy7PxH7JV51T7I/paL4ywNlrD/Ig2zaPkSjP0SJ4srjraI/suC4a40xoT/A8A0vzx2fPxgLJ4/FO5Q/",
          "dtype": "f8"
         }
        },
        {
         "line": {
          "width": 1.5
         },
         "marker": {
          "size": 4
         },
         "mode": "lines+markers",
         "name": "Germany, France",
         "type": "scatter",
         "x": {
          "bdata": "AAAAAABYn0AAAAAAAGifQAAAAAAAZJ9AAAAAAACMn0AAAAAAAEifQAAAAAAAPJ9AAAAAAABEn0AAAAAAAJCfQAAAAAAAiJ9AAAAAAACYn0AAAAAAAHyfQAAAAAAAeJ9AAAAAAAA4n0AAAAAAAFSfQAAAAAAAhJ9AAAAAAABsn0AAAAAAAHCfQAAAAAAAMJ9AAAAAAACAn0AAAAAAAHSfQAAAAAAANJ9AAAAAAABcn0AAAAAAAGCfQAAAAAAAUJ9AAAAAAABMn0AAAAAAAJSfQAAAAAAAQJ9A",
          "dtype": "f8"
         },
         "y": {
          "bdata": "fCIV5yTrxj+ZUiJ/7FLFP2JoxrmF4sQ/aenXxGyDwj8jy7TDgCHCP7r3oAKIBMI//HgGErbNwT/SSB5kZtq/PyTTzFNQY78/dYOjD1YWvz+G1VrDBVO+P+L79DVRn70/x0sg7csOvT/OmjnTbdG8P9Lus3GUobw/eDzzk+bmuz/WY9nOItS7P4wxAdbih7s/nKRcjhWEuz/Hq0HShke7PwV0uoffqLo/gxw2v9H2uD8IixMq+1izP2lD2tPJKrM/PaJgy83lsj+XsdaNzceyP1oyAZ44qbA/",
          "dtype": "f8"
         }
        },
        {
         "line": {
          "width": 1.5
         },
         "marker": {
          "size": 4
         },
         "mode": "lines+markers",
         "name": "Germany, United States",
         "type": "scatter",
         "x": {
          "bdata": "AAAAAACUn0AAAAAAAJifQAAAAAAAaJ9AAAAAAABsn0AAAAAAAESfQAAAAAAAjJ9AAAAAAABwn0AAAAAAAISfQAAAAAAAkJ9AAAAAAACAn0AAAAAAAHifQAAAAAAAdJ9AAAAAAACIn0AAAAAAAGSfQAAAAAAAPJ9AAAAAAABcn0AAAAAAAHyfQAAAAAAAYJ9AAAAAAABQn0AAAAAAAEyfQAAAAAAAVJ9AAAAAAAA4n0AAAAAAAEifQAAAAAAANJ9AAAAAAABAn0AAAAAAADCfQAAAAAAAWJ9A",
          "dtype": "f8"
         },
         "y": {
          "bdata": "zGMCu/D82j8Vq25E44jYP7fuSdTJAdg/tW/4IZJo1j/ZzcnhTHnTP8l+gC8xKNI/RkuIM2t70T80Cu6sgj3RP7L3YwwM1tA/8Tu9unkW0D+zjETQ54/PP3lGn7JBNs8/RpPzFCXgzj+x3PN4Mf/LP4aZkrnt08g/fl6YHNw1yD8w+7nEOA/IPwsVhkKwnMc/a0nkDt0kxz9sta2E8wvFP8U9Llv/r8Q/Zdqj3CJVxD9CTDEjljbEPzaOU9KVGMQ/YsuadDXbwz9ora9IKErBP48b1DeWG70/",
          "dtype": "f8"
         }
        },
        {
         "line": {
          "width": 1.5
         },
         "marker": {
          "size": 4
         },
         "mode": "lines+markers",
         "name": "France, United States",
         "type": "scatter",
         "x": {
          "bdata": "AAAAAABQn0AAAAAAAGifQAAAAAAAfJ9AAAAAAABUn0AAAAAAAESfQAAAAAAAbJ9AAAAAAABkn0AAAAAAAGCfQAAAAAAAOJ9AAAAAAABIn0AAAAAAAHSfQAAAAAAAXJ9AAAAAAABMn0AAAAAAAJCfQAAAAAAAmJ9AAAAAAABAn0AAAAAAADyfQAAAAAAAMJ9AAAAAAAA0n0AAAAAAAHCfQAAAAAAAiJ9AAAAAAAB4n0AAAAAAAISfQAAAAAAAjJ9AAAAAAACUn0AAAAAAAICfQAAAAAAAWJ9A",
          "dtype": "f8"
         },
         "y": {
          "bdata": "JhFRtMH1xD8BUjgO/vbDPzP3FCliy8M/zL9ykTYmwz9sQhhH/sPBPzKYa0NYXME/G4XsCBzTwD9o63PEQKjAP42CC3JK0r8/V1FgWgRhvz828eVwc0u/P2WH6VwAg74/1Osy1uB4vT+49B4dDZa8Pwyp5JRn+7o//ptZQ5Cguj9uRtAPWHa6P/LbhDlJDLg/VdS0GRS+tz8XuJ8ASHW3PwJzDk3CTbc/LZjS3AUotz/em3SVzSC3P1vgnxAJeLQ/Cty/VGGjsj8sOaAFnoSyP3llzX6TXLA/",
          "dtype": "f8"
         }
        },
        {
         "line": {
          "width": 1.5
         },
         "marker": {
          "size": 4
         },
         "mode": "lines+markers",
         "name": "United Kingdom, United States",
         "type": "scatter",
         "x": {
          "bdata": "AAAAAABon0AAAAAAAGyfQAAAAAAAcJ9AAAAAAACMn0AAAAAAAHyfQAAAAAAAZJ9AAAAAAAB4n0AAAAAAAGCfQAAAAAAAiJ9AAAAAAACYn0AAAAAAAEifQAAAAAAAhJ9AAAAAAACQn0AAAAAAAFyfQAAAAAAAlJ9AAAAAAAB0n0AAAAAAAEyfQAAAAAAAPJ9AAAAAAAA4n0AAAAAAAFifQAAAAAAARJ9AAAAAAACAn0AAAAAAAFSfQAAAAAAAUJ9AAAAAAAAwn0AAAAAAADSfQAAAAAAAQJ9A",
          "dtype": "f8"
         },
         "y": {
          "bdata": "NJL4bWw83z9OkgKZCgLeP1rYkfKsZ9s/BXgIbJlv2j9tiglihy7aP8OD51fTktg/D/y0+Zsq1z/P+k2OJgrXPwkijTUcydU/j0R0d7li1T/KafQPxz/UP7jpPBvTAtQ/gEunReL90z8M5KmsReLTPyYF2Vx8xNM/0bRFS37B0z/GT3GJFCTRP6Jp5E5EOtA/vFZPoUuczT/XKmYp/tTMP9sMsaYkPsw/0aTG5Ao4zD9PAx3lFKjLPx75dFa6pMg/iIOEKF/QxD8qm2/N6ArDP7vJ6Zf6DL4/",
          "dtype": "f8"
         }
        },
        {
         "line": {
          "width": 1.5
         },
         "marker": {
          "size": 4
         },
         "mode": "lines+markers",
         "name": "India, United States",
         "type": "scatter",
         "x": {
          "bdata": "AAAAAACQn0AAAAAAAHifQAAAAAAAgJ9AAAAAAACEn0AAAAAAAHCfQAAAAAAAlJ9AAAAAAABsn0AAAAAAAJifQAAAAAAAdJ9AAAAAAACIn0AAAAAAAHyfQAAAAAAAjJ9AAAAAAABkn0AAAAAAAGifQAAAAAAATJ9AAAAAAABcn0AAAAAAAGCfQAAAAAAAWJ9AAAAAAABQn0AAAAAAAEifQAAAAAAAVJ9AAAAAAABAn0AAAAAAAESfQAAAAAAAMJ9AAAAAAAA0n0AAAAAAADyfQAAAAAAAOJ9A",
          "dtype": "f8"
         },
         "y": {
          "bdata": "ZLvv1gGp2D+oCWZCT+fVP7vfEMYpXNU/9CgJR5gb1T/hCiMbGt/UP2McaK2ESNQ/g6w3AqJ00z9QzypP+mTTP7pZNWjlh9E/2hV54AMe0T9yoEh28/TPP7ww47cy8s8/krOwpx1+yz93e4BWrw7KPyNoGLMvncM/ZK+i/xiMwT+/2z3yZ3XBP4/oA6Fz+cA/jipYHRhEwD8OvoHgKZi/PyHYyODuzbk/cG9btDCmuD/s931lyY+1PwytHpU6f7E/lP5MJ1OxsD8m+T/3TTCwP4Z9CJhj86I/",
          "dtype": "f8"
         }
        },
        {
         "line": {
          "width": 1.5
         },
         "marker": {
          "size": 4
         },
         "mode": "lines+markers",
         "name": "Italy, United States",
         "type": "scatter",
         "x": {
          "bdata": "AAAAAABwn0AAAAAAAGSfQAAAAAAAgJ9AAAAAAABon0AAAAAAAHSfQAAAAAAAfJ9AAAAAAABsn0AAAAAAAJCfQAAAAAAAiJ9AAAAAAAB4n0AAAAAAAEyfQAAAAAAAhJ9AAAAAAABUn0AAAAAAAGCfQAAAAAAAUJ9AAAAAAABcn0AAAAAAAIyfQAAAAAAAMJ9AAAAAAABIn0AAAAAAAJifQAAAAAAAOJ9AAAAAAACUn0AAAAAAAESfQAAAAAAANJ9AAAAAAABAn0AAAAAAAFifQAAAAAAAPJ9A",
          "dtype": "f8"
         },
         "y": {
          "bdata": "WKboEzwv0j/WV+poO/fRP7TZfE/x580/2li0+bLGyT/c9LPNl9vIP6fx0wTGBMg/KeU0kqTuxj8PoxgHNKTEP5UoSxIjgsM/1lDNWV1Wwz8PQzk+S/HBP1yppKRADME/u5zQ88AqwD/vC26/Ch3AP/1v7ZDXjb8/5vORYQOMvT/ZQlMg+gi8Py43Cb+DCLs/q3Ukj47Iuj9X78v0pn26PwBVmpzzNrc/gpDg0bwftj+X1ODo8DG0PzaOU9KVGLQ/g/sLgX/xsj+vDicAZMCyP9ASMROvLKw/",
          "dtype": "f8"
         }
        },
        {
         "line": {
          "width": 1.5
         },
         "marker": {
          "size": 4
         },
         "mode": "lines+markers",
         "name": "Japan, United States",
         "type": "scatter",
         "x": {
          "bdata": "AAAAAABkn0AAAAAAAESfQAAAAAAAbJ9AAAAAAABYn0AAAAAAAEyfQAAAAAAAhJ9AAAAAAABgn0AAAAAAAHSfQAAAAAAAeJ9AAAAAAABon0AAAAAAAIifQAAAAAAAjJ9AAAAAAAB8n0AAAAAAAFyfQAAAAAAAkJ9AAAAAAACAn0AAAAAAAHCfQAAAAAAAlJ9AAAAAAAA0n0AAAAAAAFCfQAAAAAAASJ9AAAAAAABUn0AAAAAAADyfQAAAAAAAOJ9AAAAAAABAn0AAAAAAADCfQAAAAAAAmJ9A",
          "dtype": "f8"
         },
         "y": {
          "bdata": "+JvA3D3M2z8PSYhNvx/YPxqHRuwd0tY/lhiec8TV1D9YkM4PD2DTP3J0Qe8g5dI/xxa8xx2/0j9g467pN+/RPzXW5zKBl8w/1ICzJ5B4zD8Cy9LNTFDMPzsKwb5eIMw/1F/xzLIEzD9tp8lm8PLLP3LfGVa53Ms/EJTgr/cSyz+YBaMqVwzLP/ex+e0opMo/cWpJQoCeyj9RTSjI+EXKPyaRA8o0x8k/3JmSd9FBxj+64RliLHvFP0TXcTu1LMQ/GGCR8qIVxD83BeP0thi/P8c9ViPNNbg/",
          "dtype": "f8"
         }
        }
       ],
       "layout": {
        "legend": {
         "orientation": "h",
         "y": -0.2
        },
        "showlegend": true,
        "template": {
         "data": {
          "bar": [
           {
            "error_x": {
             "color": "#2a3f5f"
            },
            "error_y": {
             "color": "#2a3f5f"
            },
            "marker": {
             "line": {
              "color": "white",
              "width": 0.5
             },
             "pattern": {
              "fillmode": "overlay",
              "size": 10,
              "solidity": 0.2
             }
            },
            "type": "bar"
           }
          ],
          "barpolar": [
           {
            "marker": {
             "line": {
              "color": "white",
              "width": 0.5
             },
             "pattern": {
              "fillmode": "overlay",
              "size": 10,
              "solidity": 0.2
             }
            },
            "type": "barpolar"
           }
          ],
          "carpet": [
           {
            "aaxis": {
             "endlinecolor": "#2a3f5f",
             "gridcolor": "#C8D4E3",
             "linecolor": "#C8D4E3",
             "minorgridcolor": "#C8D4E3",
             "startlinecolor": "#2a3f5f"
            },
            "baxis": {
             "endlinecolor": "#2a3f5f",
             "gridcolor": "#C8D4E3",
             "linecolor": "#C8D4E3",
             "minorgridcolor": "#C8D4E3",
             "startlinecolor": "#2a3f5f"
            },
            "type": "carpet"
           }
          ],
          "choropleth": [
           {
            "colorbar": {
             "outlinewidth": 0,
             "ticks": ""
            },
            "type": "choropleth"
           }
          ],
          "contour": [
           {
            "colorbar": {
             "outlinewidth": 0,
             "ticks": ""
            },
            "colorscale": [
             [
              0,
              "#0d0887"
             ],
             [
              0.1111111111111111,
              "#46039f"
             ],
             [
              0.2222222222222222,
              "#7201a8"
             ],
             [
              0.3333333333333333,
              "#9c179e"
             ],
             [
              0.4444444444444444,
              "#bd3786"
             ],
             [
              0.5555555555555556,
              "#d8576b"
             ],
             [
              0.6666666666666666,
              "#ed7953"
             ],
             [
              0.7777777777777778,
              "#fb9f3a"
             ],
             [
              0.8888888888888888,
              "#fdca26"
             ],
             [
              1,
              "#f0f921"
             ]
            ],
            "type": "contour"
           }
          ],
          "contourcarpet": [
           {
            "colorbar": {
             "outlinewidth": 0,
             "ticks": ""
            },
            "type": "contourcarpet"
           }
          ],
          "heatmap": [
           {
            "colorbar": {
             "outlinewidth": 0,
             "ticks": ""
            },
            "colorscale": [
             [
              0,
              "#0d0887"
             ],
             [
              0.1111111111111111,
              "#46039f"
             ],
             [
              0.2222222222222222,
              "#7201a8"
             ],
             [
              0.3333333333333333,
              "#9c179e"
             ],
             [
              0.4444444444444444,
              "#bd3786"
             ],
             [
              0.5555555555555556,
              "#d8576b"
             ],
             [
              0.6666666666666666,
              "#ed7953"
             ],
             [
              0.7777777777777778,
              "#fb9f3a"
             ],
             [
              0.8888888888888888,
              "#fdca26"
             ],
             [
              1,
              "#f0f921"
             ]
            ],
            "type": "heatmap"
           }
          ],
          "histogram": [
           {
            "marker": {
             "pattern": {
              "fillmode": "overlay",
              "size": 10,
              "solidity": 0.2
             }
            },
            "type": "histogram"
           }
          ],
          "histogram2d": [
           {
            "colorbar": {
             "outlinewidth": 0,
             "ticks": ""
            },
            "colorscale": [
             [
              0,
              "#0d0887"
             ],
             [
              0.1111111111111111,
              "#46039f"
             ],
             [
              0.2222222222222222,
              "#7201a8"
             ],
             [
              0.3333333333333333,
              "#9c179e"
             ],
             [
              0.4444444444444444,
              "#bd3786"
             ],
             [
              0.5555555555555556,
              "#d8576b"
             ],
             [
              0.6666666666666666,
              "#ed7953"
             ],
             [
              0.7777777777777778,
              "#fb9f3a"
             ],
             [
              0.8888888888888888,
              "#fdca26"
             ],
             [
              1,
              "#f0f921"
             ]
            ],
            "type": "histogram2d"
           }
          ],
          "histogram2dcontour": [
           {
            "colorbar": {
             "outlinewidth": 0,
             "ticks": ""
            },
            "colorscale": [
             [
              0,
              "#0d0887"
             ],
             [
              0.1111111111111111,
              "#46039f"
             ],
             [
              0.2222222222222222,
              "#7201a8"
             ],
             [
              0.3333333333333333,
              "#9c179e"
             ],
             [
              0.4444444444444444,
              "#bd3786"
             ],
             [
              0.5555555555555556,
              "#d8576b"
             ],
             [
              0.6666666666666666,
              "#ed7953"
             ],
             [
              0.7777777777777778,
              "#fb9f3a"
             ],
             [
              0.8888888888888888,
              "#fdca26"
             ],
             [
              1,
              "#f0f921"
             ]
            ],
            "type": "histogram2dcontour"
           }
          ],
          "mesh3d": [
           {
            "colorbar": {
             "outlinewidth": 0,
             "ticks": ""
            },
            "type": "mesh3d"
           }
          ],
          "parcoords": [
           {
            "line": {
             "colorbar": {
              "outlinewidth": 0,
              "ticks": ""
             }
            },
            "type": "parcoords"
           }
          ],
          "pie": [
           {
            "automargin": true,
            "type": "pie"
           }
          ],
          "scatter": [
           {
            "fillpattern": {
             "fillmode": "overlay",
             "size": 10,
             "solidity": 0.2
            },
            "type": "scatter"
           }
          ],
          "scatter3d": [
           {
            "line": {
             "colorbar": {
              "outlinewidth": 0,
              "ticks": ""
             }
            },
            "marker": {
             "colorbar": {
              "outlinewidth": 0,
              "ticks": ""
             }
            },
            "type": "scatter3d"
           }
          ],
          "scattercarpet": [
           {
            "marker": {
             "colorbar": {
              "outlinewidth": 0,
              "ticks": ""
             }
            },
            "type": "scattercarpet"
           }
          ],
          "scattergeo": [
           {
            "marker": {
             "colorbar": {
              "outlinewidth": 0,
              "ticks": ""
             }
            },
            "type": "scattergeo"
           }
          ],
          "scattergl": [
           {
            "marker": {
             "colorbar": {
              "outlinewidth": 0,
              "ticks": ""
             }
            },
            "type": "scattergl"
           }
          ],
          "scattermap": [
           {
            "marker": {
             "colorbar": {
              "outlinewidth": 0,
              "ticks": ""
             }
            },
            "type": "scattermap"
           }
          ],
          "scattermapbox": [
           {
            "marker": {
             "colorbar": {
              "outlinewidth": 0,
              "ticks": ""
             }
            },
            "type": "scattermapbox"
           }
          ],
          "scatterpolar": [
           {
            "marker": {
             "colorbar": {
              "outlinewidth": 0,
              "ticks": ""
             }
            },
            "type": "scatterpolar"
           }
          ],
          "scatterpolargl": [
           {
            "marker": {
             "colorbar": {
              "outlinewidth": 0,
              "ticks": ""
             }
            },
            "type": "scatterpolargl"
           }
          ],
          "scatterternary": [
           {
            "marker": {
             "colorbar": {
              "outlinewidth": 0,
              "ticks": ""
             }
            },
            "type": "scatterternary"
           }
          ],
          "surface": [
           {
            "colorbar": {
             "outlinewidth": 0,
             "ticks": ""
            },
            "colorscale": [
             [
              0,
              "#0d0887"
             ],
             [
              0.1111111111111111,
              "#46039f"
             ],
             [
              0.2222222222222222,
              "#7201a8"
             ],
             [
              0.3333333333333333,
              "#9c179e"
             ],
             [
              0.4444444444444444,
              "#bd3786"
             ],
             [
              0.5555555555555556,
              "#d8576b"
             ],
             [
              0.6666666666666666,
              "#ed7953"
             ],
             [
              0.7777777777777778,
              "#fb9f3a"
             ],
             [
              0.8888888888888888,
              "#fdca26"
             ],
             [
              1,
              "#f0f921"
             ]
            ],
            "type": "surface"
           }
          ],
          "table": [
           {
            "cells": {
             "fill": {
              "color": "#EBF0F8"
             },
             "line": {
              "color": "white"
             }
            },
            "header": {
             "fill": {
              "color": "#C8D4E3"
             },
             "line": {
              "color": "white"
             }
            },
            "type": "table"
           }
          ]
         },
         "layout": {
          "annotationdefaults": {
           "arrowcolor": "#2a3f5f",
           "arrowhead": 0,
           "arrowwidth": 1
          },
          "autotypenumbers": "strict",
          "coloraxis": {
           "colorbar": {
            "outlinewidth": 0,
            "ticks": ""
           }
          },
          "colorscale": {
           "diverging": [
            [
             0,
             "#8e0152"
            ],
            [
             0.1,
             "#c51b7d"
            ],
            [
             0.2,
             "#de77ae"
            ],
            [
             0.3,
             "#f1b6da"
            ],
            [
             0.4,
             "#fde0ef"
            ],
            [
             0.5,
             "#f7f7f7"
            ],
            [
             0.6,
             "#e6f5d0"
            ],
            [
             0.7,
             "#b8e186"
            ],
            [
             0.8,
             "#7fbc41"
            ],
            [
             0.9,
             "#4d9221"
            ],
            [
             1,
             "#276419"
            ]
           ],
           "sequential": [
            [
             0,
             "#0d0887"
            ],
            [
             0.1111111111111111,
             "#46039f"
            ],
            [
             0.2222222222222222,
             "#7201a8"
            ],
            [
             0.3333333333333333,
             "#9c179e"
            ],
            [
             0.4444444444444444,
             "#bd3786"
            ],
            [
             0.5555555555555556,
             "#d8576b"
            ],
            [
             0.6666666666666666,
             "#ed7953"
            ],
            [
             0.7777777777777778,
             "#fb9f3a"
            ],
            [
             0.8888888888888888,
             "#fdca26"
            ],
            [
             1,
             "#f0f921"
            ]
           ],
           "sequentialminus": [
            [
             0,
             "#0d0887"
            ],
            [
             0.1111111111111111,
             "#46039f"
            ],
            [
             0.2222222222222222,
             "#7201a8"
            ],
            [
             0.3333333333333333,
             "#9c179e"
            ],
            [
             0.4444444444444444,
             "#bd3786"
            ],
            [
             0.5555555555555556,
             "#d8576b"
            ],
            [
             0.6666666666666666,
             "#ed7953"
            ],
            [
             0.7777777777777778,
             "#fb9f3a"
            ],
            [
             0.8888888888888888,
             "#fdca26"
            ],
            [
             1,
             "#f0f921"
            ]
           ]
          },
          "colorway": [
           "#636efa",
           "#EF553B",
           "#00cc96",
           "#ab63fa",
           "#FFA15A",
           "#19d3f3",
           "#FF6692",
           "#B6E880",
           "#FF97FF",
           "#FECB52"
          ],
          "font": {
           "color": "#2a3f5f"
          },
          "geo": {
           "bgcolor": "white",
           "lakecolor": "white",
           "landcolor": "white",
           "showlakes": true,
           "showland": true,
           "subunitcolor": "#C8D4E3"
          },
          "hoverlabel": {
           "align": "left"
          },
          "hovermode": "closest",
          "mapbox": {
           "style": "light"
          },
          "paper_bgcolor": "white",
          "plot_bgcolor": "white",
          "polar": {
           "angularaxis": {
            "gridcolor": "#EBF0F8",
            "linecolor": "#EBF0F8",
            "ticks": ""
           },
           "bgcolor": "white",
           "radialaxis": {
            "gridcolor": "#EBF0F8",
            "linecolor": "#EBF0F8",
            "ticks": ""
           }
          },
          "scene": {
           "xaxis": {
            "backgroundcolor": "white",
            "gridcolor": "#DFE8F3",
            "gridwidth": 2,
            "linecolor": "#EBF0F8",
            "showbackground": true,
            "ticks": "",
            "zerolinecolor": "#EBF0F8"
           },
           "yaxis": {
            "backgroundcolor": "white",
            "gridcolor": "#DFE8F3",
            "gridwidth": 2,
            "linecolor": "#EBF0F8",
            "showbackground": true,
            "ticks": "",
            "zerolinecolor": "#EBF0F8"
           },
           "zaxis": {
            "backgroundcolor": "white",
            "gridcolor": "#DFE8F3",
            "gridwidth": 2,
            "linecolor": "#EBF0F8",
            "showbackground": true,
            "ticks": "",
            "zerolinecolor": "#EBF0F8"
           }
          },
          "shapedefaults": {
           "line": {
            "color": "#2a3f5f"
           }
          },
          "ternary": {
           "aaxis": {
            "gridcolor": "#DFE8F3",
            "linecolor": "#A2B1C6",
            "ticks": ""
           },
           "baxis": {
            "gridcolor": "#DFE8F3",
            "linecolor": "#A2B1C6",
            "ticks": ""
           },
           "bgcolor": "white",
           "caxis": {
            "gridcolor": "#DFE8F3",
            "linecolor": "#A2B1C6",
            "ticks": ""
           }
          },
          "title": {
           "x": 0.05
          },
          "xaxis": {
           "automargin": true,
           "gridcolor": "#EBF0F8",
           "linecolor": "#EBF0F8",
           "ticks": "",
           "title": {
            "standoff": 15
           },
           "zerolinecolor": "#EBF0F8",
           "zerolinewidth": 2
          },
          "yaxis": {
           "automargin": true,
           "gridcolor": "#EBF0F8",
           "linecolor": "#EBF0F8",
           "ticks": "",
           "title": {
            "standoff": 15
           },
           "zerolinecolor": "#EBF0F8",
           "zerolinewidth": 2
          }
         }
        },
        "title": {
         "text": "Top 10 Collaborations: All"
        },
        "xaxis": {
         "title": {
          "text": "Year"
         }
        },
        "yaxis": {
         "title": {
          "text": "% of New Substances"
         }
        }
       }
      }
     },
     "metadata": {},
     "output_type": "display_data"
    }
   ],
   "source": [
    "# Test top collaborations plot\n",
    "is_collab = True  # True for collaborations, False for individual countries\n",
    "chem_filter = chemical_categories[1]  # First chemical category\n",
    "\n",
    "filtered_data = df[\n",
    "    (df['is_collab'] == is_collab) & \n",
    "    (df['chemical'] == chem_filter)\n",
    "]\n",
    "\n",
    "if not filtered_data.empty:\n",
    "    # Get top 10\n",
    "    top_data = (\n",
    "        filtered_data.groupby('country')['percentage']\n",
    "        .mean()\n",
    "        .sort_values(ascending=False)\n",
    "        .head(10)\n",
    "    )\n",
    "    \n",
    "    top_filtered = filtered_data[filtered_data['country'].isin(top_data.index)]\n",
    "    \n",
    "    if not top_filtered.empty:\n",
    "        fig = create_top_trends_plot(\n",
    "            top_filtered,\n",
    "            f\"Top 10 {'Collaborations' if is_collab else 'Countries'}: {chem_filter}\"\n",
    "        )\n",
    "        fig.show()\n",
    "    else:\n",
    "        print(\"No data available for top collaborations plot after filtering\")\n",
    "else:\n",
    "    print(\"No data available for collaborations with the selected chemical filter\")"
   ]
  },
  {
   "cell_type": "markdown",
   "metadata": {},
   "source": [
    "## 5. Testing Other Article Plots\n",
    "\n",
    "Let's test other article plots that might be missing in the app."
   ]
  },
  {
   "cell_type": "code",
   "execution_count": null,
   "metadata": {},
   "outputs": [
    {
     "data": {
      "application/vnd.plotly.v1+json": {
       "config": {
        "plotlyServerURL": "https://plot.ly"
       },
       "data": [
        {
         "line": {
          "width": 2
         },
         "marker": {
          "size": 6
         },
         "mode": "lines+markers",
         "name": "United States",
         "type": "scatter",
         "x": {
          "bdata": "AAAAAAAwn0AAAAAAADSfQAAAAAAAOJ9AAAAAAAA8n0AAAAAAAECfQAAAAAAARJ9AAAAAAABIn0AAAAAAAEyfQAAAAAAAUJ9AAAAAAABUn0AAAAAAAFifQAAAAAAAXJ9AAAAAAABgn0AAAAAAAGSfQAAAAAAAaJ9AAAAAAABsn0AAAAAAAHCfQAAAAAAAdJ9AAAAAAAB4n0AAAAAAAHyfQAAAAAAAgJ9AAAAAAACEn0AAAAAAAIifQAAAAAAAjJ9AAAAAAACQn0AAAAAAAJSfQAAAAAAAmJ9AAAAAAACcn0A=",
          "dtype": "f8"
         },
         "y": {
          "bdata": "j8L1KFyPBECamZmZmZkJQClcj8L1KApAuB6F61G4DEBxPQrXo3AHQHsUrkfheqS/UrgehetR6D+4HoXrUbj+Px+F61G4HgdAPQrXo3A9BEDNzMzMzMz8P6RwPQrXo/A/j8L1KFyP6r9xPQrXo3ALwJqZmZmZmf0/j8L1KFyP6j+kcD0K16P4P4/C9Shcj/Y/UrgehetR/D+F61G4HoUBQEjhehSuR/E/9ihcj8L1/D9xPQrXo3ADQAAAAAAAAABASOF6FK5HCcCF61G4HoUWQPYoXI/C9fg/UrgehetRAEA=",
          "dtype": "f8"
         }
        },
        {
         "line": {
          "width": 2
         },
         "marker": {
          "size": 6
         },
         "mode": "lines+markers",
         "name": "China",
         "type": "scatter",
         "x": {
          "bdata": "AAAAAAAwn0AAAAAAADSfQAAAAAAAOJ9AAAAAAAA8n0AAAAAAAECfQAAAAAAARJ9AAAAAAABIn0AAAAAAAEyfQAAAAAAAUJ9AAAAAAABUn0AAAAAAAFifQAAAAAAAXJ9AAAAAAABgn0AAAAAAAGSfQAAAAAAAaJ9AAAAAAABsn0AAAAAAAHCfQAAAAAAAdJ9AAAAAAAB4n0AAAAAAAHyfQAAAAAAAgJ9AAAAAAACEn0AAAAAAAIifQAAAAAAAjJ9AAAAAAACQn0AAAAAAAJSfQAAAAAAAmJ9AAAAAAACcn0A=",
          "dtype": "f8"
         },
         "y": {
          "bdata": "j8L1KFyPIUA9CtejcD0gQEjhehSuRxtA7FG4HoXrGkCPwvUoXI8eQDMzMzMzMx5AzczMzMzMIEAzMzMzM7MiQOxRuB6F6yJAexSuR+F6JUCuR+F6FC4oQEjhehSuRytArkfhehQuIkC4HoXrUbghQDMzMzMzMyRAZmZmZmbmIUCF61G4HoUcQDMzMzMzMxxAAAAAAAAAG0CuR+F6FK4ZQPYoXI/C9RhAMzMzMzMzGUAAAAAAAAAZQFK4HoXrURZAAAAAAAAAAEAzMzMzM7MgQAAAAAAAAAhAPQrXo3A9FUA=",
          "dtype": "f8"
         }
        }
       ],
       "layout": {
        "annotations": [
         {
          "showarrow": true,
          "text": "Financial Crisis",
          "x": 2007.5,
          "y": 5.067
         },
         {
          "showarrow": true,
          "text": "COVID-19",
          "x": 2019.5,
          "y": 4.5040000000000004
         }
        ],
        "hovermode": "x unified",
        "shapes": [
         {
          "line": {
           "color": "grey",
           "dash": "dash"
          },
          "type": "line",
          "x0": 2007.5,
          "x1": 2007.5,
          "xref": "x",
          "y0": 0,
          "y1": 1,
          "yref": "y domain"
         },
         {
          "line": {
           "color": "grey",
           "dash": "dash"
          },
          "type": "line",
          "x0": 2019.5,
          "x1": 2019.5,
          "xref": "x",
          "y0": 0,
          "y1": 1,
          "yref": "y domain"
         }
        ],
        "template": {
         "data": {
          "bar": [
           {
            "error_x": {
             "color": "#2a3f5f"
            },
            "error_y": {
             "color": "#2a3f5f"
            },
            "marker": {
             "line": {
              "color": "white",
              "width": 0.5
             },
             "pattern": {
              "fillmode": "overlay",
              "size": 10,
              "solidity": 0.2
             }
            },
            "type": "bar"
           }
          ],
          "barpolar": [
           {
            "marker": {
             "line": {
              "color": "white",
              "width": 0.5
             },
             "pattern": {
              "fillmode": "overlay",
              "size": 10,
              "solidity": 0.2
             }
            },
            "type": "barpolar"
           }
          ],
          "carpet": [
           {
            "aaxis": {
             "endlinecolor": "#2a3f5f",
             "gridcolor": "#C8D4E3",
             "linecolor": "#C8D4E3",
             "minorgridcolor": "#C8D4E3",
             "startlinecolor": "#2a3f5f"
            },
            "baxis": {
             "endlinecolor": "#2a3f5f",
             "gridcolor": "#C8D4E3",
             "linecolor": "#C8D4E3",
             "minorgridcolor": "#C8D4E3",
             "startlinecolor": "#2a3f5f"
            },
            "type": "carpet"
           }
          ],
          "choropleth": [
           {
            "colorbar": {
             "outlinewidth": 0,
             "ticks": ""
            },
            "type": "choropleth"
           }
          ],
          "contour": [
           {
            "colorbar": {
             "outlinewidth": 0,
             "ticks": ""
            },
            "colorscale": [
             [
              0,
              "#0d0887"
             ],
             [
              0.1111111111111111,
              "#46039f"
             ],
             [
              0.2222222222222222,
              "#7201a8"
             ],
             [
              0.3333333333333333,
              "#9c179e"
             ],
             [
              0.4444444444444444,
              "#bd3786"
             ],
             [
              0.5555555555555556,
              "#d8576b"
             ],
             [
              0.6666666666666666,
              "#ed7953"
             ],
             [
              0.7777777777777778,
              "#fb9f3a"
             ],
             [
              0.8888888888888888,
              "#fdca26"
             ],
             [
              1,
              "#f0f921"
             ]
            ],
            "type": "contour"
           }
          ],
          "contourcarpet": [
           {
            "colorbar": {
             "outlinewidth": 0,
             "ticks": ""
            },
            "type": "contourcarpet"
           }
          ],
          "heatmap": [
           {
            "colorbar": {
             "outlinewidth": 0,
             "ticks": ""
            },
            "colorscale": [
             [
              0,
              "#0d0887"
             ],
             [
              0.1111111111111111,
              "#46039f"
             ],
             [
              0.2222222222222222,
              "#7201a8"
             ],
             [
              0.3333333333333333,
              "#9c179e"
             ],
             [
              0.4444444444444444,
              "#bd3786"
             ],
             [
              0.5555555555555556,
              "#d8576b"
             ],
             [
              0.6666666666666666,
              "#ed7953"
             ],
             [
              0.7777777777777778,
              "#fb9f3a"
             ],
             [
              0.8888888888888888,
              "#fdca26"
             ],
             [
              1,
              "#f0f921"
             ]
            ],
            "type": "heatmap"
           }
          ],
          "histogram": [
           {
            "marker": {
             "pattern": {
              "fillmode": "overlay",
              "size": 10,
              "solidity": 0.2
             }
            },
            "type": "histogram"
           }
          ],
          "histogram2d": [
           {
            "colorbar": {
             "outlinewidth": 0,
             "ticks": ""
            },
            "colorscale": [
             [
              0,
              "#0d0887"
             ],
             [
              0.1111111111111111,
              "#46039f"
             ],
             [
              0.2222222222222222,
              "#7201a8"
             ],
             [
              0.3333333333333333,
              "#9c179e"
             ],
             [
              0.4444444444444444,
              "#bd3786"
             ],
             [
              0.5555555555555556,
              "#d8576b"
             ],
             [
              0.6666666666666666,
              "#ed7953"
             ],
             [
              0.7777777777777778,
              "#fb9f3a"
             ],
             [
              0.8888888888888888,
              "#fdca26"
             ],
             [
              1,
              "#f0f921"
             ]
            ],
            "type": "histogram2d"
           }
          ],
          "histogram2dcontour": [
           {
            "colorbar": {
             "outlinewidth": 0,
             "ticks": ""
            },
            "colorscale": [
             [
              0,
              "#0d0887"
             ],
             [
              0.1111111111111111,
              "#46039f"
             ],
             [
              0.2222222222222222,
              "#7201a8"
             ],
             [
              0.3333333333333333,
              "#9c179e"
             ],
             [
              0.4444444444444444,
              "#bd3786"
             ],
             [
              0.5555555555555556,
              "#d8576b"
             ],
             [
              0.6666666666666666,
              "#ed7953"
             ],
             [
              0.7777777777777778,
              "#fb9f3a"
             ],
             [
              0.8888888888888888,
              "#fdca26"
             ],
             [
              1,
              "#f0f921"
             ]
            ],
            "type": "histogram2dcontour"
           }
          ],
          "mesh3d": [
           {
            "colorbar": {
             "outlinewidth": 0,
             "ticks": ""
            },
            "type": "mesh3d"
           }
          ],
          "parcoords": [
           {
            "line": {
             "colorbar": {
              "outlinewidth": 0,
              "ticks": ""
             }
            },
            "type": "parcoords"
           }
          ],
          "pie": [
           {
            "automargin": true,
            "type": "pie"
           }
          ],
          "scatter": [
           {
            "fillpattern": {
             "fillmode": "overlay",
             "size": 10,
             "solidity": 0.2
            },
            "type": "scatter"
           }
          ],
          "scatter3d": [
           {
            "line": {
             "colorbar": {
              "outlinewidth": 0,
              "ticks": ""
             }
            },
            "marker": {
             "colorbar": {
              "outlinewidth": 0,
              "ticks": ""
             }
            },
            "type": "scatter3d"
           }
          ],
          "scattercarpet": [
           {
            "marker": {
             "colorbar": {
              "outlinewidth": 0,
              "ticks": ""
             }
            },
            "type": "scattercarpet"
           }
          ],
          "scattergeo": [
           {
            "marker": {
             "colorbar": {
              "outlinewidth": 0,
              "ticks": ""
             }
            },
            "type": "scattergeo"
           }
          ],
          "scattergl": [
           {
            "marker": {
             "colorbar": {
              "outlinewidth": 0,
              "ticks": ""
             }
            },
            "type": "scattergl"
           }
          ],
          "scattermap": [
           {
            "marker": {
             "colorbar": {
              "outlinewidth": 0,
              "ticks": ""
             }
            },
            "type": "scattermap"
           }
          ],
          "scattermapbox": [
           {
            "marker": {
             "colorbar": {
              "outlinewidth": 0,
              "ticks": ""
             }
            },
            "type": "scattermapbox"
           }
          ],
          "scatterpolar": [
           {
            "marker": {
             "colorbar": {
              "outlinewidth": 0,
              "ticks": ""
             }
            },
            "type": "scatterpolar"
           }
          ],
          "scatterpolargl": [
           {
            "marker": {
             "colorbar": {
              "outlinewidth": 0,
              "ticks": ""
             }
            },
            "type": "scatterpolargl"
           }
          ],
          "scatterternary": [
           {
            "marker": {
             "colorbar": {
              "outlinewidth": 0,
              "ticks": ""
             }
            },
            "type": "scatterternary"
           }
          ],
          "surface": [
           {
            "colorbar": {
             "outlinewidth": 0,
             "ticks": ""
            },
            "colorscale": [
             [
              0,
              "#0d0887"
             ],
             [
              0.1111111111111111,
              "#46039f"
             ],
             [
              0.2222222222222222,
              "#7201a8"
             ],
             [
              0.3333333333333333,
              "#9c179e"
             ],
             [
              0.4444444444444444,
              "#bd3786"
             ],
             [
              0.5555555555555556,
              "#d8576b"
             ],
             [
              0.6666666666666666,
              "#ed7953"
             ],
             [
              0.7777777777777778,
              "#fb9f3a"
             ],
             [
              0.8888888888888888,
              "#fdca26"
             ],
             [
              1,
              "#f0f921"
             ]
            ],
            "type": "surface"
           }
          ],
          "table": [
           {
            "cells": {
             "fill": {
              "color": "#EBF0F8"
             },
             "line": {
              "color": "white"
             }
            },
            "header": {
             "fill": {
              "color": "#C8D4E3"
             },
             "line": {
              "color": "white"
             }
            },
            "type": "table"
           }
          ]
         },
         "layout": {
          "annotationdefaults": {
           "arrowcolor": "#2a3f5f",
           "arrowhead": 0,
           "arrowwidth": 1
          },
          "autotypenumbers": "strict",
          "coloraxis": {
           "colorbar": {
            "outlinewidth": 0,
            "ticks": ""
           }
          },
          "colorscale": {
           "diverging": [
            [
             0,
             "#8e0152"
            ],
            [
             0.1,
             "#c51b7d"
            ],
            [
             0.2,
             "#de77ae"
            ],
            [
             0.3,
             "#f1b6da"
            ],
            [
             0.4,
             "#fde0ef"
            ],
            [
             0.5,
             "#f7f7f7"
            ],
            [
             0.6,
             "#e6f5d0"
            ],
            [
             0.7,
             "#b8e186"
            ],
            [
             0.8,
             "#7fbc41"
            ],
            [
             0.9,
             "#4d9221"
            ],
            [
             1,
             "#276419"
            ]
           ],
           "sequential": [
            [
             0,
             "#0d0887"
            ],
            [
             0.1111111111111111,
             "#46039f"
            ],
            [
             0.2222222222222222,
             "#7201a8"
            ],
            [
             0.3333333333333333,
             "#9c179e"
            ],
            [
             0.4444444444444444,
             "#bd3786"
            ],
            [
             0.5555555555555556,
             "#d8576b"
            ],
            [
             0.6666666666666666,
             "#ed7953"
            ],
            [
             0.7777777777777778,
             "#fb9f3a"
            ],
            [
             0.8888888888888888,
             "#fdca26"
            ],
            [
             1,
             "#f0f921"
            ]
           ],
           "sequentialminus": [
            [
             0,
             "#0d0887"
            ],
            [
             0.1111111111111111,
             "#46039f"
            ],
            [
             0.2222222222222222,
             "#7201a8"
            ],
            [
             0.3333333333333333,
             "#9c179e"
            ],
            [
             0.4444444444444444,
             "#bd3786"
            ],
            [
             0.5555555555555556,
             "#d8576b"
            ],
            [
             0.6666666666666666,
             "#ed7953"
            ],
            [
             0.7777777777777778,
             "#fb9f3a"
            ],
            [
             0.8888888888888888,
             "#fdca26"
            ],
            [
             1,
             "#f0f921"
            ]
           ]
          },
          "colorway": [
           "#636efa",
           "#EF553B",
           "#00cc96",
           "#ab63fa",
           "#FFA15A",
           "#19d3f3",
           "#FF6692",
           "#B6E880",
           "#FF97FF",
           "#FECB52"
          ],
          "font": {
           "color": "#2a3f5f"
          },
          "geo": {
           "bgcolor": "white",
           "lakecolor": "white",
           "landcolor": "white",
           "showlakes": true,
           "showland": true,
           "subunitcolor": "#C8D4E3"
          },
          "hoverlabel": {
           "align": "left"
          },
          "hovermode": "closest",
          "mapbox": {
           "style": "light"
          },
          "paper_bgcolor": "white",
          "plot_bgcolor": "white",
          "polar": {
           "angularaxis": {
            "gridcolor": "#EBF0F8",
            "linecolor": "#EBF0F8",
            "ticks": ""
           },
           "bgcolor": "white",
           "radialaxis": {
            "gridcolor": "#EBF0F8",
            "linecolor": "#EBF0F8",
            "ticks": ""
           }
          },
          "scene": {
           "xaxis": {
            "backgroundcolor": "white",
            "gridcolor": "#DFE8F3",
            "gridwidth": 2,
            "linecolor": "#EBF0F8",
            "showbackground": true,
            "ticks": "",
            "zerolinecolor": "#EBF0F8"
           },
           "yaxis": {
            "backgroundcolor": "white",
            "gridcolor": "#DFE8F3",
            "gridwidth": 2,
            "linecolor": "#EBF0F8",
            "showbackground": true,
            "ticks": "",
            "zerolinecolor": "#EBF0F8"
           },
           "zaxis": {
            "backgroundcolor": "white",
            "gridcolor": "#DFE8F3",
            "gridwidth": 2,
            "linecolor": "#EBF0F8",
            "showbackground": true,
            "ticks": "",
            "zerolinecolor": "#EBF0F8"
           }
          },
          "shapedefaults": {
           "line": {
            "color": "#2a3f5f"
           }
          },
          "ternary": {
           "aaxis": {
            "gridcolor": "#DFE8F3",
            "linecolor": "#A2B1C6",
            "ticks": ""
           },
           "baxis": {
            "gridcolor": "#DFE8F3",
            "linecolor": "#A2B1C6",
            "ticks": ""
           },
           "bgcolor": "white",
           "caxis": {
            "gridcolor": "#DFE8F3",
            "linecolor": "#A2B1C6",
            "ticks": ""
           }
          },
          "title": {
           "x": 0.05
          },
          "xaxis": {
           "automargin": true,
           "gridcolor": "#EBF0F8",
           "linecolor": "#EBF0F8",
           "ticks": "",
           "title": {
            "standoff": 15
           },
           "zerolinecolor": "#EBF0F8",
           "zerolinewidth": 2
          },
          "yaxis": {
           "automargin": true,
           "gridcolor": "#EBF0F8",
           "linecolor": "#EBF0F8",
           "ticks": "",
           "title": {
            "standoff": 15
           },
           "zerolinecolor": "#EBF0F8",
           "zerolinewidth": 2
          }
         }
        },
        "title": {
         "text": "Figure: Annual growth rate of the GDP"
        },
        "xaxis": {
         "title": {
          "text": "Year"
         }
        },
        "yaxis": {
         "title": {
          "text": "Value"
         }
        }
       }
      }
     },
     "metadata": {},
     "output_type": "display_data"
    }
   ],
   "source": [
    "# Test GDP plot\n",
    "gdp_source = \"Annual growth rate of the GDP\"\n",
    "if 'source' in article_data.columns:\n",
    "    gdp_data = article_data[article_data['source'] == gdp_source]\n",
    "    \n",
    "    if not gdp_data.empty:\n",
    "        fig = create_article_plot(gdp_data, gdp_source)\n",
    "        # Add the vertical lines and annotations for GDP as in the app code\n",
    "        fig.add_vline(x=2007.5, line_dash=\"dash\", line_color=\"grey\")\n",
    "        fig.add_vline(x=2019.5, line_dash=\"dash\", line_color=\"grey\")\n",
    "        fig.add_annotation(x=2007.5, y=fig.data[0].y.max() * 0.9 if fig.data else 10,\n",
    "                          text=\"Financial Crisis\", showarrow=True)\n",
    "        fig.add_annotation(x=2019.5, y=fig.data[0].y.max() * 0.8 if fig.data else 8,\n",
    "                          text=\"COVID-19\", showarrow=True)\n",
    "        fig.show()\n",
    "    else:\n",
    "        print(f\"No data found for '{gdp_source}'\")\n",
    "else:\n",
    "    print(\"Article data does not have a 'source' column\")"
   ]
  },
  {
   "cell_type": "code",
   "execution_count": null,
   "metadata": {},
   "outputs": [
    {
     "name": "stderr",
     "output_type": "stream",
     "text": [
      "/tmp/ipykernel_105173/2521308430.py:8: SettingWithCopyWarning:\n",
      "\n",
      "\n",
      "A value is trying to be set on a copy of a slice from a DataFrame.\n",
      "Try using .loc[row_indexer,col_indexer] = value instead\n",
      "\n",
      "See the caveats in the documentation: https://pandas.pydata.org/pandas-docs/stable/user_guide/indexing.html#returning-a-view-versus-a-copy\n",
      "\n"
     ]
    },
    {
     "data": {
      "application/vnd.plotly.v1+json": {
       "config": {
        "plotlyServerURL": "https://plot.ly"
       },
       "data": [
        {
         "line": {
          "width": 2
         },
         "marker": {
          "size": 6
         },
         "mode": "lines+markers",
         "name": "China",
         "type": "scatter",
         "x": {
          "bdata": "AAAAAAAwn0AAAAAAADSfQAAAAAAAOJ9AAAAAAAA8n0AAAAAAAECfQAAAAAAARJ9AAAAAAABIn0AAAAAAAEyfQAAAAAAAUJ9AAAAAAABUn0AAAAAAAFifQAAAAAAAXJ9AAAAAAABgn0AAAAAAAGSfQAAAAAAAaJ9AAAAAAABsn0AAAAAAAHCfQAAAAAAAdJ9AAAAAAAB4n0AAAAAAAHyfQAAAAAAAgJ9AAAAAAACEn0AAAAAAAIifQAAAAAAAjJ9AAAAAAACQn0AAAAAAAJSfQA==",
          "dtype": "f8"
         },
         "y": {
          "bdata": "2ifh+bVz4T8PUxTMdcriP2FzwHxaD98/Cl9wqekD4T8DloOxqkvmP+PFXHcO1Oc/bVfLCREC6j98Jl83SqnrP57onJopt+0//L2v8k3w8T/CdJkbhZzzPxKFlnX/yPY/BDNstQN1+T/d6j6iN2TyP4WLbTZ8SfM/CCWZw1j49D+zaVbK81f2P+iImOyBmfc/bELH//47+D/Xq5A+Irj5Px0YnmlS4vo/8ohTq4Sm+z8xJvNLoZz9P5KKFSG0uwBAqNSUgHIVAkAuPOOG1Q8DQA==",
          "dtype": "f8"
         }
        },
        {
         "line": {
          "width": 2
         },
         "marker": {
          "size": 6
         },
         "mode": "lines+markers",
         "name": "US",
         "type": "scatter",
         "x": {
          "bdata": "AAAAAAAwn0AAAAAAADSfQAAAAAAAOJ9AAAAAAAA8n0AAAAAAAECfQAAAAAAARJ9AAAAAAABIn0AAAAAAAEyfQAAAAAAAUJ9AAAAAAABUn0AAAAAAAFifQAAAAAAAXJ9AAAAAAABgn0AAAAAAAGSfQAAAAAAAaJ9AAAAAAABsn0AAAAAAAHCfQAAAAAAAdJ9AAAAAAAB4n0AAAAAAAHyfQAAAAAAAgJ9AAAAAAACEn0AAAAAAAIifQAAAAAAAjJ9AAAAAAACQn0A=",
          "dtype": "f8"
         },
         "y": {
          "bdata": "srqNeSEt6z992Z/HDWfsPyURioNFMu4/tXc+6kwN7z/l+ENhh2nvP13JVuPhB/A/NpfjYRZk8D+hd5o0XHjxP/N+EXHJ+vA/bU3oZXzG8D9h6P+/Kx7xP2VmMXSWCPE/XRz6xo7Q8T/bNq2QyZTyPwdO/1fykPE/kcYajuRD8j+l43mPhFTyP92XoHdE5PI/Q6FR+ViL8z9PZEsufeLzP2AfvsjbzPM/xkV73Z6X9D+8NDZVpkn2P0XIhXK+ovY/WsoO/jmd9z8=",
          "dtype": "f8"
         }
        }
       ],
       "layout": {
        "hovermode": "x unified",
        "template": {
         "data": {
          "bar": [
           {
            "error_x": {
             "color": "#2a3f5f"
            },
            "error_y": {
             "color": "#2a3f5f"
            },
            "marker": {
             "line": {
              "color": "white",
              "width": 0.5
             },
             "pattern": {
              "fillmode": "overlay",
              "size": 10,
              "solidity": 0.2
             }
            },
            "type": "bar"
           }
          ],
          "barpolar": [
           {
            "marker": {
             "line": {
              "color": "white",
              "width": 0.5
             },
             "pattern": {
              "fillmode": "overlay",
              "size": 10,
              "solidity": 0.2
             }
            },
            "type": "barpolar"
           }
          ],
          "carpet": [
           {
            "aaxis": {
             "endlinecolor": "#2a3f5f",
             "gridcolor": "#C8D4E3",
             "linecolor": "#C8D4E3",
             "minorgridcolor": "#C8D4E3",
             "startlinecolor": "#2a3f5f"
            },
            "baxis": {
             "endlinecolor": "#2a3f5f",
             "gridcolor": "#C8D4E3",
             "linecolor": "#C8D4E3",
             "minorgridcolor": "#C8D4E3",
             "startlinecolor": "#2a3f5f"
            },
            "type": "carpet"
           }
          ],
          "choropleth": [
           {
            "colorbar": {
             "outlinewidth": 0,
             "ticks": ""
            },
            "type": "choropleth"
           }
          ],
          "contour": [
           {
            "colorbar": {
             "outlinewidth": 0,
             "ticks": ""
            },
            "colorscale": [
             [
              0,
              "#0d0887"
             ],
             [
              0.1111111111111111,
              "#46039f"
             ],
             [
              0.2222222222222222,
              "#7201a8"
             ],
             [
              0.3333333333333333,
              "#9c179e"
             ],
             [
              0.4444444444444444,
              "#bd3786"
             ],
             [
              0.5555555555555556,
              "#d8576b"
             ],
             [
              0.6666666666666666,
              "#ed7953"
             ],
             [
              0.7777777777777778,
              "#fb9f3a"
             ],
             [
              0.8888888888888888,
              "#fdca26"
             ],
             [
              1,
              "#f0f921"
             ]
            ],
            "type": "contour"
           }
          ],
          "contourcarpet": [
           {
            "colorbar": {
             "outlinewidth": 0,
             "ticks": ""
            },
            "type": "contourcarpet"
           }
          ],
          "heatmap": [
           {
            "colorbar": {
             "outlinewidth": 0,
             "ticks": ""
            },
            "colorscale": [
             [
              0,
              "#0d0887"
             ],
             [
              0.1111111111111111,
              "#46039f"
             ],
             [
              0.2222222222222222,
              "#7201a8"
             ],
             [
              0.3333333333333333,
              "#9c179e"
             ],
             [
              0.4444444444444444,
              "#bd3786"
             ],
             [
              0.5555555555555556,
              "#d8576b"
             ],
             [
              0.6666666666666666,
              "#ed7953"
             ],
             [
              0.7777777777777778,
              "#fb9f3a"
             ],
             [
              0.8888888888888888,
              "#fdca26"
             ],
             [
              1,
              "#f0f921"
             ]
            ],
            "type": "heatmap"
           }
          ],
          "histogram": [
           {
            "marker": {
             "pattern": {
              "fillmode": "overlay",
              "size": 10,
              "solidity": 0.2
             }
            },
            "type": "histogram"
           }
          ],
          "histogram2d": [
           {
            "colorbar": {
             "outlinewidth": 0,
             "ticks": ""
            },
            "colorscale": [
             [
              0,
              "#0d0887"
             ],
             [
              0.1111111111111111,
              "#46039f"
             ],
             [
              0.2222222222222222,
              "#7201a8"
             ],
             [
              0.3333333333333333,
              "#9c179e"
             ],
             [
              0.4444444444444444,
              "#bd3786"
             ],
             [
              0.5555555555555556,
              "#d8576b"
             ],
             [
              0.6666666666666666,
              "#ed7953"
             ],
             [
              0.7777777777777778,
              "#fb9f3a"
             ],
             [
              0.8888888888888888,
              "#fdca26"
             ],
             [
              1,
              "#f0f921"
             ]
            ],
            "type": "histogram2d"
           }
          ],
          "histogram2dcontour": [
           {
            "colorbar": {
             "outlinewidth": 0,
             "ticks": ""
            },
            "colorscale": [
             [
              0,
              "#0d0887"
             ],
             [
              0.1111111111111111,
              "#46039f"
             ],
             [
              0.2222222222222222,
              "#7201a8"
             ],
             [
              0.3333333333333333,
              "#9c179e"
             ],
             [
              0.4444444444444444,
              "#bd3786"
             ],
             [
              0.5555555555555556,
              "#d8576b"
             ],
             [
              0.6666666666666666,
              "#ed7953"
             ],
             [
              0.7777777777777778,
              "#fb9f3a"
             ],
             [
              0.8888888888888888,
              "#fdca26"
             ],
             [
              1,
              "#f0f921"
             ]
            ],
            "type": "histogram2dcontour"
           }
          ],
          "mesh3d": [
           {
            "colorbar": {
             "outlinewidth": 0,
             "ticks": ""
            },
            "type": "mesh3d"
           }
          ],
          "parcoords": [
           {
            "line": {
             "colorbar": {
              "outlinewidth": 0,
              "ticks": ""
             }
            },
            "type": "parcoords"
           }
          ],
          "pie": [
           {
            "automargin": true,
            "type": "pie"
           }
          ],
          "scatter": [
           {
            "fillpattern": {
             "fillmode": "overlay",
             "size": 10,
             "solidity": 0.2
            },
            "type": "scatter"
           }
          ],
          "scatter3d": [
           {
            "line": {
             "colorbar": {
              "outlinewidth": 0,
              "ticks": ""
             }
            },
            "marker": {
             "colorbar": {
              "outlinewidth": 0,
              "ticks": ""
             }
            },
            "type": "scatter3d"
           }
          ],
          "scattercarpet": [
           {
            "marker": {
             "colorbar": {
              "outlinewidth": 0,
              "ticks": ""
             }
            },
            "type": "scattercarpet"
           }
          ],
          "scattergeo": [
           {
            "marker": {
             "colorbar": {
              "outlinewidth": 0,
              "ticks": ""
             }
            },
            "type": "scattergeo"
           }
          ],
          "scattergl": [
           {
            "marker": {
             "colorbar": {
              "outlinewidth": 0,
              "ticks": ""
             }
            },
            "type": "scattergl"
           }
          ],
          "scattermap": [
           {
            "marker": {
             "colorbar": {
              "outlinewidth": 0,
              "ticks": ""
             }
            },
            "type": "scattermap"
           }
          ],
          "scattermapbox": [
           {
            "marker": {
             "colorbar": {
              "outlinewidth": 0,
              "ticks": ""
             }
            },
            "type": "scattermapbox"
           }
          ],
          "scatterpolar": [
           {
            "marker": {
             "colorbar": {
              "outlinewidth": 0,
              "ticks": ""
             }
            },
            "type": "scatterpolar"
           }
          ],
          "scatterpolargl": [
           {
            "marker": {
             "colorbar": {
              "outlinewidth": 0,
              "ticks": ""
             }
            },
            "type": "scatterpolargl"
           }
          ],
          "scatterternary": [
           {
            "marker": {
             "colorbar": {
              "outlinewidth": 0,
              "ticks": ""
             }
            },
            "type": "scatterternary"
           }
          ],
          "surface": [
           {
            "colorbar": {
             "outlinewidth": 0,
             "ticks": ""
            },
            "colorscale": [
             [
              0,
              "#0d0887"
             ],
             [
              0.1111111111111111,
              "#46039f"
             ],
             [
              0.2222222222222222,
              "#7201a8"
             ],
             [
              0.3333333333333333,
              "#9c179e"
             ],
             [
              0.4444444444444444,
              "#bd3786"
             ],
             [
              0.5555555555555556,
              "#d8576b"
             ],
             [
              0.6666666666666666,
              "#ed7953"
             ],
             [
              0.7777777777777778,
              "#fb9f3a"
             ],
             [
              0.8888888888888888,
              "#fdca26"
             ],
             [
              1,
              "#f0f921"
             ]
            ],
            "type": "surface"
           }
          ],
          "table": [
           {
            "cells": {
             "fill": {
              "color": "#EBF0F8"
             },
             "line": {
              "color": "white"
             }
            },
            "header": {
             "fill": {
              "color": "#C8D4E3"
             },
             "line": {
              "color": "white"
             }
            },
            "type": "table"
           }
          ]
         },
         "layout": {
          "annotationdefaults": {
           "arrowcolor": "#2a3f5f",
           "arrowhead": 0,
           "arrowwidth": 1
          },
          "autotypenumbers": "strict",
          "coloraxis": {
           "colorbar": {
            "outlinewidth": 0,
            "ticks": ""
           }
          },
          "colorscale": {
           "diverging": [
            [
             0,
             "#8e0152"
            ],
            [
             0.1,
             "#c51b7d"
            ],
            [
             0.2,
             "#de77ae"
            ],
            [
             0.3,
             "#f1b6da"
            ],
            [
             0.4,
             "#fde0ef"
            ],
            [
             0.5,
             "#f7f7f7"
            ],
            [
             0.6,
             "#e6f5d0"
            ],
            [
             0.7,
             "#b8e186"
            ],
            [
             0.8,
             "#7fbc41"
            ],
            [
             0.9,
             "#4d9221"
            ],
            [
             1,
             "#276419"
            ]
           ],
           "sequential": [
            [
             0,
             "#0d0887"
            ],
            [
             0.1111111111111111,
             "#46039f"
            ],
            [
             0.2222222222222222,
             "#7201a8"
            ],
            [
             0.3333333333333333,
             "#9c179e"
            ],
            [
             0.4444444444444444,
             "#bd3786"
            ],
            [
             0.5555555555555556,
             "#d8576b"
            ],
            [
             0.6666666666666666,
             "#ed7953"
            ],
            [
             0.7777777777777778,
             "#fb9f3a"
            ],
            [
             0.8888888888888888,
             "#fdca26"
            ],
            [
             1,
             "#f0f921"
            ]
           ],
           "sequentialminus": [
            [
             0,
             "#0d0887"
            ],
            [
             0.1111111111111111,
             "#46039f"
            ],
            [
             0.2222222222222222,
             "#7201a8"
            ],
            [
             0.3333333333333333,
             "#9c179e"
            ],
            [
             0.4444444444444444,
             "#bd3786"
            ],
            [
             0.5555555555555556,
             "#d8576b"
            ],
            [
             0.6666666666666666,
             "#ed7953"
            ],
            [
             0.7777777777777778,
             "#fb9f3a"
            ],
            [
             0.8888888888888888,
             "#fdca26"
            ],
            [
             1,
             "#f0f921"
            ]
           ]
          },
          "colorway": [
           "#636efa",
           "#EF553B",
           "#00cc96",
           "#ab63fa",
           "#FFA15A",
           "#19d3f3",
           "#FF6692",
           "#B6E880",
           "#FF97FF",
           "#FECB52"
          ],
          "font": {
           "color": "#2a3f5f"
          },
          "geo": {
           "bgcolor": "white",
           "lakecolor": "white",
           "landcolor": "white",
           "showlakes": true,
           "showland": true,
           "subunitcolor": "#C8D4E3"
          },
          "hoverlabel": {
           "align": "left"
          },
          "hovermode": "closest",
          "mapbox": {
           "style": "light"
          },
          "paper_bgcolor": "white",
          "plot_bgcolor": "white",
          "polar": {
           "angularaxis": {
            "gridcolor": "#EBF0F8",
            "linecolor": "#EBF0F8",
            "ticks": ""
           },
           "bgcolor": "white",
           "radialaxis": {
            "gridcolor": "#EBF0F8",
            "linecolor": "#EBF0F8",
            "ticks": ""
           }
          },
          "scene": {
           "xaxis": {
            "backgroundcolor": "white",
            "gridcolor": "#DFE8F3",
            "gridwidth": 2,
            "linecolor": "#EBF0F8",
            "showbackground": true,
            "ticks": "",
            "zerolinecolor": "#EBF0F8"
           },
           "yaxis": {
            "backgroundcolor": "white",
            "gridcolor": "#DFE8F3",
            "gridwidth": 2,
            "linecolor": "#EBF0F8",
            "showbackground": true,
            "ticks": "",
            "zerolinecolor": "#EBF0F8"
           },
           "zaxis": {
            "backgroundcolor": "white",
            "gridcolor": "#DFE8F3",
            "gridwidth": 2,
            "linecolor": "#EBF0F8",
            "showbackground": true,
            "ticks": "",
            "zerolinecolor": "#EBF0F8"
           }
          },
          "shapedefaults": {
           "line": {
            "color": "#2a3f5f"
           }
          },
          "ternary": {
           "aaxis": {
            "gridcolor": "#DFE8F3",
            "linecolor": "#A2B1C6",
            "ticks": ""
           },
           "baxis": {
            "gridcolor": "#DFE8F3",
            "linecolor": "#A2B1C6",
            "ticks": ""
           },
           "bgcolor": "white",
           "caxis": {
            "gridcolor": "#DFE8F3",
            "linecolor": "#A2B1C6",
            "ticks": ""
           }
          },
          "title": {
           "x": 0.05
          },
          "xaxis": {
           "automargin": true,
           "gridcolor": "#EBF0F8",
           "linecolor": "#EBF0F8",
           "ticks": "",
           "title": {
            "standoff": 15
           },
           "zerolinecolor": "#EBF0F8",
           "zerolinewidth": 2
          },
          "yaxis": {
           "automargin": true,
           "gridcolor": "#EBF0F8",
           "linecolor": "#EBF0F8",
           "ticks": "",
           "title": {
            "standoff": 15
           },
           "zerolinecolor": "#EBF0F8",
           "zerolinewidth": 2
          }
         }
        },
        "title": {
         "text": "Figure: Number of Researchers"
        },
        "xaxis": {
         "title": {
          "text": "Year"
         }
        },
        "yaxis": {
         "title": {
          "text": "Value (Millions)"
         }
        }
       }
      }
     },
     "metadata": {},
     "output_type": "display_data"
    }
   ],
   "source": [
    "# Test Researchers plot\n",
    "researchers_source = \"Number of Researchers\"\n",
    "if 'source' in article_data.columns:\n",
    "    researchers_data = article_data[article_data['source'] == researchers_source]\n",
    "    \n",
    "    if not researchers_data.empty:\n",
    "        # Scale the values to millions for better display\n",
    "        researchers_data['value'] = researchers_data['value'] / 1e6\n",
    "        fig = create_article_plot(researchers_data, researchers_source)\n",
    "        fig.update_layout(yaxis_title=\"Value (Millions)\")\n",
    "        fig.show()\n",
    "    else:\n",
    "        print(f\"No data found for '{researchers_source}'\")\n",
    "else:\n",
    "    print(\"Article data does not have a 'source' column\")"
   ]
  },
  {
   "cell_type": "code",
   "execution_count": null,
   "metadata": {},
   "outputs": [
    {
     "data": {
      "application/vnd.plotly.v1+json": {
       "config": {
        "plotlyServerURL": "https://plot.ly"
       },
       "data": [
        {
         "line": {
          "width": 2
         },
         "marker": {
          "size": 6
         },
         "mode": "lines+markers",
         "name": "All substances",
         "type": "scatter",
         "x": {
          "bdata": "AAAAAAAwn0AAAAAAADSfQAAAAAAAOJ9AAAAAAAA8n0AAAAAAAECfQAAAAAAARJ9AAAAAAABIn0AAAAAAAEyfQAAAAAAAUJ9AAAAAAABUn0AAAAAAAFifQAAAAAAAXJ9AAAAAAABgn0AAAAAAAGSfQAAAAAAAaJ9AAAAAAABsn0AAAAAAAHCfQAAAAAAAdJ9AAAAAAAB4n0AAAAAAAHyfQAAAAAAAgJ9AAAAAAACEn0AAAAAAAIifQAAAAAAAjJ9AAAAAAACQn0AAAAAAAJSfQAAAAAAAmJ9A",
          "dtype": "f8"
         },
         "y": {
          "bdata": "AAAAALDXEkEAAAAATEgTQQAAAADEyRNBAAAAAGQTFEEAAAAAyIkUQQAAAACclBRBAAAAAJzCFUEAAAAAKOcWQQAAAACA9xdBAAAAAADjGEEAAAAAeH8ZQQAAAACE6RlBAAAAAPRLG0EAAAAAkHAdQQAAAACCqyBBAAAAACSHIUEAAAAAloQhQQAAAAB83yJBAAAAAPhUI0EAAAAAXCQjQQAAAADuciNBAAAAACJNJEEAAAAAipUkQQAAAAC4XyVBAAAAADoLJUEAAAAA3PYlQQAAAAAWRCZB",
          "dtype": "f8"
         }
        },
        {
         "line": {
          "width": 2
         },
         "marker": {
          "size": 6
         },
         "mode": "lines+markers",
         "name": "Organic Chemicals",
         "type": "scatter",
         "x": {
          "bdata": "AAAAAAAwn0AAAAAAADSfQAAAAAAAOJ9AAAAAAAA8n0AAAAAAAECfQAAAAAAARJ9AAAAAAABIn0AAAAAAAEyfQAAAAAAAUJ9AAAAAAABUn0AAAAAAAFifQAAAAAAAXJ9AAAAAAABgn0AAAAAAAGSfQAAAAAAAaJ9AAAAAAABsn0AAAAAAAHCfQAAAAAAAdJ9AAAAAAAB4n0AAAAAAAHyfQAAAAAAAgJ9AAAAAAACEn0AAAAAAAIifQAAAAAAAjJ9AAAAAAACQn0AAAAAAAJSfQAAAAAAAmJ9A",
          "dtype": "f8"
         },
         "y": {
          "bdata": "AAAAAERjEUEAAAAATKIRQQAAAABEHRJBAAAAAFg8EkEAAAAAaJkSQQAAAABQtxJBAAAAABCUE0EAAAAAmIIUQQAAAACQXBVBAAAAABxEFkEAAAAAnHwXQQAAAAC49hdBAAAAAAB+GUEAAAAAyMkbQQAAAAB4Yh9BAAAAAByeIEEAAAAADOsgQQAAAADcPiJBAAAAANSQIkEAAAAAMm8iQQAAAADEyiJBAAAAANiXI0EAAAAAaO0jQQAAAABuwCRBAAAAAG54JEEAAAAAdmElQQAAAAASoyVB",
          "dtype": "f8"
         }
        },
        {
         "line": {
          "width": 2
         },
         "marker": {
          "size": 6
         },
         "mode": "lines+markers",
         "name": "Organometallics",
         "type": "scatter",
         "x": {
          "bdata": "AAAAAAAwn0AAAAAAADSfQAAAAAAAOJ9AAAAAAAA8n0AAAAAAAECfQAAAAAAARJ9AAAAAAABIn0AAAAAAAEyfQAAAAAAAUJ9AAAAAAABUn0AAAAAAAFifQAAAAAAAXJ9AAAAAAABgn0AAAAAAAGSfQAAAAAAAaJ9AAAAAAABsn0AAAAAAAHCfQAAAAAAAdJ9AAAAAAAB4n0AAAAAAAHyfQAAAAAAAgJ9AAAAAAACEn0AAAAAAAIifQAAAAAAAjJ9AAAAAAACQn0AAAAAAAJSfQAAAAAAAmJ9A",
          "dtype": "f8"
         },
         "y": {
          "bdata": "AAAAAKDV4kAAAAAAYAbkQAAAAACgCuRAAAAAAED440AAAAAAoPTjQAAAAADAaeRAAAAAAADB5EAAAAAAQKDlQAAAAAAgg+VAAAAAAACU5UAAAAAAAFLmQAAAAABgXuZAAAAAAGAF6UAAAAAA4AbrQAAAAABAc+lAAAAAAGCs6UAAAAAAAALoQAAAAABgQe1AAAAAAOC27EAAAAAAwOzpQAAAAACABuhAAAAAAKBd6UAAAAAAAGHnQAAAAAAAMOdAAAAAAICr5kAAAAAAYJPlQAAAAACgAuRA",
          "dtype": "f8"
         }
        },
        {
         "line": {
          "width": 2
         },
         "marker": {
          "size": 6
         },
         "mode": "lines+markers",
         "name": "Rare-Earths",
         "type": "scatter",
         "x": {
          "bdata": "AAAAAAAwn0AAAAAAADSfQAAAAAAAOJ9AAAAAAAA8n0AAAAAAAECfQAAAAAAARJ9AAAAAAABIn0AAAAAAAEyfQAAAAAAAUJ9AAAAAAABUn0AAAAAAAFifQAAAAAAAXJ9AAAAAAABgn0AAAAAAAGSfQAAAAAAAaJ9AAAAAAABsn0AAAAAAAHCfQAAAAAAAdJ9AAAAAAAB4n0AAAAAAAHyfQAAAAAAAgJ9AAAAAAACEn0AAAAAAAIifQAAAAAAAjJ9AAAAAAACQn0AAAAAAAJSfQAAAAAAAmJ9A",
          "dtype": "f8"
         },
         "y": {
          "bdata": "AAAAAACFv0AAAAAAADHAQAAAAAAAFMFAAAAAAICOwUAAAAAAgFXAQAAAAAAAgb1AAAAAAIDVwEAAAAAAABm9QAAAAACADMFAAAAAAADtvkAAAAAAAETAQAAAAAAA1cBAAAAAAACewEAAAAAAgEbBQAAAAACAU8JAAAAAAIDpwUAAAAAAALy9QAAAAAAA6sBAAAAAAADfwUAAAAAAANHDQAAAAACAdcRAAAAAAACCxkAAAAAAAMDEQAAAAAAAncRAAAAAAIAexEAAAAAAAMjCQAAAAAAA7cJA",
          "dtype": "f8"
         }
        }
       ],
       "layout": {
        "hovermode": "x unified",
        "template": {
         "data": {
          "bar": [
           {
            "error_x": {
             "color": "#2a3f5f"
            },
            "error_y": {
             "color": "#2a3f5f"
            },
            "marker": {
             "line": {
              "color": "white",
              "width": 0.5
             },
             "pattern": {
              "fillmode": "overlay",
              "size": 10,
              "solidity": 0.2
             }
            },
            "type": "bar"
           }
          ],
          "barpolar": [
           {
            "marker": {
             "line": {
              "color": "white",
              "width": 0.5
             },
             "pattern": {
              "fillmode": "overlay",
              "size": 10,
              "solidity": 0.2
             }
            },
            "type": "barpolar"
           }
          ],
          "carpet": [
           {
            "aaxis": {
             "endlinecolor": "#2a3f5f",
             "gridcolor": "#C8D4E3",
             "linecolor": "#C8D4E3",
             "minorgridcolor": "#C8D4E3",
             "startlinecolor": "#2a3f5f"
            },
            "baxis": {
             "endlinecolor": "#2a3f5f",
             "gridcolor": "#C8D4E3",
             "linecolor": "#C8D4E3",
             "minorgridcolor": "#C8D4E3",
             "startlinecolor": "#2a3f5f"
            },
            "type": "carpet"
           }
          ],
          "choropleth": [
           {
            "colorbar": {
             "outlinewidth": 0,
             "ticks": ""
            },
            "type": "choropleth"
           }
          ],
          "contour": [
           {
            "colorbar": {
             "outlinewidth": 0,
             "ticks": ""
            },
            "colorscale": [
             [
              0,
              "#0d0887"
             ],
             [
              0.1111111111111111,
              "#46039f"
             ],
             [
              0.2222222222222222,
              "#7201a8"
             ],
             [
              0.3333333333333333,
              "#9c179e"
             ],
             [
              0.4444444444444444,
              "#bd3786"
             ],
             [
              0.5555555555555556,
              "#d8576b"
             ],
             [
              0.6666666666666666,
              "#ed7953"
             ],
             [
              0.7777777777777778,
              "#fb9f3a"
             ],
             [
              0.8888888888888888,
              "#fdca26"
             ],
             [
              1,
              "#f0f921"
             ]
            ],
            "type": "contour"
           }
          ],
          "contourcarpet": [
           {
            "colorbar": {
             "outlinewidth": 0,
             "ticks": ""
            },
            "type": "contourcarpet"
           }
          ],
          "heatmap": [
           {
            "colorbar": {
             "outlinewidth": 0,
             "ticks": ""
            },
            "colorscale": [
             [
              0,
              "#0d0887"
             ],
             [
              0.1111111111111111,
              "#46039f"
             ],
             [
              0.2222222222222222,
              "#7201a8"
             ],
             [
              0.3333333333333333,
              "#9c179e"
             ],
             [
              0.4444444444444444,
              "#bd3786"
             ],
             [
              0.5555555555555556,
              "#d8576b"
             ],
             [
              0.6666666666666666,
              "#ed7953"
             ],
             [
              0.7777777777777778,
              "#fb9f3a"
             ],
             [
              0.8888888888888888,
              "#fdca26"
             ],
             [
              1,
              "#f0f921"
             ]
            ],
            "type": "heatmap"
           }
          ],
          "histogram": [
           {
            "marker": {
             "pattern": {
              "fillmode": "overlay",
              "size": 10,
              "solidity": 0.2
             }
            },
            "type": "histogram"
           }
          ],
          "histogram2d": [
           {
            "colorbar": {
             "outlinewidth": 0,
             "ticks": ""
            },
            "colorscale": [
             [
              0,
              "#0d0887"
             ],
             [
              0.1111111111111111,
              "#46039f"
             ],
             [
              0.2222222222222222,
              "#7201a8"
             ],
             [
              0.3333333333333333,
              "#9c179e"
             ],
             [
              0.4444444444444444,
              "#bd3786"
             ],
             [
              0.5555555555555556,
              "#d8576b"
             ],
             [
              0.6666666666666666,
              "#ed7953"
             ],
             [
              0.7777777777777778,
              "#fb9f3a"
             ],
             [
              0.8888888888888888,
              "#fdca26"
             ],
             [
              1,
              "#f0f921"
             ]
            ],
            "type": "histogram2d"
           }
          ],
          "histogram2dcontour": [
           {
            "colorbar": {
             "outlinewidth": 0,
             "ticks": ""
            },
            "colorscale": [
             [
              0,
              "#0d0887"
             ],
             [
              0.1111111111111111,
              "#46039f"
             ],
             [
              0.2222222222222222,
              "#7201a8"
             ],
             [
              0.3333333333333333,
              "#9c179e"
             ],
             [
              0.4444444444444444,
              "#bd3786"
             ],
             [
              0.5555555555555556,
              "#d8576b"
             ],
             [
              0.6666666666666666,
              "#ed7953"
             ],
             [
              0.7777777777777778,
              "#fb9f3a"
             ],
             [
              0.8888888888888888,
              "#fdca26"
             ],
             [
              1,
              "#f0f921"
             ]
            ],
            "type": "histogram2dcontour"
           }
          ],
          "mesh3d": [
           {
            "colorbar": {
             "outlinewidth": 0,
             "ticks": ""
            },
            "type": "mesh3d"
           }
          ],
          "parcoords": [
           {
            "line": {
             "colorbar": {
              "outlinewidth": 0,
              "ticks": ""
             }
            },
            "type": "parcoords"
           }
          ],
          "pie": [
           {
            "automargin": true,
            "type": "pie"
           }
          ],
          "scatter": [
           {
            "fillpattern": {
             "fillmode": "overlay",
             "size": 10,
             "solidity": 0.2
            },
            "type": "scatter"
           }
          ],
          "scatter3d": [
           {
            "line": {
             "colorbar": {
              "outlinewidth": 0,
              "ticks": ""
             }
            },
            "marker": {
             "colorbar": {
              "outlinewidth": 0,
              "ticks": ""
             }
            },
            "type": "scatter3d"
           }
          ],
          "scattercarpet": [
           {
            "marker": {
             "colorbar": {
              "outlinewidth": 0,
              "ticks": ""
             }
            },
            "type": "scattercarpet"
           }
          ],
          "scattergeo": [
           {
            "marker": {
             "colorbar": {
              "outlinewidth": 0,
              "ticks": ""
             }
            },
            "type": "scattergeo"
           }
          ],
          "scattergl": [
           {
            "marker": {
             "colorbar": {
              "outlinewidth": 0,
              "ticks": ""
             }
            },
            "type": "scattergl"
           }
          ],
          "scattermap": [
           {
            "marker": {
             "colorbar": {
              "outlinewidth": 0,
              "ticks": ""
             }
            },
            "type": "scattermap"
           }
          ],
          "scattermapbox": [
           {
            "marker": {
             "colorbar": {
              "outlinewidth": 0,
              "ticks": ""
             }
            },
            "type": "scattermapbox"
           }
          ],
          "scatterpolar": [
           {
            "marker": {
             "colorbar": {
              "outlinewidth": 0,
              "ticks": ""
             }
            },
            "type": "scatterpolar"
           }
          ],
          "scatterpolargl": [
           {
            "marker": {
             "colorbar": {
              "outlinewidth": 0,
              "ticks": ""
             }
            },
            "type": "scatterpolargl"
           }
          ],
          "scatterternary": [
           {
            "marker": {
             "colorbar": {
              "outlinewidth": 0,
              "ticks": ""
             }
            },
            "type": "scatterternary"
           }
          ],
          "surface": [
           {
            "colorbar": {
             "outlinewidth": 0,
             "ticks": ""
            },
            "colorscale": [
             [
              0,
              "#0d0887"
             ],
             [
              0.1111111111111111,
              "#46039f"
             ],
             [
              0.2222222222222222,
              "#7201a8"
             ],
             [
              0.3333333333333333,
              "#9c179e"
             ],
             [
              0.4444444444444444,
              "#bd3786"
             ],
             [
              0.5555555555555556,
              "#d8576b"
             ],
             [
              0.6666666666666666,
              "#ed7953"
             ],
             [
              0.7777777777777778,
              "#fb9f3a"
             ],
             [
              0.8888888888888888,
              "#fdca26"
             ],
             [
              1,
              "#f0f921"
             ]
            ],
            "type": "surface"
           }
          ],
          "table": [
           {
            "cells": {
             "fill": {
              "color": "#EBF0F8"
             },
             "line": {
              "color": "white"
             }
            },
            "header": {
             "fill": {
              "color": "#C8D4E3"
             },
             "line": {
              "color": "white"
             }
            },
            "type": "table"
           }
          ]
         },
         "layout": {
          "annotationdefaults": {
           "arrowcolor": "#2a3f5f",
           "arrowhead": 0,
           "arrowwidth": 1
          },
          "autotypenumbers": "strict",
          "coloraxis": {
           "colorbar": {
            "outlinewidth": 0,
            "ticks": ""
           }
          },
          "colorscale": {
           "diverging": [
            [
             0,
             "#8e0152"
            ],
            [
             0.1,
             "#c51b7d"
            ],
            [
             0.2,
             "#de77ae"
            ],
            [
             0.3,
             "#f1b6da"
            ],
            [
             0.4,
             "#fde0ef"
            ],
            [
             0.5,
             "#f7f7f7"
            ],
            [
             0.6,
             "#e6f5d0"
            ],
            [
             0.7,
             "#b8e186"
            ],
            [
             0.8,
             "#7fbc41"
            ],
            [
             0.9,
             "#4d9221"
            ],
            [
             1,
             "#276419"
            ]
           ],
           "sequential": [
            [
             0,
             "#0d0887"
            ],
            [
             0.1111111111111111,
             "#46039f"
            ],
            [
             0.2222222222222222,
             "#7201a8"
            ],
            [
             0.3333333333333333,
             "#9c179e"
            ],
            [
             0.4444444444444444,
             "#bd3786"
            ],
            [
             0.5555555555555556,
             "#d8576b"
            ],
            [
             0.6666666666666666,
             "#ed7953"
            ],
            [
             0.7777777777777778,
             "#fb9f3a"
            ],
            [
             0.8888888888888888,
             "#fdca26"
            ],
            [
             1,
             "#f0f921"
            ]
           ],
           "sequentialminus": [
            [
             0,
             "#0d0887"
            ],
            [
             0.1111111111111111,
             "#46039f"
            ],
            [
             0.2222222222222222,
             "#7201a8"
            ],
            [
             0.3333333333333333,
             "#9c179e"
            ],
            [
             0.4444444444444444,
             "#bd3786"
            ],
            [
             0.5555555555555556,
             "#d8576b"
            ],
            [
             0.6666666666666666,
             "#ed7953"
            ],
            [
             0.7777777777777778,
             "#fb9f3a"
            ],
            [
             0.8888888888888888,
             "#fdca26"
            ],
            [
             1,
             "#f0f921"
            ]
           ]
          },
          "colorway": [
           "#636efa",
           "#EF553B",
           "#00cc96",
           "#ab63fa",
           "#FFA15A",
           "#19d3f3",
           "#FF6692",
           "#B6E880",
           "#FF97FF",
           "#FECB52"
          ],
          "font": {
           "color": "#2a3f5f"
          },
          "geo": {
           "bgcolor": "white",
           "lakecolor": "white",
           "landcolor": "white",
           "showlakes": true,
           "showland": true,
           "subunitcolor": "#C8D4E3"
          },
          "hoverlabel": {
           "align": "left"
          },
          "hovermode": "closest",
          "mapbox": {
           "style": "light"
          },
          "paper_bgcolor": "white",
          "plot_bgcolor": "white",
          "polar": {
           "angularaxis": {
            "gridcolor": "#EBF0F8",
            "linecolor": "#EBF0F8",
            "ticks": ""
           },
           "bgcolor": "white",
           "radialaxis": {
            "gridcolor": "#EBF0F8",
            "linecolor": "#EBF0F8",
            "ticks": ""
           }
          },
          "scene": {
           "xaxis": {
            "backgroundcolor": "white",
            "gridcolor": "#DFE8F3",
            "gridwidth": 2,
            "linecolor": "#EBF0F8",
            "showbackground": true,
            "ticks": "",
            "zerolinecolor": "#EBF0F8"
           },
           "yaxis": {
            "backgroundcolor": "white",
            "gridcolor": "#DFE8F3",
            "gridwidth": 2,
            "linecolor": "#EBF0F8",
            "showbackground": true,
            "ticks": "",
            "zerolinecolor": "#EBF0F8"
           },
           "zaxis": {
            "backgroundcolor": "white",
            "gridcolor": "#DFE8F3",
            "gridwidth": 2,
            "linecolor": "#EBF0F8",
            "showbackground": true,
            "ticks": "",
            "zerolinecolor": "#EBF0F8"
           }
          },
          "shapedefaults": {
           "line": {
            "color": "#2a3f5f"
           }
          },
          "ternary": {
           "aaxis": {
            "gridcolor": "#DFE8F3",
            "linecolor": "#A2B1C6",
            "ticks": ""
           },
           "baxis": {
            "gridcolor": "#DFE8F3",
            "linecolor": "#A2B1C6",
            "ticks": ""
           },
           "bgcolor": "white",
           "caxis": {
            "gridcolor": "#DFE8F3",
            "linecolor": "#A2B1C6",
            "ticks": ""
           }
          },
          "title": {
           "x": 0.05
          },
          "xaxis": {
           "automargin": true,
           "gridcolor": "#EBF0F8",
           "linecolor": "#EBF0F8",
           "ticks": "",
           "title": {
            "standoff": 15
           },
           "zerolinecolor": "#EBF0F8",
           "zerolinewidth": 2
          },
          "yaxis": {
           "automargin": true,
           "gridcolor": "#EBF0F8",
           "linecolor": "#EBF0F8",
           "ticks": "",
           "title": {
            "standoff": 15
           },
           "zerolinecolor": "#EBF0F8",
           "zerolinewidth": 2
          }
         }
        },
        "title": {
         "text": "Figure: Expansion of the CS"
        },
        "xaxis": {
         "title": {
          "text": "Year"
         }
        },
        "yaxis": {
         "title": {
          "text": "Value"
         }
        }
       }
      }
     },
     "metadata": {},
     "output_type": "display_data"
    }
   ],
   "source": [
    "# Test CS Expansion plot\n",
    "cs_expansion_source = \"Expansion of the CS\"\n",
    "if 'source' in article_data.columns:\n",
    "    cs_expansion_data = article_data[article_data['source'] == cs_expansion_source]\n",
    "    \n",
    "    if not cs_expansion_data.empty:\n",
    "        fig = create_article_plot(cs_expansion_data, cs_expansion_source)\n",
    "        fig.show()\n",
    "    else:\n",
    "        print(f\"No data found for '{cs_expansion_source}'\")\n",
    "else:\n",
    "    print(\"Article data does not have a 'source' column\")"
   ]
  },
  {
   "cell_type": "markdown",
   "metadata": {},
   "source": [
    "## 6. Implementing Missing Article Plot Functions\n",
    "\n",
    "Based on the tests above, let's implement the missing article plot functions if needed."
   ]
  },
  {
   "cell_type": "code",
   "execution_count": null,
   "metadata": {},
   "outputs": [],
   "source": [
    "# Implementation of missing article plot functions\n",
    "\n",
    "def create_gdp_plot(data: pd.DataFrame):\n",
    "    \"\"\"Create GDP article plot with annotations for economic events\"\"\"\n",
    "    fig = go.Figure()\n",
    "    \n",
    "    for country in data['country'].unique():\n",
    "        country_data = data[data['country'] == country]\n",
    "        fig.add_trace(go.Scatter(\n",
    "            x=country_data['year'],\n",
    "            y=country_data['value'],\n",
    "            mode='lines+markers',\n",
    "            name=country,\n",
    "            line=dict(width=2),\n",
    "            marker=dict(size=6)\n",
    "        ))\n",
    "    \n",
    "    # Add vertical lines and annotations for economic events\n",
    "    fig.add_vline(x=2007.5, line_dash=\"dash\", line_color=\"grey\")\n",
    "    fig.add_vline(x=2019.5, line_dash=\"dash\", line_color=\"grey\")\n",
    "    \n",
    "    # Calculate y-position for annotations based on data\n",
    "    max_val = max([max(trace['y']) for trace in fig.data]) if fig.data else 10\n",
    "    \n",
    "    fig.add_annotation(\n",
    "        x=2007.5, \n",
    "        y=max_val * 0.9,\n",
    "        text=\"Financial Crisis\", \n",
    "        showarrow=True,\n",
    "        arrowhead=1\n",
    "    )\n",
    "    fig.add_annotation(\n",
    "        x=2019.5, \n",
    "        y=max_val * 0.8,\n",
    "        text=\"COVID-19\", \n",
    "        showarrow=True,\n",
    "        arrowhead=1\n",
    "    )\n",
    "    \n",
    "    fig.update_layout(\n",
    "        title=\"Figure: Annual growth rate of the GDP\",\n",
    "        xaxis_title=\"Year\",\n",
    "        yaxis_title=\"GDP Growth Rate (%)\",\n",
    "        template='plotly_white',\n",
    "        hovermode='x unified'\n",
    "    )\n",
    "    \n",
    "    return fig\n",
    "\n",
    "def create_researchers_plot(data: pd.DataFrame):\n",
    "    \"\"\"Create researchers plot with values in millions\"\"\"\n",
    "    fig = go.Figure()\n",
    "    \n",
    "    for country in data['country'].unique():\n",
    "        country_data = data[data['country'] == country]\n",
    "        scaled_values = country_data['value'] / 1e6  # Convert to millions\n",
    "        \n",
    "        fig.add_trace(go.Scatter(\n",
    "            x=country_data['year'],\n",
    "            y=scaled_values,\n",
    "            mode='lines+markers',\n",
    "            name=country,\n",
    "            line=dict(width=2),\n",
    "            marker=dict(size=6)\n",
    "        ))\n",
    "    \n",
    "    fig.update_layout(\n",
    "        title=\"Figure: Number of Researchers\",\n",
    "        xaxis_title=\"Year\",\n",
    "        yaxis_title=\"Number of Researchers (Millions)\",\n",
    "        template='plotly_white',\n",
    "        hovermode='x unified'\n",
    "    )\n",
    "    \n",
    "    return fig\n",
    "\n",
    "def create_cs_expansion_plot(data: pd.DataFrame):\n",
    "    \"\"\"Create chemical space expansion plot\"\"\"\n",
    "    fig = go.Figure()\n",
    "    \n",
    "    for country in data['country'].unique():\n",
    "        country_data = data[data['country'] == country]\n",
    "        fig.add_trace(go.Scatter(\n",
    "            x=country_data['year'],\n",
    "            y=country_data['value'],\n",
    "            mode='lines+markers',\n",
    "            name=country,\n",
    "            line=dict(width=2),\n",
    "            marker=dict(size=6)\n",
    "        ))\n",
    "    \n",
    "    fig.update_layout(\n",
    "        title=\"Figure: Chemical Space Expansion\",\n",
    "        xaxis_title=\"Year\",\n",
    "        yaxis_title=\"Expansion Rate\",\n",
    "        template='plotly_white',\n",
    "        hovermode='x unified'\n",
    "    )\n",
    "    \n",
    "    return fig"
   ]
  },
  {
   "cell_type": "code",
   "execution_count": null,
   "metadata": {},
   "outputs": [
    {
     "data": {
      "application/vnd.plotly.v1+json": {
       "config": {
        "plotlyServerURL": "https://plot.ly"
       },
       "data": [
        {
         "line": {
          "width": 2
         },
         "marker": {
          "size": 6
         },
         "mode": "lines+markers",
         "name": "United States",
         "type": "scatter",
         "x": {
          "bdata": "0AfRB9IH0wfUB9UH1gfXB9gH2QfaB9sH3AfdB94H3wfgB+EH4gfjB+QH5QfmBw==",
          "dtype": "i2"
         },
         "y": {
          "bdata": "iLOnjOSFEEDZyhqDgT0iQBieu4wtGxtA9Sonf3rXIEDD2HARiIIJwO6LHP4L6xlA1IqXr7KI9b9qtFFd/fwaQBzbdcOoQg/Au6mx+EbMAMDuOjYWSN8EQAz+82ekDhpApnx6MSXWEEBAqoqlZbG9vyBGp05uHO0/E6UIdpgSEMDiOixittIaQJBV+iKFL+U/h5z3Fjt+EMD4IskMbO3mP84Gq1j8aBZAdJyuSPpwBkCerIFsMwYYQA==",
          "dtype": "f8"
         }
        },
        {
         "line": {
          "width": 2
         },
         "marker": {
          "size": 6
         },
         "mode": "lines+markers",
         "name": "China",
         "type": "scatter",
         "x": {
          "bdata": "0AfRB9IH0wfUB9UH1gfXB9gH2QfaB9sH3AfdB94H3wfgB+EH4gfjB+QH5QfmBw==",
          "dtype": "i2"
         },
         "y": {
          "bdata": "6nBUHQJlBECcayhuYv8WQEBYv0W+Gf6/dGTi+imQCkDZSBkZmnYSwFRnV3A2MiJAoDdFZZDK9j/G6HwphTEXQPj6OLZNTxxAnD014p6jCEBwmouqJBvcP5eZrx/t4CFATsl7/fJOIkDCZwWhCmcHwLz9XN9YdBZAVvDt54q3C8AsWtX5qbIcQCycM7zkMwJAcpgoL1rQC8AAVjRXjC7lv75zp9JuGyJAzqrqc7JHE8BE59FnJBsRQA==",
          "dtype": "f8"
         }
        },
        {
         "line": {
          "width": 2
         },
         "marker": {
          "size": 6
         },
         "mode": "lines+markers",
         "name": "Germany",
         "type": "scatter",
         "x": {
          "bdata": "0AfRB9IH0wfUB9UH1gfXB9gH2QfaB9sH3AfdB94H3wfgB+EH4gfjB+QH5QfmBw==",
          "dtype": "i2"
         },
         "y": {
          "bdata": "sOfDjP0iGEB2RZLgeDQLwE3bEJJEzSJAp4Ho0Ru+I0ChPtBBNaohQEV6SiopExHARY6aCqgtEcDopkwZ/bb8P1Q2Uf61eAfAEMfKFHgDCMBWW3S6sU8CwO9mj7+6GBLAzg5LbM/2+7+IjnbGBuwBQNzm7owP9gvA9jfLZA8ODcCWZ+qAlsQAQGDldwcsAsO/oBdu7clfCkCEFk/iuEceQI7swDhVyP+/OgzUDa/rGEA2m6Tzl/YQQA==",
          "dtype": "f8"
         }
        }
       ],
       "layout": {
        "annotations": [
         {
          "arrowhead": 1,
          "showarrow": true,
          "text": "Financial Crisis",
          "x": 2007.5,
          "y": 8.884175399464533
         },
         {
          "arrowhead": 1,
          "showarrow": true,
          "text": "COVID-19",
          "x": 2019.5,
          "y": 7.897044799524029
         }
        ],
        "hovermode": "x unified",
        "shapes": [
         {
          "line": {
           "color": "grey",
           "dash": "dash"
          },
          "type": "line",
          "x0": 2007.5,
          "x1": 2007.5,
          "xref": "x",
          "y0": 0,
          "y1": 1,
          "yref": "y domain"
         },
         {
          "line": {
           "color": "grey",
           "dash": "dash"
          },
          "type": "line",
          "x0": 2019.5,
          "x1": 2019.5,
          "xref": "x",
          "y0": 0,
          "y1": 1,
          "yref": "y domain"
         }
        ],
        "template": {
         "data": {
          "bar": [
           {
            "error_x": {
             "color": "#2a3f5f"
            },
            "error_y": {
             "color": "#2a3f5f"
            },
            "marker": {
             "line": {
              "color": "white",
              "width": 0.5
             },
             "pattern": {
              "fillmode": "overlay",
              "size": 10,
              "solidity": 0.2
             }
            },
            "type": "bar"
           }
          ],
          "barpolar": [
           {
            "marker": {
             "line": {
              "color": "white",
              "width": 0.5
             },
             "pattern": {
              "fillmode": "overlay",
              "size": 10,
              "solidity": 0.2
             }
            },
            "type": "barpolar"
           }
          ],
          "carpet": [
           {
            "aaxis": {
             "endlinecolor": "#2a3f5f",
             "gridcolor": "#C8D4E3",
             "linecolor": "#C8D4E3",
             "minorgridcolor": "#C8D4E3",
             "startlinecolor": "#2a3f5f"
            },
            "baxis": {
             "endlinecolor": "#2a3f5f",
             "gridcolor": "#C8D4E3",
             "linecolor": "#C8D4E3",
             "minorgridcolor": "#C8D4E3",
             "startlinecolor": "#2a3f5f"
            },
            "type": "carpet"
           }
          ],
          "choropleth": [
           {
            "colorbar": {
             "outlinewidth": 0,
             "ticks": ""
            },
            "type": "choropleth"
           }
          ],
          "contour": [
           {
            "colorbar": {
             "outlinewidth": 0,
             "ticks": ""
            },
            "colorscale": [
             [
              0,
              "#0d0887"
             ],
             [
              0.1111111111111111,
              "#46039f"
             ],
             [
              0.2222222222222222,
              "#7201a8"
             ],
             [
              0.3333333333333333,
              "#9c179e"
             ],
             [
              0.4444444444444444,
              "#bd3786"
             ],
             [
              0.5555555555555556,
              "#d8576b"
             ],
             [
              0.6666666666666666,
              "#ed7953"
             ],
             [
              0.7777777777777778,
              "#fb9f3a"
             ],
             [
              0.8888888888888888,
              "#fdca26"
             ],
             [
              1,
              "#f0f921"
             ]
            ],
            "type": "contour"
           }
          ],
          "contourcarpet": [
           {
            "colorbar": {
             "outlinewidth": 0,
             "ticks": ""
            },
            "type": "contourcarpet"
           }
          ],
          "heatmap": [
           {
            "colorbar": {
             "outlinewidth": 0,
             "ticks": ""
            },
            "colorscale": [
             [
              0,
              "#0d0887"
             ],
             [
              0.1111111111111111,
              "#46039f"
             ],
             [
              0.2222222222222222,
              "#7201a8"
             ],
             [
              0.3333333333333333,
              "#9c179e"
             ],
             [
              0.4444444444444444,
              "#bd3786"
             ],
             [
              0.5555555555555556,
              "#d8576b"
             ],
             [
              0.6666666666666666,
              "#ed7953"
             ],
             [
              0.7777777777777778,
              "#fb9f3a"
             ],
             [
              0.8888888888888888,
              "#fdca26"
             ],
             [
              1,
              "#f0f921"
             ]
            ],
            "type": "heatmap"
           }
          ],
          "histogram": [
           {
            "marker": {
             "pattern": {
              "fillmode": "overlay",
              "size": 10,
              "solidity": 0.2
             }
            },
            "type": "histogram"
           }
          ],
          "histogram2d": [
           {
            "colorbar": {
             "outlinewidth": 0,
             "ticks": ""
            },
            "colorscale": [
             [
              0,
              "#0d0887"
             ],
             [
              0.1111111111111111,
              "#46039f"
             ],
             [
              0.2222222222222222,
              "#7201a8"
             ],
             [
              0.3333333333333333,
              "#9c179e"
             ],
             [
              0.4444444444444444,
              "#bd3786"
             ],
             [
              0.5555555555555556,
              "#d8576b"
             ],
             [
              0.6666666666666666,
              "#ed7953"
             ],
             [
              0.7777777777777778,
              "#fb9f3a"
             ],
             [
              0.8888888888888888,
              "#fdca26"
             ],
             [
              1,
              "#f0f921"
             ]
            ],
            "type": "histogram2d"
           }
          ],
          "histogram2dcontour": [
           {
            "colorbar": {
             "outlinewidth": 0,
             "ticks": ""
            },
            "colorscale": [
             [
              0,
              "#0d0887"
             ],
             [
              0.1111111111111111,
              "#46039f"
             ],
             [
              0.2222222222222222,
              "#7201a8"
             ],
             [
              0.3333333333333333,
              "#9c179e"
             ],
             [
              0.4444444444444444,
              "#bd3786"
             ],
             [
              0.5555555555555556,
              "#d8576b"
             ],
             [
              0.6666666666666666,
              "#ed7953"
             ],
             [
              0.7777777777777778,
              "#fb9f3a"
             ],
             [
              0.8888888888888888,
              "#fdca26"
             ],
             [
              1,
              "#f0f921"
             ]
            ],
            "type": "histogram2dcontour"
           }
          ],
          "mesh3d": [
           {
            "colorbar": {
             "outlinewidth": 0,
             "ticks": ""
            },
            "type": "mesh3d"
           }
          ],
          "parcoords": [
           {
            "line": {
             "colorbar": {
              "outlinewidth": 0,
              "ticks": ""
             }
            },
            "type": "parcoords"
           }
          ],
          "pie": [
           {
            "automargin": true,
            "type": "pie"
           }
          ],
          "scatter": [
           {
            "fillpattern": {
             "fillmode": "overlay",
             "size": 10,
             "solidity": 0.2
            },
            "type": "scatter"
           }
          ],
          "scatter3d": [
           {
            "line": {
             "colorbar": {
              "outlinewidth": 0,
              "ticks": ""
             }
            },
            "marker": {
             "colorbar": {
              "outlinewidth": 0,
              "ticks": ""
             }
            },
            "type": "scatter3d"
           }
          ],
          "scattercarpet": [
           {
            "marker": {
             "colorbar": {
              "outlinewidth": 0,
              "ticks": ""
             }
            },
            "type": "scattercarpet"
           }
          ],
          "scattergeo": [
           {
            "marker": {
             "colorbar": {
              "outlinewidth": 0,
              "ticks": ""
             }
            },
            "type": "scattergeo"
           }
          ],
          "scattergl": [
           {
            "marker": {
             "colorbar": {
              "outlinewidth": 0,
              "ticks": ""
             }
            },
            "type": "scattergl"
           }
          ],
          "scattermap": [
           {
            "marker": {
             "colorbar": {
              "outlinewidth": 0,
              "ticks": ""
             }
            },
            "type": "scattermap"
           }
          ],
          "scattermapbox": [
           {
            "marker": {
             "colorbar": {
              "outlinewidth": 0,
              "ticks": ""
             }
            },
            "type": "scattermapbox"
           }
          ],
          "scatterpolar": [
           {
            "marker": {
             "colorbar": {
              "outlinewidth": 0,
              "ticks": ""
             }
            },
            "type": "scatterpolar"
           }
          ],
          "scatterpolargl": [
           {
            "marker": {
             "colorbar": {
              "outlinewidth": 0,
              "ticks": ""
             }
            },
            "type": "scatterpolargl"
           }
          ],
          "scatterternary": [
           {
            "marker": {
             "colorbar": {
              "outlinewidth": 0,
              "ticks": ""
             }
            },
            "type": "scatterternary"
           }
          ],
          "surface": [
           {
            "colorbar": {
             "outlinewidth": 0,
             "ticks": ""
            },
            "colorscale": [
             [
              0,
              "#0d0887"
             ],
             [
              0.1111111111111111,
              "#46039f"
             ],
             [
              0.2222222222222222,
              "#7201a8"
             ],
             [
              0.3333333333333333,
              "#9c179e"
             ],
             [
              0.4444444444444444,
              "#bd3786"
             ],
             [
              0.5555555555555556,
              "#d8576b"
             ],
             [
              0.6666666666666666,
              "#ed7953"
             ],
             [
              0.7777777777777778,
              "#fb9f3a"
             ],
             [
              0.8888888888888888,
              "#fdca26"
             ],
             [
              1,
              "#f0f921"
             ]
            ],
            "type": "surface"
           }
          ],
          "table": [
           {
            "cells": {
             "fill": {
              "color": "#EBF0F8"
             },
             "line": {
              "color": "white"
             }
            },
            "header": {
             "fill": {
              "color": "#C8D4E3"
             },
             "line": {
              "color": "white"
             }
            },
            "type": "table"
           }
          ]
         },
         "layout": {
          "annotationdefaults": {
           "arrowcolor": "#2a3f5f",
           "arrowhead": 0,
           "arrowwidth": 1
          },
          "autotypenumbers": "strict",
          "coloraxis": {
           "colorbar": {
            "outlinewidth": 0,
            "ticks": ""
           }
          },
          "colorscale": {
           "diverging": [
            [
             0,
             "#8e0152"
            ],
            [
             0.1,
             "#c51b7d"
            ],
            [
             0.2,
             "#de77ae"
            ],
            [
             0.3,
             "#f1b6da"
            ],
            [
             0.4,
             "#fde0ef"
            ],
            [
             0.5,
             "#f7f7f7"
            ],
            [
             0.6,
             "#e6f5d0"
            ],
            [
             0.7,
             "#b8e186"
            ],
            [
             0.8,
             "#7fbc41"
            ],
            [
             0.9,
             "#4d9221"
            ],
            [
             1,
             "#276419"
            ]
           ],
           "sequential": [
            [
             0,
             "#0d0887"
            ],
            [
             0.1111111111111111,
             "#46039f"
            ],
            [
             0.2222222222222222,
             "#7201a8"
            ],
            [
             0.3333333333333333,
             "#9c179e"
            ],
            [
             0.4444444444444444,
             "#bd3786"
            ],
            [
             0.5555555555555556,
             "#d8576b"
            ],
            [
             0.6666666666666666,
             "#ed7953"
            ],
            [
             0.7777777777777778,
             "#fb9f3a"
            ],
            [
             0.8888888888888888,
             "#fdca26"
            ],
            [
             1,
             "#f0f921"
            ]
           ],
           "sequentialminus": [
            [
             0,
             "#0d0887"
            ],
            [
             0.1111111111111111,
             "#46039f"
            ],
            [
             0.2222222222222222,
             "#7201a8"
            ],
            [
             0.3333333333333333,
             "#9c179e"
            ],
            [
             0.4444444444444444,
             "#bd3786"
            ],
            [
             0.5555555555555556,
             "#d8576b"
            ],
            [
             0.6666666666666666,
             "#ed7953"
            ],
            [
             0.7777777777777778,
             "#fb9f3a"
            ],
            [
             0.8888888888888888,
             "#fdca26"
            ],
            [
             1,
             "#f0f921"
            ]
           ]
          },
          "colorway": [
           "#636efa",
           "#EF553B",
           "#00cc96",
           "#ab63fa",
           "#FFA15A",
           "#19d3f3",
           "#FF6692",
           "#B6E880",
           "#FF97FF",
           "#FECB52"
          ],
          "font": {
           "color": "#2a3f5f"
          },
          "geo": {
           "bgcolor": "white",
           "lakecolor": "white",
           "landcolor": "white",
           "showlakes": true,
           "showland": true,
           "subunitcolor": "#C8D4E3"
          },
          "hoverlabel": {
           "align": "left"
          },
          "hovermode": "closest",
          "mapbox": {
           "style": "light"
          },
          "paper_bgcolor": "white",
          "plot_bgcolor": "white",
          "polar": {
           "angularaxis": {
            "gridcolor": "#EBF0F8",
            "linecolor": "#EBF0F8",
            "ticks": ""
           },
           "bgcolor": "white",
           "radialaxis": {
            "gridcolor": "#EBF0F8",
            "linecolor": "#EBF0F8",
            "ticks": ""
           }
          },
          "scene": {
           "xaxis": {
            "backgroundcolor": "white",
            "gridcolor": "#DFE8F3",
            "gridwidth": 2,
            "linecolor": "#EBF0F8",
            "showbackground": true,
            "ticks": "",
            "zerolinecolor": "#EBF0F8"
           },
           "yaxis": {
            "backgroundcolor": "white",
            "gridcolor": "#DFE8F3",
            "gridwidth": 2,
            "linecolor": "#EBF0F8",
            "showbackground": true,
            "ticks": "",
            "zerolinecolor": "#EBF0F8"
           },
           "zaxis": {
            "backgroundcolor": "white",
            "gridcolor": "#DFE8F3",
            "gridwidth": 2,
            "linecolor": "#EBF0F8",
            "showbackground": true,
            "ticks": "",
            "zerolinecolor": "#EBF0F8"
           }
          },
          "shapedefaults": {
           "line": {
            "color": "#2a3f5f"
           }
          },
          "ternary": {
           "aaxis": {
            "gridcolor": "#DFE8F3",
            "linecolor": "#A2B1C6",
            "ticks": ""
           },
           "baxis": {
            "gridcolor": "#DFE8F3",
            "linecolor": "#A2B1C6",
            "ticks": ""
           },
           "bgcolor": "white",
           "caxis": {
            "gridcolor": "#DFE8F3",
            "linecolor": "#A2B1C6",
            "ticks": ""
           }
          },
          "title": {
           "x": 0.05
          },
          "xaxis": {
           "automargin": true,
           "gridcolor": "#EBF0F8",
           "linecolor": "#EBF0F8",
           "ticks": "",
           "title": {
            "standoff": 15
           },
           "zerolinecolor": "#EBF0F8",
           "zerolinewidth": 2
          },
          "yaxis": {
           "automargin": true,
           "gridcolor": "#EBF0F8",
           "linecolor": "#EBF0F8",
           "ticks": "",
           "title": {
            "standoff": 15
           },
           "zerolinecolor": "#EBF0F8",
           "zerolinewidth": 2
          }
         }
        },
        "title": {
         "text": "Figure: Annual growth rate of the GDP"
        },
        "xaxis": {
         "title": {
          "text": "Year"
         }
        },
        "yaxis": {
         "title": {
          "text": "GDP Growth Rate (%)"
         }
        }
       }
      }
     },
     "metadata": {},
     "output_type": "display_data"
    },
    {
     "data": {
      "application/vnd.plotly.v1+json": {
       "config": {
        "plotlyServerURL": "https://plot.ly"
       },
       "data": [
        {
         "line": {
          "width": 2
         },
         "marker": {
          "size": 6
         },
         "mode": "lines+markers",
         "name": "United States",
         "type": "scatter",
         "x": {
          "bdata": "0AfRB9IH0wfUB9UH1gfXB9gH2QfaB9sH3AfdB94H3wfgB+EH4gfjB+QH5QfmBw==",
          "dtype": "i2"
         },
         "y": {
          "bdata": "VmOolnDZ9T/87n7MS3H0P18beWRepe4/ogZBOwz18j9hJtA83BP2P+gBCfpvMfg/u1VwF+iU7z8XmHWi5Uz1P0HevWMBAPA/WsNl7GPu+j+GMyz+fMDzP1E9IzRaqf8/01fZUbHt+D8ukVkxLDP4P7/nid7T0fk/iGlod8Xl5T8wxD8wE7XzP5S7DK1yifY/Ur7KjaGa8D+lMnneukj1Py0YTRoLX/Y/mIH7XmNP/D+S2NcXLSrjPw==",
          "dtype": "f8"
         }
        },
        {
         "line": {
          "width": 2
         },
         "marker": {
          "size": 6
         },
         "mode": "lines+markers",
         "name": "China",
         "type": "scatter",
         "x": {
          "bdata": "0AfRB9IH0wfUB9UH1gfXB9gH2QfaB9sH3AfdB94H3wfgB+EH4gfjB+QH5QfmBw==",
          "dtype": "i2"
         },
         "y": {
          "bdata": "zQ7CB50Y8D9ZHpFPUZT6P7d6VOTdevo/G6hdcoQP+D80MKKzEL73P788NsRSYOw/Z/1sQwpg9D8SWHOQgPzlP0qogqlJOek/2IAnnFmS5z/IONmskCn0PzNE89oD2f4/9Unea6w19T+PnyCyRmT4P4l0zhdXr+E/8036yWHK+z+SBLlxtGv7P1d5G3+wFPY/zciz78ii7T/Kue8kcCPkPwThK3T+N/o/9WO+OTlh9T9SozCldL/iPw==",
          "dtype": "f8"
         }
        },
        {
         "line": {
          "width": 2
         },
         "marker": {
          "size": 6
         },
         "mode": "lines+markers",
         "name": "Germany",
         "type": "scatter",
         "x": {
          "bdata": "0AfRB9IH0wfUB9UH1gfXB9gH2QfaB9sH3AfdB94H3wfgB+EH4gfjB+QH5QfmBw==",
          "dtype": "i2"
         },
         "y": {
          "bdata": "8BQgVDoM8j8jERzXcLHvP1B1Y7ohrPA/pRGqU3uI+D+KTc1MY9n5Px+RzQARi/c/cxpFUBzs/T8epJDdmQnmP0elHOJRMfA/1CvZjjyq9T/3R6q9Jpj8P6b/xDJPF/g/40/TXXH4/j/moep9IJP6P9oa1eD4kvU/qu74qHDe7j9Y+hDdHArwP6EgdkqYovY/g3dHkJyv4D/Zur3Ga2ThP4uw7D3E8ew/1hPO6yIL+T9HhtIqEa32Pw==",
          "dtype": "f8"
         }
        }
       ],
       "layout": {
        "hovermode": "x unified",
        "template": {
         "data": {
          "bar": [
           {
            "error_x": {
             "color": "#2a3f5f"
            },
            "error_y": {
             "color": "#2a3f5f"
            },
            "marker": {
             "line": {
              "color": "white",
              "width": 0.5
             },
             "pattern": {
              "fillmode": "overlay",
              "size": 10,
              "solidity": 0.2
             }
            },
            "type": "bar"
           }
          ],
          "barpolar": [
           {
            "marker": {
             "line": {
              "color": "white",
              "width": 0.5
             },
             "pattern": {
              "fillmode": "overlay",
              "size": 10,
              "solidity": 0.2
             }
            },
            "type": "barpolar"
           }
          ],
          "carpet": [
           {
            "aaxis": {
             "endlinecolor": "#2a3f5f",
             "gridcolor": "#C8D4E3",
             "linecolor": "#C8D4E3",
             "minorgridcolor": "#C8D4E3",
             "startlinecolor": "#2a3f5f"
            },
            "baxis": {
             "endlinecolor": "#2a3f5f",
             "gridcolor": "#C8D4E3",
             "linecolor": "#C8D4E3",
             "minorgridcolor": "#C8D4E3",
             "startlinecolor": "#2a3f5f"
            },
            "type": "carpet"
           }
          ],
          "choropleth": [
           {
            "colorbar": {
             "outlinewidth": 0,
             "ticks": ""
            },
            "type": "choropleth"
           }
          ],
          "contour": [
           {
            "colorbar": {
             "outlinewidth": 0,
             "ticks": ""
            },
            "colorscale": [
             [
              0,
              "#0d0887"
             ],
             [
              0.1111111111111111,
              "#46039f"
             ],
             [
              0.2222222222222222,
              "#7201a8"
             ],
             [
              0.3333333333333333,
              "#9c179e"
             ],
             [
              0.4444444444444444,
              "#bd3786"
             ],
             [
              0.5555555555555556,
              "#d8576b"
             ],
             [
              0.6666666666666666,
              "#ed7953"
             ],
             [
              0.7777777777777778,
              "#fb9f3a"
             ],
             [
              0.8888888888888888,
              "#fdca26"
             ],
             [
              1,
              "#f0f921"
             ]
            ],
            "type": "contour"
           }
          ],
          "contourcarpet": [
           {
            "colorbar": {
             "outlinewidth": 0,
             "ticks": ""
            },
            "type": "contourcarpet"
           }
          ],
          "heatmap": [
           {
            "colorbar": {
             "outlinewidth": 0,
             "ticks": ""
            },
            "colorscale": [
             [
              0,
              "#0d0887"
             ],
             [
              0.1111111111111111,
              "#46039f"
             ],
             [
              0.2222222222222222,
              "#7201a8"
             ],
             [
              0.3333333333333333,
              "#9c179e"
             ],
             [
              0.4444444444444444,
              "#bd3786"
             ],
             [
              0.5555555555555556,
              "#d8576b"
             ],
             [
              0.6666666666666666,
              "#ed7953"
             ],
             [
              0.7777777777777778,
              "#fb9f3a"
             ],
             [
              0.8888888888888888,
              "#fdca26"
             ],
             [
              1,
              "#f0f921"
             ]
            ],
            "type": "heatmap"
           }
          ],
          "histogram": [
           {
            "marker": {
             "pattern": {
              "fillmode": "overlay",
              "size": 10,
              "solidity": 0.2
             }
            },
            "type": "histogram"
           }
          ],
          "histogram2d": [
           {
            "colorbar": {
             "outlinewidth": 0,
             "ticks": ""
            },
            "colorscale": [
             [
              0,
              "#0d0887"
             ],
             [
              0.1111111111111111,
              "#46039f"
             ],
             [
              0.2222222222222222,
              "#7201a8"
             ],
             [
              0.3333333333333333,
              "#9c179e"
             ],
             [
              0.4444444444444444,
              "#bd3786"
             ],
             [
              0.5555555555555556,
              "#d8576b"
             ],
             [
              0.6666666666666666,
              "#ed7953"
             ],
             [
              0.7777777777777778,
              "#fb9f3a"
             ],
             [
              0.8888888888888888,
              "#fdca26"
             ],
             [
              1,
              "#f0f921"
             ]
            ],
            "type": "histogram2d"
           }
          ],
          "histogram2dcontour": [
           {
            "colorbar": {
             "outlinewidth": 0,
             "ticks": ""
            },
            "colorscale": [
             [
              0,
              "#0d0887"
             ],
             [
              0.1111111111111111,
              "#46039f"
             ],
             [
              0.2222222222222222,
              "#7201a8"
             ],
             [
              0.3333333333333333,
              "#9c179e"
             ],
             [
              0.4444444444444444,
              "#bd3786"
             ],
             [
              0.5555555555555556,
              "#d8576b"
             ],
             [
              0.6666666666666666,
              "#ed7953"
             ],
             [
              0.7777777777777778,
              "#fb9f3a"
             ],
             [
              0.8888888888888888,
              "#fdca26"
             ],
             [
              1,
              "#f0f921"
             ]
            ],
            "type": "histogram2dcontour"
           }
          ],
          "mesh3d": [
           {
            "colorbar": {
             "outlinewidth": 0,
             "ticks": ""
            },
            "type": "mesh3d"
           }
          ],
          "parcoords": [
           {
            "line": {
             "colorbar": {
              "outlinewidth": 0,
              "ticks": ""
             }
            },
            "type": "parcoords"
           }
          ],
          "pie": [
           {
            "automargin": true,
            "type": "pie"
           }
          ],
          "scatter": [
           {
            "fillpattern": {
             "fillmode": "overlay",
             "size": 10,
             "solidity": 0.2
            },
            "type": "scatter"
           }
          ],
          "scatter3d": [
           {
            "line": {
             "colorbar": {
              "outlinewidth": 0,
              "ticks": ""
             }
            },
            "marker": {
             "colorbar": {
              "outlinewidth": 0,
              "ticks": ""
             }
            },
            "type": "scatter3d"
           }
          ],
          "scattercarpet": [
           {
            "marker": {
             "colorbar": {
              "outlinewidth": 0,
              "ticks": ""
             }
            },
            "type": "scattercarpet"
           }
          ],
          "scattergeo": [
           {
            "marker": {
             "colorbar": {
              "outlinewidth": 0,
              "ticks": ""
             }
            },
            "type": "scattergeo"
           }
          ],
          "scattergl": [
           {
            "marker": {
             "colorbar": {
              "outlinewidth": 0,
              "ticks": ""
             }
            },
            "type": "scattergl"
           }
          ],
          "scattermap": [
           {
            "marker": {
             "colorbar": {
              "outlinewidth": 0,
              "ticks": ""
             }
            },
            "type": "scattermap"
           }
          ],
          "scattermapbox": [
           {
            "marker": {
             "colorbar": {
              "outlinewidth": 0,
              "ticks": ""
             }
            },
            "type": "scattermapbox"
           }
          ],
          "scatterpolar": [
           {
            "marker": {
             "colorbar": {
              "outlinewidth": 0,
              "ticks": ""
             }
            },
            "type": "scatterpolar"
           }
          ],
          "scatterpolargl": [
           {
            "marker": {
             "colorbar": {
              "outlinewidth": 0,
              "ticks": ""
             }
            },
            "type": "scatterpolargl"
           }
          ],
          "scatterternary": [
           {
            "marker": {
             "colorbar": {
              "outlinewidth": 0,
              "ticks": ""
             }
            },
            "type": "scatterternary"
           }
          ],
          "surface": [
           {
            "colorbar": {
             "outlinewidth": 0,
             "ticks": ""
            },
            "colorscale": [
             [
              0,
              "#0d0887"
             ],
             [
              0.1111111111111111,
              "#46039f"
             ],
             [
              0.2222222222222222,
              "#7201a8"
             ],
             [
              0.3333333333333333,
              "#9c179e"
             ],
             [
              0.4444444444444444,
              "#bd3786"
             ],
             [
              0.5555555555555556,
              "#d8576b"
             ],
             [
              0.6666666666666666,
              "#ed7953"
             ],
             [
              0.7777777777777778,
              "#fb9f3a"
             ],
             [
              0.8888888888888888,
              "#fdca26"
             ],
             [
              1,
              "#f0f921"
             ]
            ],
            "type": "surface"
           }
          ],
          "table": [
           {
            "cells": {
             "fill": {
              "color": "#EBF0F8"
             },
             "line": {
              "color": "white"
             }
            },
            "header": {
             "fill": {
              "color": "#C8D4E3"
             },
             "line": {
              "color": "white"
             }
            },
            "type": "table"
           }
          ]
         },
         "layout": {
          "annotationdefaults": {
           "arrowcolor": "#2a3f5f",
           "arrowhead": 0,
           "arrowwidth": 1
          },
          "autotypenumbers": "strict",
          "coloraxis": {
           "colorbar": {
            "outlinewidth": 0,
            "ticks": ""
           }
          },
          "colorscale": {
           "diverging": [
            [
             0,
             "#8e0152"
            ],
            [
             0.1,
             "#c51b7d"
            ],
            [
             0.2,
             "#de77ae"
            ],
            [
             0.3,
             "#f1b6da"
            ],
            [
             0.4,
             "#fde0ef"
            ],
            [
             0.5,
             "#f7f7f7"
            ],
            [
             0.6,
             "#e6f5d0"
            ],
            [
             0.7,
             "#b8e186"
            ],
            [
             0.8,
             "#7fbc41"
            ],
            [
             0.9,
             "#4d9221"
            ],
            [
             1,
             "#276419"
            ]
           ],
           "sequential": [
            [
             0,
             "#0d0887"
            ],
            [
             0.1111111111111111,
             "#46039f"
            ],
            [
             0.2222222222222222,
             "#7201a8"
            ],
            [
             0.3333333333333333,
             "#9c179e"
            ],
            [
             0.4444444444444444,
             "#bd3786"
            ],
            [
             0.5555555555555556,
             "#d8576b"
            ],
            [
             0.6666666666666666,
             "#ed7953"
            ],
            [
             0.7777777777777778,
             "#fb9f3a"
            ],
            [
             0.8888888888888888,
             "#fdca26"
            ],
            [
             1,
             "#f0f921"
            ]
           ],
           "sequentialminus": [
            [
             0,
             "#0d0887"
            ],
            [
             0.1111111111111111,
             "#46039f"
            ],
            [
             0.2222222222222222,
             "#7201a8"
            ],
            [
             0.3333333333333333,
             "#9c179e"
            ],
            [
             0.4444444444444444,
             "#bd3786"
            ],
            [
             0.5555555555555556,
             "#d8576b"
            ],
            [
             0.6666666666666666,
             "#ed7953"
            ],
            [
             0.7777777777777778,
             "#fb9f3a"
            ],
            [
             0.8888888888888888,
             "#fdca26"
            ],
            [
             1,
             "#f0f921"
            ]
           ]
          },
          "colorway": [
           "#636efa",
           "#EF553B",
           "#00cc96",
           "#ab63fa",
           "#FFA15A",
           "#19d3f3",
           "#FF6692",
           "#B6E880",
           "#FF97FF",
           "#FECB52"
          ],
          "font": {
           "color": "#2a3f5f"
          },
          "geo": {
           "bgcolor": "white",
           "lakecolor": "white",
           "landcolor": "white",
           "showlakes": true,
           "showland": true,
           "subunitcolor": "#C8D4E3"
          },
          "hoverlabel": {
           "align": "left"
          },
          "hovermode": "closest",
          "mapbox": {
           "style": "light"
          },
          "paper_bgcolor": "white",
          "plot_bgcolor": "white",
          "polar": {
           "angularaxis": {
            "gridcolor": "#EBF0F8",
            "linecolor": "#EBF0F8",
            "ticks": ""
           },
           "bgcolor": "white",
           "radialaxis": {
            "gridcolor": "#EBF0F8",
            "linecolor": "#EBF0F8",
            "ticks": ""
           }
          },
          "scene": {
           "xaxis": {
            "backgroundcolor": "white",
            "gridcolor": "#DFE8F3",
            "gridwidth": 2,
            "linecolor": "#EBF0F8",
            "showbackground": true,
            "ticks": "",
            "zerolinecolor": "#EBF0F8"
           },
           "yaxis": {
            "backgroundcolor": "white",
            "gridcolor": "#DFE8F3",
            "gridwidth": 2,
            "linecolor": "#EBF0F8",
            "showbackground": true,
            "ticks": "",
            "zerolinecolor": "#EBF0F8"
           },
           "zaxis": {
            "backgroundcolor": "white",
            "gridcolor": "#DFE8F3",
            "gridwidth": 2,
            "linecolor": "#EBF0F8",
            "showbackground": true,
            "ticks": "",
            "zerolinecolor": "#EBF0F8"
           }
          },
          "shapedefaults": {
           "line": {
            "color": "#2a3f5f"
           }
          },
          "ternary": {
           "aaxis": {
            "gridcolor": "#DFE8F3",
            "linecolor": "#A2B1C6",
            "ticks": ""
           },
           "baxis": {
            "gridcolor": "#DFE8F3",
            "linecolor": "#A2B1C6",
            "ticks": ""
           },
           "bgcolor": "white",
           "caxis": {
            "gridcolor": "#DFE8F3",
            "linecolor": "#A2B1C6",
            "ticks": ""
           }
          },
          "title": {
           "x": 0.05
          },
          "xaxis": {
           "automargin": true,
           "gridcolor": "#EBF0F8",
           "linecolor": "#EBF0F8",
           "ticks": "",
           "title": {
            "standoff": 15
           },
           "zerolinecolor": "#EBF0F8",
           "zerolinewidth": 2
          },
          "yaxis": {
           "automargin": true,
           "gridcolor": "#EBF0F8",
           "linecolor": "#EBF0F8",
           "ticks": "",
           "title": {
            "standoff": 15
           },
           "zerolinecolor": "#EBF0F8",
           "zerolinewidth": 2
          }
         }
        },
        "title": {
         "text": "Figure: Number of Researchers"
        },
        "xaxis": {
         "title": {
          "text": "Year"
         }
        },
        "yaxis": {
         "title": {
          "text": "Number of Researchers (Millions)"
         }
        }
       }
      }
     },
     "metadata": {},
     "output_type": "display_data"
    }
   ],
   "source": [
    "# Test new implementations with dummy data if needed\n",
    "dummy_gdp_data = pd.DataFrame({\n",
    "    'source': ['Annual growth rate of the GDP'] * 69,\n",
    "    'year': list(range(2000, 2023)) * 3,\n",
    "    'country': ['United States'] * 23 + ['China'] * 23 + ['Germany'] * 23,\n",
    "    'value': np.random.uniform(-5, 10, 69),  # GDP growth can be negative\n",
    "})\n",
    "\n",
    "fig = create_gdp_plot(dummy_gdp_data)\n",
    "fig.show()\n",
    "\n",
    "dummy_researchers_data = pd.DataFrame({\n",
    "    'source': ['Number of Researchers'] * 69,\n",
    "    'year': list(range(2000, 2023)) * 3,\n",
    "    'country': ['United States'] * 23 + ['China'] * 23 + ['Germany'] * 23,\n",
    "    'value': np.random.uniform(500000, 2000000, 69),  # Values in absolute numbers\n",
    "})\n",
    "\n",
    "fig = create_researchers_plot(dummy_researchers_data)\n",
    "fig.show()"
   ]
  },
  {
   "cell_type": "markdown",
   "metadata": {},
   "source": [
    "## 7. Suggested Implementation for App\n",
    "\n",
    "Based on the testing, here's the implementations for the missing plot functions in the app.py file:"
   ]
  },
  {
   "cell_type": "code",
   "execution_count": null,
   "metadata": {},
   "outputs": [],
   "source": [
    "# add to app.py\n",
    "print(\"\"\"\n",
    "# Add these functions to your app.py file:\n",
    "\n",
    "def create_gdp_plot(data: pd.DataFrame):\n",
    "    \"\"\"Create GDP article plot with annotations for economic events\"\"\"\n",
    "    fig = go.Figure()\n",
    "    \n",
    "    for country in data['country'].unique():\n",
    "        country_data = data[data['country'] == country]\n",
    "        fig.add_trace(go.Scatter(\n",
    "            x=country_data['year'],\n",
    "            y=country_data['value'],\n",
    "            mode='lines+markers',\n",
    "            name=country,\n",
    "            line=dict(width=2),\n",
    "            marker=dict(size=6)\n",
    "        ))\n",
    "    \n",
    "    # Add vertical lines and annotations for economic events\n",
    "    fig.add_vline(x=2007.5, line_dash=\"dash\", line_color=\"grey\")\n",
    "    fig.add_vline(x=2019.5, line_dash=\"dash\", line_color=\"grey\")\n",
    "    \n",
    "    # Calculate y-position for annotations based on data\n",
    "    max_val = max([max(trace['y']) for trace in fig.data]) if fig.data else 10\n",
    "    \n",
    "    fig.add_annotation(\n",
    "        x=2007.5, \n",
    "        y=max_val * 0.9,\n",
    "        text=\"Financial Crisis\", \n",
    "        showarrow=True,\n",
    "        arrowhead=1\n",
    "    )\n",
    "    fig.add_annotation(\n",
    "        x=2019.5, \n",
    "        y=max_val * 0.8,\n",
    "        text=\"COVID-19\", \n",
    "        showarrow=True,\n",
    "        arrowhead=1\n",
    "    )\n",
    "    \n",
    "    fig.update_layout(\n",
    "        title=\"Figure: Annual growth rate of the GDP\",\n",
    "        xaxis_title=\"Year\",\n",
    "        yaxis_title=\"GDP Growth Rate (%)\",\n",
    "        template='plotly_white',\n",
    "        hovermode='x unified'\n",
    "    )\n",
    "    \n",
    "    return fig\n",
    "\n",
    "def create_researchers_plot(data: pd.DataFrame):\n",
    "    \"\"\"Create researchers plot with values in millions\"\"\"\n",
    "    fig = go.Figure()\n",
    "    \n",
    "    for country in data['country'].unique():\n",
    "        country_data = data[data['country'] == country]\n",
    "        scaled_values = country_data['value'] / 1e6  # Convert to millions\n",
    "        \n",
    "        fig.add_trace(go.Scatter(\n",
    "            x=country_data['year'],\n",
    "            y=scaled_values,\n",
    "            mode='lines+markers',\n",
    "            name=country,\n",
    "            line=dict(width=2),\n",
    "            marker=dict(size=6)\n",
    "        ))\n",
    "    \n",
    "    fig.update_layout(\n",
    "        title=\"Figure: Number of Researchers\",\n",
    "        xaxis_title=\"Year\",\n",
    "        yaxis_title=\"Number of Researchers (Millions)\",\n",
    "        template='plotly_white',\n",
    "        hovermode='x unified'\n",
    "    )\n",
    "    \n",
    "    return fig\n",
    "\n",
    "def create_cs_expansion_plot(data: pd.DataFrame):\n",
    "    \"\"\"Create chemical space expansion plot\"\"\"\n",
    "    fig = go.Figure()\n",
    "    \n",
    "    for country in data['country'].unique():\n",
    "        country_data = data[data['country'] == country]\n",
    "        fig.add_trace(go.Scatter(\n",
    "            x=country_data['year'],\n",
    "            y=country_data['value'],\n",
    "            mode='lines+markers',\n",
    "            name=country,\n",
    "            line=dict(width=2),\n",
    "            marker=dict(size=6)\n",
    "        ))\n",
    "    \n",
    "    fig.update_layout(\n",
    "        title=\"Figure: Chemical Space Expansion\",\n",
    "        xaxis_title=\"Year\",\n",
    "        yaxis_title=\"Expansion Rate\",\n",
    "        template='plotly_white',\n",
    "        hovermode='x unified'\n",
    "    )\n",
    "    \n",
    "    return fig\n",
    "\"\"\")\n",
    "\n",
    "print(\"\"\"\n",
    "# Then modify your server function to add these plot outputs:\n",
    "\n",
    "@output\n",
    "@render.plot\n",
    "def article_gdp_plot():\n",
    "    article_data = data_objects['article_data']\n",
    "    gdp_data = article_data[article_data['source'] == \"Annual growth rate of the GDP\"]\n",
    "    \n",
    "    if gdp_data.empty:\n",
    "        return create_empty_plot(\"No GDP data available\")\n",
    "        \n",
    "    return create_gdp_plot(gdp_data)\n",
    "\n",
    "@output\n",
    "@render.plot\n",
    "def article_researchers_plot():\n",
    "    article_data = data_objects['article_data']\n",
    "    researchers_data = article_data[article_data['source'] == \"Number of Researchers\"]\n",
    "    \n",
    "    if researchers_data.empty:\n",
    "        return create_empty_plot(\"No researchers data available\")\n",
    "        \n",
    "    return create_researchers_plot(researchers_data)\n",
    "\n",
    "@output\n",
    "@render.plot\n",
    "def article_cs_expansion_plot():\n",
    "    article_data = data_objects['article_data']\n",
    "    cs_data = article_data[article_data['source'] == \"CS Expansion\"]\n",
    "    \n",
    "    if cs_data.empty:\n",
    "        return create_empty_plot(\"No CS expansion data available\")\n",
    "        \n",
    "    return create_cs_expansion_plot(cs_data)\n",
    "\"\"\")"
   ]
  },
  {
   "cell_type": "markdown",
   "metadata": {},
   "source": [
    "## 8. Checking for Missing Imports\n",
    "\n",
    "Let's verify that all necessary imports are included the app.py file."
   ]
  },
  {
   "cell_type": "code",
   "execution_count": null,
   "metadata": {},
   "outputs": [],
   "source": [
    "print(\"\"\"\n",
    "Make sure app.py includes all these imports:\n",
    "\n",
    "import pandas as pd\n",
    "import plotly.express as px\n",
    "import plotly.graph_objects as go\n",
    "from plotly.subplots import make_subplots\n",
    "import geopandas as gpd\n",
    "import folium\n",
    "from folium import plugins\n",
    "from shiny import App, ui, render, reactive\n",
    "from shiny.types import FileInfo\n",
    "from pathlib import Path\n",
    "from typing import List, Dict, Optional, Tuple\n",
    "import numpy as np\n",
    "\"\"\")"
   ]
  }
 ],
 "metadata": {
  "kernelspec": {
   "display_name": "venv",
   "language": "python",
   "name": "python3"
  },
  "language_info": {
   "codemirror_mode": {
    "name": "ipython",
    "version": 3
   },
   "file_extension": ".py",
   "mimetype": "text/x-python",
   "name": "python",
   "nbconvert_exporter": "python",
   "pygments_lexer": "ipython3",
   "version": "3.12.3"
  }
 },
 "nbformat": 4,
 "nbformat_minor": 4
}
